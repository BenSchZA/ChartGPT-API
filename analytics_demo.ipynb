{
 "cells": [
  {
   "attachments": {},
   "cell_type": "markdown",
   "metadata": {},
   "source": [
    "# NFTfi AGI - Analytics Demo"
   ]
  },
  {
   "attachments": {},
   "cell_type": "markdown",
   "metadata": {},
   "source": [
    "### TODO: description of what we do there from a business perspective\n",
    "we are using NL questions to query BigQuery DB to plot stuff.\n",
    "\n",
    "\"You can query the underlying Dune <blah>\"\n",
    "+ have a single per cell with the run thing, w/o the list of question. pre-generate all the output.\n"
   ]
  },
  {
   "cell_type": "code",
   "execution_count": 1,
   "metadata": {},
   "outputs": [],
   "source": [
    "import setup\n",
    "\n",
    "from nftBot.ChartBot.single_stream import run"
   ]
  },
  {
   "cell_type": "code",
   "execution_count": null,
   "metadata": {},
   "outputs": [],
   "source": [
    "project_id = \"psychic-medley-383515\"\n",
    "dataset_id = \"dune_dataset\"\n",
    "question = \"Plot the loan principal amount grouped by protocol (i.e. nftfi, benddao, arcade)\"\n",
    "questions = [{'question': question}]\n",
    "\n",
    "run(questions=questions, dataset_id=dataset_id)"
   ]
  },
  {
   "cell_type": "code",
   "execution_count": null,
   "metadata": {},
   "outputs": [],
   "source": [
    "question = \"Plot the loan principal amount grouped by protocol (i.e. nftfi, benddao, arcade) for December 2022 to February 2023\"\n",
    "questions = [{'question': question}]\n",
    "run(questions=questions, dataset_id=dataset_id)"
   ]
  },
  {
   "attachments": {},
   "cell_type": "markdown",
   "metadata": {},
   "source": [
    "## Dataset: aggregated users across lending protocols."
   ]
  },
  {
   "attachments": {},
   "cell_type": "markdown",
   "metadata": {},
   "source": [
    "## Dataset: Users across Lending protocols"
   ]
  },
  {
   "cell_type": "code",
   "execution_count": null,
   "metadata": {},
   "outputs": [],
   "source": [
    "project_id = \"psychic-medley-383515\"\n",
    "dataset_id = \"nft_lending_aggregated_users\"\n",
    "question = \"Plot the loan principal amount grouped by protocol (i.e. nftfi, benddao, arcade)\"\n",
    "questions = [{'question': question}]\n",
    "\n",
    "run(questions=questions, dataset_id=dataset_id)"
   ]
  },
  {
   "cell_type": "code",
   "execution_count": null,
   "metadata": {},
   "outputs": [],
   "source": [
    "question = \"Plot the weekly NFT finance market share by unique users\"\n",
    "questions = [{'question': question}]\n",
    "\n",
    "run(questions=questions, dataset_id=dataset_id)"
   ]
  },
  {
   "cell_type": "code",
   "execution_count": null,
   "metadata": {},
   "outputs": [],
   "source": [
    "question = \"What were the cumulative number of users of NFTfi on March 31st 2023?\"\n",
    "questions = [{'question': question}]\n",
    "\n",
    "run(questions=questions, dataset_id=dataset_id)"
   ]
  },
  {
   "cell_type": "code",
   "execution_count": null,
   "metadata": {},
   "outputs": [],
   "source": [
    "question = \"On what date x2y2 had the highest number of users?\"\n",
    "questions = [{'question': question}]\n",
    "\n",
    "run(questions=questions, dataset_id=dataset_id)"
   ]
  },
  {
   "cell_type": "code",
   "execution_count": null,
   "metadata": {},
   "outputs": [],
   "source": []
  },
  {
   "attachments": {},
   "cell_type": "markdown",
   "metadata": {},
   "source": [
    "## Appendix"
   ]
  },
  {
   "cell_type": "code",
   "execution_count": null,
   "metadata": {},
   "outputs": [],
   "source": [
    "\n",
    "questions_for_sets = {\n",
    "    \"nft_lending_aggregated_borrow\": [\n",
    "        \"Plot the loan volume grouped by protocol (nftfi, benddao, arcade) from 2020 to 2023\",\n",
    "        \"Give me a plot to depict distribution of loan volume across protocols (nftfi, benddao, x2y2 [...])\",\n",
    "\n",
    "        \"Return visualization of loan data\",\n",
    "        \"Return visualization of NFTfi loan data\",\n",
    "        \"Plot the daily Loan Principal Amount for January 2023\",\n",
    "        \"Plot nftfi borrow daily volume for March 2023\",\n",
    "        \"Plot monthly nftfi borrow volume, x2y2 borrow volume, and arcade borrow volume\",\n",
    "        \"Plot nftfi borrow daily volume for March 2023\",\n",
    "    ],\n",
    "    \"nftfi_loan_data\": [\"Return visualization of NFTfi loan data\",\n",
    "                        \"Plot the loan principal amount of the top 5 asset classes in from database\",  #  for December 2022\n",
    "                        \"Show the daily Loan Principal Amount for February 2023\",\n",
    "                        \"Plot total loan principal amount for each asset classes\"],\n",
    "}\n",
    "questions = []\n",
    "project_id = \"psychic-medley-383515\"\n",
    "dataset_id = \"nftfi_loan_data\"\n",
    "dataset_name = \"nftfi_loan_data\"\n",
    "# manual_question = \"Return a visualization of the top 5 asset classes that had the highest volume\"\n",
    "manual_question = {'question': questions_for_sets[dataset_id][1]}\n",
    "questions.append(manual_question)\n",
    "\n",
    "run(questions=questions, dataset_id=dataset_id)"
   ]
  },
  {
   "cell_type": "code",
   "execution_count": null,
   "metadata": {},
   "outputs": [],
   "source": [
    "\n",
    "questions_for_sets = {\n",
    "    \"dune_dataset\": [\n",
    "        \"Plot the loan principal amount grouped by protocol (i.e. nftfi, benddao, arcade)\",\n",
    "        \"Plot the loan principal amount across protocols (nftfi, benddao, arcade)\",\n",
    "        \"Plot the loan principal amount across protocols (nftfi, benddao, arcade) in 2023\",\n",
    "        \"Plot the loan principal amount grouped by protocol (i.e. nftfi, benddao, arcade) for December 2022 to February 2023\",\n",
    "    ]\n",
    "}\n",
    "questions = []\n",
    "project_id = \"psychic-medley-383515\"\n",
    "dataset_id = \"dune_dataset\"\n",
    "manual_question = {'question': questions_for_sets[dataset_id][1]}\n",
    "questions.append(manual_question)\n",
    "\n",
    "run(questions=questions, dataset_id=dataset_id)"
   ]
  },
  {
   "cell_type": "code",
   "execution_count": null,
   "metadata": {},
   "outputs": [],
   "source": [
    "questions_for_sets = {\n",
    "    \"nft_lending_aggregated_users\": [\n",
    "        \"Plot daily users for nftfi, x2y2 and arcade\",\n",
    "        \"Plot the weekly NFT finance market share by unique users\",\n",
    "        \"What were the cumulative number of users of NFTfi on March 31st 2023?\",\n",
    "        \"On what date x2y2 had the highest number of users?\",\n",
    "    ]\n",
    "}\n",
    "\n",
    "project_id = \"psychic-medley-383515\"\n",
    "dataset_id = \"nft_lending_aggregated_users\"\n",
    "question = \"Plot the loan principal amount grouped by protocol (i.e. nftfi, benddao, arcade)\"\n",
    "questions = [{'question': question}]\n",
    "\n",
    "run(questions=questions, dataset_id=dataset_id)"
   ]
  }
 ],
 "metadata": {
  "kernelspec": {
   "display_name": "venv",
   "language": "python",
   "name": "python3"
  },
  "language_info": {
   "codemirror_mode": {
    "name": "ipython",
    "version": 3
   },
   "file_extension": ".py",
   "mimetype": "text/x-python",
   "name": "python",
   "nbconvert_exporter": "python",
   "pygments_lexer": "ipython3",
   "version": "3.9.12"
  },
  "orig_nbformat": 4
 },
 "nbformat": 4,
 "nbformat_minor": 2
}
