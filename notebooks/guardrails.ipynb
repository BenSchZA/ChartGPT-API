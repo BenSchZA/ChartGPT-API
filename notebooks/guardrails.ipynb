{
 "cells": [
  {
   "cell_type": "code",
   "execution_count": 5,
   "metadata": {},
   "outputs": [],
   "source": [
    "import setup\n",
    "import os\n",
    "\n",
    "# from chartgpt.agents.agent_toolkits.bigquery.utils import get_tables_summary\n",
    "from app.config.production import datasets\n",
    "\n",
    "OPENAI_API_KEY = os.environ.get(\"OPENAI_API_KEY\")"
   ]
  },
  {
   "cell_type": "code",
   "execution_count": 6,
   "metadata": {},
   "outputs": [],
   "source": [
    "from google.oauth2 import service_account\n",
    "import json\n",
    "from google.cloud import bigquery\n",
    "\n",
    "\n",
    "credentials = service_account.Credentials.from_service_account_info(json.loads(os.environ[\"GCP_SERVICE_ACCOUNT\"], strict=False))\n",
    "client = bigquery.Client(credentials=credentials)"
   ]
  },
  {
   "cell_type": "code",
   "execution_count": 7,
   "metadata": {},
   "outputs": [],
   "source": [
    "from typing import Dict, List, Tuple, Union\n",
    "\n",
    "from app.config import Dataset\n",
    "\n",
    "\n",
    "def get_tables_summary(\n",
    "        client: bigquery.Client,\n",
    "        datasets: List[Dataset],\n",
    "        include_types = False\n",
    ") -> Dict[str, List[Dict[str, List[Union[Tuple[str, str], str]]]]]:\n",
    "    # Generate tables_summary for all tables in datasets\n",
    "    tables_summary = {}\n",
    "    for dataset in datasets:\n",
    "        dataset_id = dataset.id\n",
    "        tables_summary[dataset_id] = {}\n",
    "        for table_id in dataset.tables:\n",
    "            table_ref = client.dataset(dataset_id).table(table_id)\n",
    "            table = client.get_table(table_ref)\n",
    "            tables_summary[dataset_id][table_id] = [\n",
    "                (schema_field.name, schema_field.field_type) if include_types else schema_field.name\n",
    "                for schema_field in table.schema\n",
    "            ]\n",
    "    return tables_summary"
   ]
  },
  {
   "cell_type": "code",
   "execution_count": 8,
   "metadata": {},
   "outputs": [
    {
     "data": {
      "text/plain": [
       "\"{'metaquants_nft_finance_aggregator': {'p2p_and_p2pool_loan_data_borrow': [('transaction_hash', 'STRING'), ('block_timestamp', 'TIMESTAMP'), ('loan_id', 'STRING'), ('to_address', 'STRING'), ('from_address', 'STRING'), ('principal_amount', 'FLOAT'), ('repayment_amount', 'FLOAT'), ('erc20_address', 'STRING'), ('erc20_name', 'STRING'), ('due_date', 'TIMESTAMP'), ('duration_in_days', 'FLOAT'), ('apr', 'FLOAT'), ('token_id', 'STRING'), ('collection_address', 'STRING'), ('protocol', 'STRING'), ('amt_in_usd', 'FLOAT'), ('roll_over', 'BOOLEAN'), ('block_number', 'STRING'), ('p2p_p2pool', 'STRING')]}}\""
      ]
     },
     "execution_count": 8,
     "metadata": {},
     "output_type": "execute_result"
    }
   ],
   "source": [
    "tables_summary = get_tables_summary(client=client, datasets=datasets, include_types=True)\n",
    "str(tables_summary)"
   ]
  },
  {
   "cell_type": "code",
   "execution_count": 9,
   "metadata": {},
   "outputs": [
    {
     "name": "stdout",
     "output_type": "stream",
     "text": [
      "['output_schema', 'previous_response']\n"
     ]
    }
   ],
   "source": [
    "from chartgpt.guardrails.applications.text2sql import Text2Sql\n",
    "# from chartgpt.guardrails.validators import BugFreeBigQuerySQL\n",
    "\n",
    "EXAMPLES = \"chartgpt/guardrails/applications/examples.json\"\n",
    "\n",
    "with open(EXAMPLES, \"r\") as f:\n",
    "    examples = json.load(f)\n",
    "\n",
    "app = Text2Sql(\n",
    "    client=client,\n",
    "    sql_schema=str(tables_summary),\n",
    "    examples=examples,\n",
    ")"
   ]
  },
  {
   "cell_type": "code",
   "execution_count": 10,
   "metadata": {},
   "outputs": [
    {
     "name": "stdout",
     "output_type": "stream",
     "text": [
      "SELECT AVG(apr) as average_apr \n",
      "FROM `metaquants_nft_finance_aggregator.p2p_and_p2pool_loan_data_borrow` \n",
      "WHERE LOWER(protocol) = LOWER('***REMOVED***') \n",
      "AND block_timestamp >= TIMESTAMP(DATE_SUB(CURRENT_DATE(), INTERVAL 6 MONTH))\n",
      "None\n"
     ]
    },
    {
     "ename": "AttributeError",
     "evalue": "'NoneType' object has no attribute 'get'",
     "output_type": "error",
     "traceback": [
      "\u001b[0;31m---------------------------------------------------------------------------\u001b[0m",
      "\u001b[0;31mAttributeError\u001b[0m                            Traceback (most recent call last)",
      "Cell \u001b[0;32mIn[10], line 1\u001b[0m\n\u001b[0;32m----> 1\u001b[0m query \u001b[39m=\u001b[39m app(\u001b[39m\"\u001b[39;49m\u001b[39mWhat is the average APR for the ***REMOVED*** protocol in the past 6 months\u001b[39;49m\u001b[39m\"\u001b[39;49m)\n\u001b[1;32m      2\u001b[0m query\n",
      "File \u001b[0;32m~/workspace/***REMOVED***/ChartGPT/ChartGPT/chartgpt/guardrails/applications/text2sql.py:209\u001b[0m, in \u001b[0;36mText2Sql.__call__\u001b[0;34m(self, text)\u001b[0m\n\u001b[1;32m    207\u001b[0m     \u001b[39mprint\u001b[39m(raw_response)\n\u001b[1;32m    208\u001b[0m     \u001b[39mprint\u001b[39m(validated_response)\n\u001b[0;32m--> 209\u001b[0m     output \u001b[39m=\u001b[39m validated_response\u001b[39m.\u001b[39;49mget(\u001b[39m\"\u001b[39m\u001b[39mgenerated_sql\u001b[39m\u001b[39m\"\u001b[39m, \u001b[39mNone\u001b[39;00m)\n\u001b[1;32m    210\u001b[0m     \u001b[39m# output = raw_output[1].get(\"generated_sql\", None)\u001b[39;00m\n\u001b[1;32m    211\u001b[0m \u001b[39mexcept\u001b[39;00m \u001b[39mTypeError\u001b[39;00m:\n",
      "\u001b[0;31mAttributeError\u001b[0m: 'NoneType' object has no attribute 'get'"
     ]
    }
   ],
   "source": [
    "query = app(\"What is the average APR for the ***REMOVED*** protocol in the past 6 months\")\n",
    "query"
   ]
  },
  {
   "cell_type": "code",
   "execution_count": null,
   "metadata": {},
   "outputs": [
    {
     "data": {
      "text/plain": [
       "\"\\nHere's schema about the database that you can use to generate the GoogleSQL query.\\nTry to avoid using joins if the data can be retrieved from the same table.\\n\\n{db_info}\\n\\nI will give you a list of examples. Write a GoogleSQL query similar to the examples below:\\n\\n{examples}\\n\\nINSTRUCTIONS:\\n---------\\n{nl_instruction}\\n\\nQUERY:\\n---------\\n\""
      ]
     },
     "execution_count": 7,
     "metadata": {},
     "output_type": "execute_result"
    }
   ],
   "source": [
    "app.guard.base_prompt"
   ]
  },
  {
   "cell_type": "code",
   "execution_count": 8,
   "metadata": {},
   "outputs": [
    {
     "ename": "BadRequest",
     "evalue": "400 Syntax error: Expected end of input but got \"{\" at [1:1]\n\nLocation: US\nJob ID: 6c5cc2b3-66b5-4cba-a6a3-97c5c3ad351d\n",
     "output_type": "error",
     "traceback": [
      "\u001b[0;31m---------------------------------------------------------------------------\u001b[0m",
      "\u001b[0;31mBadRequest\u001b[0m                                Traceback (most recent call last)",
      "Cell \u001b[0;32mIn[8], line 3\u001b[0m\n\u001b[1;32m      1\u001b[0m query_job \u001b[39m=\u001b[39m client\u001b[39m.\u001b[39mquery(query)\n\u001b[0;32m----> 3\u001b[0m \u001b[39mfor\u001b[39;00m row \u001b[39min\u001b[39;00m query_job:\n\u001b[1;32m      4\u001b[0m     \u001b[39mprint\u001b[39m(row)\n",
      "File \u001b[0;32m~/workspace/***REMOVED***/ChartGPT/ChartGPT/venv/lib/python3.9/site-packages/google/cloud/bigquery/job/query.py:1903\u001b[0m, in \u001b[0;36mQueryJob.__iter__\u001b[0;34m(self)\u001b[0m\n\u001b[1;32m   1902\u001b[0m \u001b[39mdef\u001b[39;00m \u001b[39m__iter__\u001b[39m(\u001b[39mself\u001b[39m):\n\u001b[0;32m-> 1903\u001b[0m     \u001b[39mreturn\u001b[39;00m \u001b[39miter\u001b[39m(\u001b[39mself\u001b[39;49m\u001b[39m.\u001b[39;49mresult())\n",
      "File \u001b[0;32m~/workspace/***REMOVED***/ChartGPT/ChartGPT/venv/lib/python3.9/site-packages/google/cloud/bigquery/job/query.py:1520\u001b[0m, in \u001b[0;36mQueryJob.result\u001b[0;34m(self, page_size, max_results, retry, timeout, start_index, job_retry)\u001b[0m\n\u001b[1;32m   1517\u001b[0m     \u001b[39mif\u001b[39;00m retry_do_query \u001b[39mis\u001b[39;00m \u001b[39mnot\u001b[39;00m \u001b[39mNone\u001b[39;00m \u001b[39mand\u001b[39;00m job_retry \u001b[39mis\u001b[39;00m \u001b[39mnot\u001b[39;00m \u001b[39mNone\u001b[39;00m:\n\u001b[1;32m   1518\u001b[0m         do_get_result \u001b[39m=\u001b[39m job_retry(do_get_result)\n\u001b[0;32m-> 1520\u001b[0m     do_get_result()\n\u001b[1;32m   1522\u001b[0m \u001b[39mexcept\u001b[39;00m exceptions\u001b[39m.\u001b[39mGoogleAPICallError \u001b[39mas\u001b[39;00m exc:\n\u001b[1;32m   1523\u001b[0m     exc\u001b[39m.\u001b[39mmessage \u001b[39m=\u001b[39m _EXCEPTION_FOOTER_TEMPLATE\u001b[39m.\u001b[39mformat(\n\u001b[1;32m   1524\u001b[0m         message\u001b[39m=\u001b[39mexc\u001b[39m.\u001b[39mmessage, location\u001b[39m=\u001b[39m\u001b[39mself\u001b[39m\u001b[39m.\u001b[39mlocation, job_id\u001b[39m=\u001b[39m\u001b[39mself\u001b[39m\u001b[39m.\u001b[39mjob_id\n\u001b[1;32m   1525\u001b[0m     )\n",
      "File \u001b[0;32m~/workspace/***REMOVED***/ChartGPT/ChartGPT/venv/lib/python3.9/site-packages/google/api_core/retry.py:349\u001b[0m, in \u001b[0;36mRetry.__call__.<locals>.retry_wrapped_func\u001b[0;34m(*args, **kwargs)\u001b[0m\n\u001b[1;32m    345\u001b[0m target \u001b[39m=\u001b[39m functools\u001b[39m.\u001b[39mpartial(func, \u001b[39m*\u001b[39margs, \u001b[39m*\u001b[39m\u001b[39m*\u001b[39mkwargs)\n\u001b[1;32m    346\u001b[0m sleep_generator \u001b[39m=\u001b[39m exponential_sleep_generator(\n\u001b[1;32m    347\u001b[0m     \u001b[39mself\u001b[39m\u001b[39m.\u001b[39m_initial, \u001b[39mself\u001b[39m\u001b[39m.\u001b[39m_maximum, multiplier\u001b[39m=\u001b[39m\u001b[39mself\u001b[39m\u001b[39m.\u001b[39m_multiplier\n\u001b[1;32m    348\u001b[0m )\n\u001b[0;32m--> 349\u001b[0m \u001b[39mreturn\u001b[39;00m retry_target(\n\u001b[1;32m    350\u001b[0m     target,\n\u001b[1;32m    351\u001b[0m     \u001b[39mself\u001b[39;49m\u001b[39m.\u001b[39;49m_predicate,\n\u001b[1;32m    352\u001b[0m     sleep_generator,\n\u001b[1;32m    353\u001b[0m     \u001b[39mself\u001b[39;49m\u001b[39m.\u001b[39;49m_timeout,\n\u001b[1;32m    354\u001b[0m     on_error\u001b[39m=\u001b[39;49mon_error,\n\u001b[1;32m    355\u001b[0m )\n",
      "File \u001b[0;32m~/workspace/***REMOVED***/ChartGPT/ChartGPT/venv/lib/python3.9/site-packages/google/api_core/retry.py:191\u001b[0m, in \u001b[0;36mretry_target\u001b[0;34m(target, predicate, sleep_generator, timeout, on_error, **kwargs)\u001b[0m\n\u001b[1;32m    189\u001b[0m \u001b[39mfor\u001b[39;00m sleep \u001b[39min\u001b[39;00m sleep_generator:\n\u001b[1;32m    190\u001b[0m     \u001b[39mtry\u001b[39;00m:\n\u001b[0;32m--> 191\u001b[0m         \u001b[39mreturn\u001b[39;00m target()\n\u001b[1;32m    193\u001b[0m     \u001b[39m# pylint: disable=broad-except\u001b[39;00m\n\u001b[1;32m    194\u001b[0m     \u001b[39m# This function explicitly must deal with broad exceptions.\u001b[39;00m\n\u001b[1;32m    195\u001b[0m     \u001b[39mexcept\u001b[39;00m \u001b[39mException\u001b[39;00m \u001b[39mas\u001b[39;00m exc:\n",
      "File \u001b[0;32m~/workspace/***REMOVED***/ChartGPT/ChartGPT/venv/lib/python3.9/site-packages/google/cloud/bigquery/job/query.py:1510\u001b[0m, in \u001b[0;36mQueryJob.result.<locals>.do_get_result\u001b[0;34m()\u001b[0m\n\u001b[1;32m   1507\u001b[0m     \u001b[39mself\u001b[39m\u001b[39m.\u001b[39m_retry_do_query \u001b[39m=\u001b[39m retry_do_query\n\u001b[1;32m   1508\u001b[0m     \u001b[39mself\u001b[39m\u001b[39m.\u001b[39m_job_retry \u001b[39m=\u001b[39m job_retry\n\u001b[0;32m-> 1510\u001b[0m \u001b[39msuper\u001b[39;49m(QueryJob, \u001b[39mself\u001b[39;49m)\u001b[39m.\u001b[39;49mresult(retry\u001b[39m=\u001b[39;49mretry, timeout\u001b[39m=\u001b[39;49mtimeout)\n\u001b[1;32m   1512\u001b[0m \u001b[39m# Since the job could already be \"done\" (e.g. got a finished job\u001b[39;00m\n\u001b[1;32m   1513\u001b[0m \u001b[39m# via client.get_job), the superclass call to done() might not\u001b[39;00m\n\u001b[1;32m   1514\u001b[0m \u001b[39m# set the self._query_results cache.\u001b[39;00m\n\u001b[1;32m   1515\u001b[0m \u001b[39mself\u001b[39m\u001b[39m.\u001b[39m_reload_query_results(retry\u001b[39m=\u001b[39mretry, timeout\u001b[39m=\u001b[39mtimeout)\n",
      "File \u001b[0;32m~/workspace/***REMOVED***/ChartGPT/ChartGPT/venv/lib/python3.9/site-packages/google/cloud/bigquery/job/base.py:922\u001b[0m, in \u001b[0;36m_AsyncJob.result\u001b[0;34m(self, retry, timeout)\u001b[0m\n\u001b[1;32m    919\u001b[0m     \u001b[39mself\u001b[39m\u001b[39m.\u001b[39m_begin(retry\u001b[39m=\u001b[39mretry, timeout\u001b[39m=\u001b[39mtimeout)\n\u001b[1;32m    921\u001b[0m kwargs \u001b[39m=\u001b[39m {} \u001b[39mif\u001b[39;00m retry \u001b[39mis\u001b[39;00m DEFAULT_RETRY \u001b[39melse\u001b[39;00m {\u001b[39m\"\u001b[39m\u001b[39mretry\u001b[39m\u001b[39m\"\u001b[39m: retry}\n\u001b[0;32m--> 922\u001b[0m \u001b[39mreturn\u001b[39;00m \u001b[39msuper\u001b[39;49m(_AsyncJob, \u001b[39mself\u001b[39;49m)\u001b[39m.\u001b[39;49mresult(timeout\u001b[39m=\u001b[39;49mtimeout, \u001b[39m*\u001b[39;49m\u001b[39m*\u001b[39;49mkwargs)\n",
      "File \u001b[0;32m~/workspace/***REMOVED***/ChartGPT/ChartGPT/venv/lib/python3.9/site-packages/google/api_core/future/polling.py:261\u001b[0m, in \u001b[0;36mPollingFuture.result\u001b[0;34m(self, timeout, retry, polling)\u001b[0m\n\u001b[1;32m    256\u001b[0m \u001b[39mself\u001b[39m\u001b[39m.\u001b[39m_blocking_poll(timeout\u001b[39m=\u001b[39mtimeout, retry\u001b[39m=\u001b[39mretry, polling\u001b[39m=\u001b[39mpolling)\n\u001b[1;32m    258\u001b[0m \u001b[39mif\u001b[39;00m \u001b[39mself\u001b[39m\u001b[39m.\u001b[39m_exception \u001b[39mis\u001b[39;00m \u001b[39mnot\u001b[39;00m \u001b[39mNone\u001b[39;00m:\n\u001b[1;32m    259\u001b[0m     \u001b[39m# pylint: disable=raising-bad-type\u001b[39;00m\n\u001b[1;32m    260\u001b[0m     \u001b[39m# Pylint doesn't recognize that this is valid in this case.\u001b[39;00m\n\u001b[0;32m--> 261\u001b[0m     \u001b[39mraise\u001b[39;00m \u001b[39mself\u001b[39m\u001b[39m.\u001b[39m_exception\n\u001b[1;32m    263\u001b[0m \u001b[39mreturn\u001b[39;00m \u001b[39mself\u001b[39m\u001b[39m.\u001b[39m_result\n",
      "\u001b[0;31mBadRequest\u001b[0m: 400 Syntax error: Expected end of input but got \"{\" at [1:1]\n\nLocation: US\nJob ID: 6c5cc2b3-66b5-4cba-a6a3-97c5c3ad351d\n"
     ]
    }
   ],
   "source": [
    "query_job = client.query(query)\n",
    "\n",
    "for row in query_job:\n",
    "    print(row)"
   ]
  },
  {
   "cell_type": "code",
   "execution_count": 3,
   "metadata": {},
   "outputs": [],
   "source": [
    "import openai\n",
    "import os\n",
    "\n",
    "from pydantic import BaseModel\n",
    "from rich import print\n",
    "from typing import List\n",
    "\n",
    "import guardrails as gd\n",
    "\n",
    "\n",
    "class Analytics(BaseModel):\n",
    "    \"\"\"\n",
    "    Analytics GoogleSQL query and Python code to execute it\n",
    "    \n",
    "    \"\"\"\n",
    "\n",
    "    sql_query: str\n",
    "    python_code: str\n",
    "\n",
    "guard = gd.Guard.from_pydantic(Analytics, prompt=\"What is the average APR for the ***REMOVED*** protocol in the past 6 months\")\n",
    "\n",
    "raw_llm_output, validated_output = guard(\n",
    "    openai.ChatCompletion.create,\n",
    "    model=\"gpt-4-0613\",\n",
    "    max_tokens=1024,\n",
    "    temperature=0.0,\n",
    ")"
   ]
  },
  {
   "cell_type": "code",
   "execution_count": 4,
   "metadata": {},
   "outputs": [
    {
     "data": {
      "text/plain": [
       "{'sql_query': 'SELECT AVG(APR) as average_APR FROM ***REMOVED***_protocol WHERE date >= DATE_SUB(CURRENT_DATE, INTERVAL 6 MONTH)',\n",
       " 'python_code': 'import pandas as pd\\nimport mysql.connector\\n\\n# Establish a connection to the database\\nmydb = mysql.connector.connect(host=\\'localhost\\', user=\\'root\\', password=\\'password\\', database=\\'database\\')\\n\\n# Create a cursor object\\nmycursor = mydb.cursor()\\n\\n# Execute the SQL query\\nmycursor.execute(\"SELECT AVG(APR) as average_APR FROM ***REMOVED***_protocol WHERE date >= DATE_SUB(CURRENT_DATE, INTERVAL 6 MONTH)\")\\n\\n# Fetch all the rows\\nrows = mycursor.fetchall()\\n\\n# Convert the result into a pandas dataframe\\ndf = pd.DataFrame(rows, columns=[\\'average_APR\\'])\\n\\n# Get the average APR\\naverage_APR = df[\\'average_APR\\'].mean()\\n\\n# Close the database connection\\nmydb.close()\\n\\nreturn average_APR'}"
      ]
     },
     "execution_count": 4,
     "metadata": {},
     "output_type": "execute_result"
    }
   ],
   "source": [
    "validated_output"
   ]
  },
  {
   "cell_type": "code",
   "execution_count": null,
   "metadata": {},
   "outputs": [],
   "source": [
    "rail_str = \"\"\"\n",
    "<rail version=\"0.1\">\n",
    "\n",
    "<output>\n",
    "    <pythoncode\n",
    "        name=\"python_code\"\n",
    "        format=\"bug-free-python\"\n",
    "        on-fail-bug-free-python=\"reask\"\n",
    "    />\n",
    "</output>\n",
    "\n",
    "\n",
    "<prompt>\n",
    "Given a data analysis query, write a short Python code snippet that answers the query using typical Python data analysis libraries.\n",
    "\n",
    "The Python code snippet should return a Pandas DataFrame or show an appropriate Plotly chart.\n",
    "\n",
    "You have access to an authenticated BigQuery client object named `client`.\n",
    "\n",
    "BigQuery Tables Summary:\n",
    "{{tables_summary}}\n",
    "\n",
    "Data Analysis Query:\n",
    "{{data_analysis_query}}\n",
    "\n",
    "@complete_json_suffix</prompt>\n",
    "\n",
    "</rail>\n",
    "\"\"\""
   ]
  },
  {
   "cell_type": "code",
   "execution_count": null,
   "metadata": {},
   "outputs": [],
   "source": [
    "import guardrails as gd\n",
    "\n",
    "from rich import print\n",
    "\n",
    "guard = gd.Guard.from_rail_string(rail_str)"
   ]
  },
  {
   "cell_type": "code",
   "execution_count": null,
   "metadata": {},
   "outputs": [
    {
     "data": {
      "text/html": [
       "<pre style=\"white-space:pre;overflow-x:auto;line-height:normal;font-family:Menlo,'DejaVu Sans Mono',consolas,'Courier New',monospace\">\n",
       "Given a data analysis query, write a short Python code snippet that answers the query using typical Python data \n",
       "analysis libraries.\n",
       "\n",
       "The Python code snippet should return a Pandas DataFrame or show an appropriate Plotly chart.\n",
       "\n",
       "You have access to an authenticated BigQuery client object named `client`.\n",
       "\n",
       "BigQuery Tables Summary:\n",
       "<span style=\"font-weight: bold\">{</span>tables_summary<span style=\"font-weight: bold\">}</span>\n",
       "\n",
       "Data Analysis Query:\n",
       "<span style=\"font-weight: bold\">{</span>data_analysis_query<span style=\"font-weight: bold\">}</span>\n",
       "\n",
       "\n",
       "Given below is XML that describes the information to extract from this document and the tags to extract it into.\n",
       "\n",
       "<span style=\"font-weight: bold\">&lt;</span><span style=\"color: #ff00ff; text-decoration-color: #ff00ff; font-weight: bold\">output</span><span style=\"color: #000000; text-decoration-color: #000000\">&gt;</span>\n",
       "<span style=\"color: #000000; text-decoration-color: #000000\">    &lt;pythoncode </span><span style=\"color: #808000; text-decoration-color: #808000\">name</span><span style=\"color: #000000; text-decoration-color: #000000\">=</span><span style=\"color: #008000; text-decoration-color: #008000\">\"python_code\"</span><span style=\"color: #000000; text-decoration-color: #000000\"> </span><span style=\"color: #808000; text-decoration-color: #808000\">format</span><span style=\"color: #000000; text-decoration-color: #000000\">=</span><span style=\"color: #008000; text-decoration-color: #008000\">\"bug-free-python\"</span><span style=\"color: #800080; text-decoration-color: #800080\">/</span><span style=\"color: #000000; text-decoration-color: #000000\">&gt;</span>\n",
       "<span style=\"color: #000000; text-decoration-color: #000000\">&lt;</span><span style=\"color: #800080; text-decoration-color: #800080\">/</span><span style=\"color: #ff00ff; text-decoration-color: #ff00ff\">output</span><span style=\"color: #000000; text-decoration-color: #000000\">&gt;</span>\n",
       "\n",
       "\n",
       "<span style=\"color: #000000; text-decoration-color: #000000\">ONLY return a valid JSON object </span><span style=\"color: #000000; text-decoration-color: #000000; font-weight: bold\">(</span><span style=\"color: #000000; text-decoration-color: #000000\">no other text is necessary</span><span style=\"color: #000000; text-decoration-color: #000000; font-weight: bold\">)</span><span style=\"color: #000000; text-decoration-color: #000000\">, where the key of the field in JSON is the `name` </span>\n",
       "<span style=\"color: #000000; text-decoration-color: #000000\">attribute of the corresponding XML, and the value is of the type specified by the corresponding XML's tag. The JSON</span>\n",
       "<span style=\"color: #000000; text-decoration-color: #000000\">MUST conform to the XML format, including any types and format requests e.g. requests for lists, objects and </span>\n",
       "<span style=\"color: #000000; text-decoration-color: #000000\">specific types. Be correct and concise. If you are unsure anywhere, enter `null`.</span>\n",
       "\n",
       "<span style=\"color: #000000; text-decoration-color: #000000\">Here are examples of simple </span><span style=\"color: #000000; text-decoration-color: #000000; font-weight: bold\">(</span><span style=\"color: #000000; text-decoration-color: #000000\">XML, JSON</span><span style=\"color: #000000; text-decoration-color: #000000; font-weight: bold\">)</span><span style=\"color: #000000; text-decoration-color: #000000\"> pairs that show the expected behavior:</span>\n",
       "<span style=\"color: #000000; text-decoration-color: #000000\">- `&lt;string </span><span style=\"color: #808000; text-decoration-color: #808000\">name</span><span style=\"color: #000000; text-decoration-color: #000000\">=</span><span style=\"color: #008000; text-decoration-color: #008000\">'foo'</span><span style=\"color: #000000; text-decoration-color: #000000\"> </span><span style=\"color: #808000; text-decoration-color: #808000\">format</span><span style=\"color: #000000; text-decoration-color: #000000\">=</span><span style=\"color: #008000; text-decoration-color: #008000\">'two-words lower-case'</span><span style=\"color: #000000; text-decoration-color: #000000\"> </span><span style=\"color: #800080; text-decoration-color: #800080\">/</span><span style=\"color: #000000; text-decoration-color: #000000\">&gt;` =&gt; `</span><span style=\"color: #000000; text-decoration-color: #000000; font-weight: bold\">{{</span><span style=\"color: #008000; text-decoration-color: #008000\">'foo'</span><span style=\"color: #000000; text-decoration-color: #000000\">: </span><span style=\"color: #008000; text-decoration-color: #008000\">'example one'</span><span style=\"color: #000000; text-decoration-color: #000000; font-weight: bold\">}}</span><span style=\"color: #000000; text-decoration-color: #000000\">`</span>\n",
       "<span style=\"color: #000000; text-decoration-color: #000000\">- `&lt;list </span><span style=\"color: #808000; text-decoration-color: #808000\">name</span><span style=\"color: #000000; text-decoration-color: #000000\">=</span><span style=\"color: #008000; text-decoration-color: #008000\">'bar'</span><span style=\"color: #000000; text-decoration-color: #000000\">&gt;&lt;string </span><span style=\"color: #808000; text-decoration-color: #808000\">format</span><span style=\"color: #000000; text-decoration-color: #000000\">=</span><span style=\"color: #008000; text-decoration-color: #008000\">'upper-case'</span><span style=\"color: #000000; text-decoration-color: #000000\"> </span><span style=\"color: #800080; text-decoration-color: #800080\">/</span><span style=\"color: #000000; text-decoration-color: #000000\">&gt;&lt;</span><span style=\"color: #800080; text-decoration-color: #800080\">/</span><span style=\"color: #ff00ff; text-decoration-color: #ff00ff\">list</span><span style=\"color: #000000; text-decoration-color: #000000\">&gt;` =&gt; `</span><span style=\"color: #000000; text-decoration-color: #000000; font-weight: bold\">{{</span><span style=\"color: #008000; text-decoration-color: #008000\">\"bar\"</span><span style=\"color: #000000; text-decoration-color: #000000\">: </span><span style=\"color: #000000; text-decoration-color: #000000; font-weight: bold\">[</span><span style=\"color: #008000; text-decoration-color: #008000\">'STRING ONE'</span><span style=\"color: #000000; text-decoration-color: #000000\">, </span><span style=\"color: #008000; text-decoration-color: #008000\">'STRING TWO'</span><span style=\"color: #000000; text-decoration-color: #000000\">, etc.</span><span style=\"color: #000000; text-decoration-color: #000000; font-weight: bold\">]}}</span><span style=\"color: #000000; text-decoration-color: #000000\">`</span>\n",
       "<span style=\"color: #000000; text-decoration-color: #000000\">- `&lt;object </span><span style=\"color: #808000; text-decoration-color: #808000\">name</span><span style=\"color: #000000; text-decoration-color: #000000\">=</span><span style=\"color: #008000; text-decoration-color: #008000\">'baz'</span><span style=\"color: #000000; text-decoration-color: #000000\">&gt;&lt;string </span><span style=\"color: #808000; text-decoration-color: #808000\">name</span><span style=\"color: #000000; text-decoration-color: #000000\">=</span><span style=\"color: #008000; text-decoration-color: #008000\">\"foo\"</span><span style=\"color: #000000; text-decoration-color: #000000\"> </span><span style=\"color: #808000; text-decoration-color: #808000\">format</span><span style=\"color: #000000; text-decoration-color: #000000\">=</span><span style=\"color: #008000; text-decoration-color: #008000\">\"capitalize two-words\"</span><span style=\"color: #000000; text-decoration-color: #000000\"> </span><span style=\"color: #800080; text-decoration-color: #800080\">/</span><span style=\"color: #000000; text-decoration-color: #000000\">&gt;&lt;integer </span><span style=\"color: #808000; text-decoration-color: #808000\">name</span><span style=\"color: #000000; text-decoration-color: #000000\">=</span><span style=\"color: #008000; text-decoration-color: #008000\">\"index\"</span><span style=\"color: #000000; text-decoration-color: #000000\"> </span><span style=\"color: #808000; text-decoration-color: #808000\">format</span><span style=\"color: #000000; text-decoration-color: #000000\">=</span><span style=\"color: #008000; text-decoration-color: #008000\">\"1-indexed\"</span><span style=\"color: #000000; text-decoration-color: #000000\"> </span>\n",
       "<span style=\"color: #800080; text-decoration-color: #800080\">/</span><span style=\"color: #000000; text-decoration-color: #000000\">&gt;&lt;</span><span style=\"color: #800080; text-decoration-color: #800080\">/</span><span style=\"color: #ff00ff; text-decoration-color: #ff00ff\">object</span><span style=\"color: #000000; text-decoration-color: #000000\">&gt;` =</span><span style=\"font-weight: bold\">&gt;</span> `<span style=\"font-weight: bold\">{{</span><span style=\"color: #008000; text-decoration-color: #008000\">'baz'</span>: <span style=\"font-weight: bold\">{{</span><span style=\"color: #008000; text-decoration-color: #008000\">'foo'</span>: <span style=\"color: #008000; text-decoration-color: #008000\">'Some String'</span>, <span style=\"color: #008000; text-decoration-color: #008000\">'index'</span>: <span style=\"color: #008080; text-decoration-color: #008080; font-weight: bold\">1</span><span style=\"font-weight: bold\">}}}}</span>`\n",
       "\n",
       "</pre>\n"
      ],
      "text/plain": [
       "\n",
       "Given a data analysis query, write a short Python code snippet that answers the query using typical Python data \n",
       "analysis libraries.\n",
       "\n",
       "The Python code snippet should return a Pandas DataFrame or show an appropriate Plotly chart.\n",
       "\n",
       "You have access to an authenticated BigQuery client object named `client`.\n",
       "\n",
       "BigQuery Tables Summary:\n",
       "\u001b[1m{\u001b[0mtables_summary\u001b[1m}\u001b[0m\n",
       "\n",
       "Data Analysis Query:\n",
       "\u001b[1m{\u001b[0mdata_analysis_query\u001b[1m}\u001b[0m\n",
       "\n",
       "\n",
       "Given below is XML that describes the information to extract from this document and the tags to extract it into.\n",
       "\n",
       "\u001b[1m<\u001b[0m\u001b[1;95moutput\u001b[0m\u001b[39m>\u001b[0m\n",
       "\u001b[39m    <pythoncode \u001b[0m\u001b[33mname\u001b[0m\u001b[39m=\u001b[0m\u001b[32m\"python_code\"\u001b[0m\u001b[39m \u001b[0m\u001b[33mformat\u001b[0m\u001b[39m=\u001b[0m\u001b[32m\"bug\u001b[0m\u001b[32m-free-python\"\u001b[0m\u001b[35m/\u001b[0m\u001b[39m>\u001b[0m\n",
       "\u001b[39m<\u001b[0m\u001b[35m/\u001b[0m\u001b[95moutput\u001b[0m\u001b[39m>\u001b[0m\n",
       "\n",
       "\n",
       "\u001b[39mONLY return a valid JSON object \u001b[0m\u001b[1;39m(\u001b[0m\u001b[39mno other text is necessary\u001b[0m\u001b[1;39m)\u001b[0m\u001b[39m, where the key of the field in JSON is the `name` \u001b[0m\n",
       "\u001b[39mattribute of the corresponding XML, and the value is of the type specified by the corresponding XML's tag. The JSON\u001b[0m\n",
       "\u001b[39mMUST conform to the XML format, including any types and format requests e.g. requests for lists, objects and \u001b[0m\n",
       "\u001b[39mspecific types. Be correct and concise. If you are unsure anywhere, enter `null`.\u001b[0m\n",
       "\n",
       "\u001b[39mHere are examples of simple \u001b[0m\u001b[1;39m(\u001b[0m\u001b[39mXML, JSON\u001b[0m\u001b[1;39m)\u001b[0m\u001b[39m pairs that show the expected behavior:\u001b[0m\n",
       "\u001b[39m- `<string \u001b[0m\u001b[33mname\u001b[0m\u001b[39m=\u001b[0m\u001b[32m'foo'\u001b[0m\u001b[39m \u001b[0m\u001b[33mformat\u001b[0m\u001b[39m=\u001b[0m\u001b[32m'two-words lower-case'\u001b[0m\u001b[39m \u001b[0m\u001b[35m/\u001b[0m\u001b[39m>` => `\u001b[0m\u001b[1;39m{\u001b[0m\u001b[1;39m{\u001b[0m\u001b[32m'foo'\u001b[0m\u001b[39m: \u001b[0m\u001b[32m'example one'\u001b[0m\u001b[1;39m}\u001b[0m\u001b[1;39m}\u001b[0m\u001b[39m`\u001b[0m\n",
       "\u001b[39m- `<list \u001b[0m\u001b[33mname\u001b[0m\u001b[39m=\u001b[0m\u001b[32m'bar'\u001b[0m\u001b[39m><string \u001b[0m\u001b[33mformat\u001b[0m\u001b[39m=\u001b[0m\u001b[32m'upper-case'\u001b[0m\u001b[39m \u001b[0m\u001b[35m/\u001b[0m\u001b[39m><\u001b[0m\u001b[35m/\u001b[0m\u001b[95mlist\u001b[0m\u001b[39m>` => `\u001b[0m\u001b[1;39m{\u001b[0m\u001b[1;39m{\u001b[0m\u001b[32m\"bar\"\u001b[0m\u001b[39m: \u001b[0m\u001b[1;39m[\u001b[0m\u001b[32m'STRING ONE'\u001b[0m\u001b[39m, \u001b[0m\u001b[32m'STRING TWO'\u001b[0m\u001b[39m, etc.\u001b[0m\u001b[1;39m]\u001b[0m\u001b[1;39m}\u001b[0m\u001b[1;39m}\u001b[0m\u001b[39m`\u001b[0m\n",
       "\u001b[39m- `<object \u001b[0m\u001b[33mname\u001b[0m\u001b[39m=\u001b[0m\u001b[32m'baz'\u001b[0m\u001b[39m><string \u001b[0m\u001b[33mname\u001b[0m\u001b[39m=\u001b[0m\u001b[32m\"foo\"\u001b[0m\u001b[39m \u001b[0m\u001b[33mformat\u001b[0m\u001b[39m=\u001b[0m\u001b[32m\"capitalize\u001b[0m\u001b[32m two-words\"\u001b[0m\u001b[39m \u001b[0m\u001b[35m/\u001b[0m\u001b[39m><integer \u001b[0m\u001b[33mname\u001b[0m\u001b[39m=\u001b[0m\u001b[32m\"index\"\u001b[0m\u001b[39m \u001b[0m\u001b[33mformat\u001b[0m\u001b[39m=\u001b[0m\u001b[32m\"1\u001b[0m\u001b[32m-indexed\"\u001b[0m\u001b[39m \u001b[0m\n",
       "\u001b[35m/\u001b[0m\u001b[39m><\u001b[0m\u001b[35m/\u001b[0m\u001b[95mobject\u001b[0m\u001b[39m>` =\u001b[0m\u001b[1m>\u001b[0m `\u001b[1m{\u001b[0m\u001b[1m{\u001b[0m\u001b[32m'baz'\u001b[0m: \u001b[1m{\u001b[0m\u001b[1m{\u001b[0m\u001b[32m'foo'\u001b[0m: \u001b[32m'Some String'\u001b[0m, \u001b[32m'index'\u001b[0m: \u001b[1;36m1\u001b[0m\u001b[1m}\u001b[0m\u001b[1m}\u001b[0m\u001b[1m}\u001b[0m\u001b[1m}\u001b[0m`\n",
       "\n"
      ]
     },
     "metadata": {},
     "output_type": "display_data"
    }
   ],
   "source": [
    "print(guard.base_prompt)"
   ]
  },
  {
   "cell_type": "code",
   "execution_count": null,
   "metadata": {},
   "outputs": [],
   "source": [
    "import openai\n",
    "\n",
    "data_analysis_query = \"\"\"\n",
    "Create sample data for a Lorenz Attractor system and plot the results.\n",
    "\"\"\"\n",
    "\n",
    "raw_llm_response, validated_response = guard(\n",
    "    openai.Completion.create,\n",
    "    prompt_params={\n",
    "        \"tables_summary\": tables_summary,\n",
    "        \"data_analysis_query\": data_analysis_query\n",
    "    },\n",
    "    engine=\"text-davinci-003\",\n",
    "    max_tokens=2048,\n",
    "    temperature=0.5,\n",
    ")"
   ]
  },
  {
   "cell_type": "code",
   "execution_count": null,
   "metadata": {},
   "outputs": [
    {
     "ename": "SyntaxError",
     "evalue": "unterminated string literal (detected at line 1) (1394353013.py, line 1)",
     "output_type": "error",
     "traceback": [
      "\u001b[0;36m  Cell \u001b[0;32mIn[68], line 1\u001b[0;36m\u001b[0m\n\u001b[0;31m    print(\"import pandas as pd\\nimport plotly.express as px\\nimport numpy as np\\n\\ndef lorenz_attractor(x, y, z, s=10,\u001b[0m\n\u001b[0m          ^\u001b[0m\n\u001b[0;31mSyntaxError\u001b[0m\u001b[0;31m:\u001b[0m unterminated string literal (detected at line 1)\n"
     ]
    }
   ],
   "source": [
    "print(raw_llm_response)"
   ]
  },
  {
   "cell_type": "code",
   "execution_count": null,
   "metadata": {},
   "outputs": [
    {
     "data": {
      "text/html": [
       "<pre style=\"white-space:pre;overflow-x:auto;line-height:normal;font-family:Menlo,'DejaVu Sans Mono',consolas,'Courier New',monospace\"><span style=\"font-weight: bold\">{</span><span style=\"color: #008000; text-decoration-color: #008000\">\"python_code\"</span>: \n",
       "    <span style=\"color: #008000; text-decoration-color: #008000\">\"import pandas as pd\\nimport plotly.express as px\\nimport numpy as np\\n\\ndef lorenz_attractor(x, y, z, s=10, </span>\n",
       "<span style=\"color: #008000; text-decoration-color: #008000\">r=28, b=2.667):\\n    x_dot = s*(y - x)\\n    y_dot = r*x - y - x*z\\n    z_dot = x*y - b*z\\n    return x_dot, y_dot, </span>\n",
       "<span style=\"color: #008000; text-decoration-color: #008000\">z_dot\\n\\n# Initializing the starting point\\ndt = 0.01\\nstepCnt = 10000\\n\\n# Need one more for the initial </span>\n",
       "<span style=\"color: #008000; text-decoration-color: #008000\">values\\nxs = np.empty((stepCnt + 1,))\\nys = np.empty((stepCnt + 1,))\\nzs = np.empty((stepCnt + 1,))\\n\\n# Setting </span>\n",
       "<span style=\"color: #008000; text-decoration-color: #008000\">initial values\\nxs[0], ys[0], zs[0] = (0., 1., 1.05) \\n\\n# Stepping through \"</span>time\".\\nfor i in <span style=\"color: #800080; text-decoration-color: #800080; font-weight: bold\">range</span><span style=\"font-weight: bold\">(</span>stepCnt<span style=\"font-weight: bold\">)</span>:\\n    \n",
       "# Derivatives of the X, Y, Z state\\n    x_dot, y_dot, z_dot = <span style=\"color: #800080; text-decoration-color: #800080; font-weight: bold\">lorenz_attractor</span><span style=\"font-weight: bold\">(</span>xs<span style=\"font-style: italic\">, ys, zs</span><span style=\"font-weight: bold; font-style: italic\">)</span><span style=\"font-style: italic\">\\n    xs = xs + </span><span style=\"font-weight: bold; font-style: italic\">(</span><span style=\"font-style: italic\">x_dot * </span>\n",
       "<span style=\"font-style: italic\">dt</span><span style=\"font-weight: bold; font-style: italic\">)</span><span style=\"font-style: italic\">\\n    ys = ys + </span><span style=\"font-weight: bold; font-style: italic\">(</span><span style=\"font-style: italic\">y_dot * dt</span><span style=\"font-weight: bold; font-style: italic\">)</span><span style=\"font-style: italic\">\\n    zs = zs + </span><span style=\"font-weight: bold; font-style: italic\">(</span><span style=\"font-style: italic\">z_dot * dt</span><span style=\"font-weight: bold; font-style: italic\">)</span><span style=\"font-style: italic\">\\n\\ndata = </span><span style=\"font-weight: bold; font-style: italic\">{</span><span style=\"color: #008000; text-decoration-color: #008000; font-style: italic\">'x'</span><span style=\"font-style: italic\">: xs, </span><span style=\"color: #008000; text-decoration-color: #008000; font-style: italic\">'y'</span><span style=\"font-style: italic\">: ys, </span><span style=\"color: #008000; text-decoration-color: #008000; font-style: italic\">'z'</span><span style=\"font-style: italic\">: zs</span><span style=\"font-weight: bold; font-style: italic\">}</span><span style=\"font-style: italic\">\\ndf = </span>\n",
       "<span style=\"color: #800080; text-decoration-color: #800080; font-weight: bold; font-style: italic\">pd.DataFrame</span><span style=\"font-weight: bold; font-style: italic\">(</span><span style=\"color: #808000; text-decoration-color: #808000; font-style: italic\">data</span><span style=\"font-style: italic\">=</span><span style=\"color: #800080; text-decoration-color: #800080; font-style: italic\">data</span><span style=\"font-weight: bold; font-style: italic\">)</span><span style=\"font-style: italic\">\\n\\nfig = </span><span style=\"color: #800080; text-decoration-color: #800080; font-weight: bold; font-style: italic\">px.line_3d</span><span style=\"font-weight: bold; font-style: italic\">(</span><span style=\"font-style: italic\">df, </span><span style=\"color: #808000; text-decoration-color: #808000; font-style: italic\">x</span><span style=\"font-style: italic\">=</span><span style=\"color: #008000; text-decoration-color: #008000; font-style: italic\">'x'</span><span style=\"font-style: italic\">, </span><span style=\"color: #808000; text-decoration-color: #808000; font-style: italic\">y</span><span style=\"font-style: italic\">=</span><span style=\"color: #008000; text-decoration-color: #008000; font-style: italic\">'y'</span><span style=\"font-style: italic\">, </span><span style=\"color: #808000; text-decoration-color: #808000; font-style: italic\">z</span><span style=\"font-style: italic\">=</span><span style=\"color: #008000; text-decoration-color: #008000; font-style: italic\">'z'</span><span style=\"font-weight: bold; font-style: italic\">)</span><span style=\"font-style: italic\">\\</span><span style=\"color: #800080; text-decoration-color: #800080; font-weight: bold; font-style: italic\">nfig.show</span><span style=\"font-weight: bold; font-style: italic\">()</span><span style=\"font-style: italic\">\"</span><span style=\"font-weight: bold; font-style: italic\">}</span>\n",
       "<span style=\"font-weight: bold; font-style: italic\">}</span>\n",
       "</pre>\n"
      ],
      "text/plain": [
       "\u001b[1m{\u001b[0m\u001b[32m\"python_code\"\u001b[0m: \n",
       "    \u001b[32m\"import pandas as pd\\nimport plotly.express as px\\nimport numpy as np\\n\\ndef lorenz_attractor\u001b[0m\u001b[32m(\u001b[0m\u001b[32mx, y, z, \u001b[0m\u001b[32ms\u001b[0m\u001b[32m=\u001b[0m\u001b[32m10\u001b[0m\u001b[32m, \u001b[0m\n",
       "\u001b[32mr\u001b[0m\u001b[32m=\u001b[0m\u001b[32m28\u001b[0m\u001b[32m, \u001b[0m\u001b[32mb\u001b[0m\u001b[32m=\u001b[0m\u001b[32m2\u001b[0m\u001b[32m.667\u001b[0m\u001b[32m)\u001b[0m\u001b[32m:\\n    x_dot = s*\u001b[0m\u001b[32m(\u001b[0m\u001b[32my - x\u001b[0m\u001b[32m)\u001b[0m\u001b[32m\\n    y_dot = r*x - y - x*z\\n    z_dot = x*y - b*z\\n    return x_dot, y_dot, \u001b[0m\n",
       "\u001b[32mz_dot\\n\\n# Initializing the starting point\\ndt = 0.01\\nstepCnt = 10000\\n\\n# Need one more for the initial \u001b[0m\n",
       "\u001b[32mvalues\\nxs = np.empty\u001b[0m\u001b[32m(\u001b[0m\u001b[32m(\u001b[0m\u001b[32mstepCnt + 1,\u001b[0m\u001b[32m)\u001b[0m\u001b[32m)\u001b[0m\u001b[32m\\nys = np.empty\u001b[0m\u001b[32m(\u001b[0m\u001b[32m(\u001b[0m\u001b[32mstepCnt + 1,\u001b[0m\u001b[32m)\u001b[0m\u001b[32m)\u001b[0m\u001b[32m\\nzs = np.empty\u001b[0m\u001b[32m(\u001b[0m\u001b[32m(\u001b[0m\u001b[32mstepCnt + 1,\u001b[0m\u001b[32m)\u001b[0m\u001b[32m)\u001b[0m\u001b[32m\\n\\n# Setting \u001b[0m\n",
       "\u001b[32minitial values\\nxs\u001b[0m\u001b[32m[\u001b[0m\u001b[32m0\u001b[0m\u001b[32m]\u001b[0m\u001b[32m, ys\u001b[0m\u001b[32m[\u001b[0m\u001b[32m0\u001b[0m\u001b[32m]\u001b[0m\u001b[32m, zs\u001b[0m\u001b[32m[\u001b[0m\u001b[32m0\u001b[0m\u001b[32m]\u001b[0m\u001b[32m = \u001b[0m\u001b[32m(\u001b[0m\u001b[32m0., 1., 1.05\u001b[0m\u001b[32m)\u001b[0m\u001b[32m \\n\\n# Stepping through \"\u001b[0mtime\".\\nfor i in \u001b[1;35mrange\u001b[0m\u001b[1m(\u001b[0mstepCnt\u001b[1m)\u001b[0m:\\n    \n",
       "# Derivatives of the X, Y, Z state\\n    x_dot, y_dot, z_dot = \u001b[1;35mlorenz_attractor\u001b[0m\u001b[1m(\u001b[0mxs\u001b[3m, ys\u001b[0m\u001b[3m, zs\u001b[0m\u001b[1;3m)\u001b[0m\u001b[3m\\n    xs\u001b[0m\u001b[3m = xs\u001b[0m\u001b[3m + \u001b[0m\u001b[1;3m(\u001b[0m\u001b[3mx_dot * \u001b[0m\n",
       "\u001b[3mdt\u001b[0m\u001b[1;3m)\u001b[0m\u001b[3m\\n    ys\u001b[0m\u001b[3m = ys\u001b[0m\u001b[3m + \u001b[0m\u001b[1;3m(\u001b[0m\u001b[3my_dot * dt\u001b[0m\u001b[1;3m)\u001b[0m\u001b[3m\\n    zs\u001b[0m\u001b[3m = zs\u001b[0m\u001b[3m + \u001b[0m\u001b[1;3m(\u001b[0m\u001b[3mz_dot * dt\u001b[0m\u001b[1;3m)\u001b[0m\u001b[3m\\n\\ndata = \u001b[0m\u001b[1;3m{\u001b[0m\u001b[3;32m'x'\u001b[0m\u001b[3m: xs, \u001b[0m\u001b[3;32m'y'\u001b[0m\u001b[3m: ys, \u001b[0m\u001b[3;32m'z'\u001b[0m\u001b[3m: zs\u001b[0m\u001b[1;3m}\u001b[0m\u001b[3m\\ndf = \u001b[0m\n",
       "\u001b[1;3;35mpd.DataFrame\u001b[0m\u001b[1;3m(\u001b[0m\u001b[3;33mdata\u001b[0m\u001b[3m=\u001b[0m\u001b[3;35mdata\u001b[0m\u001b[1;3m)\u001b[0m\u001b[3m\\n\\nfig = \u001b[0m\u001b[1;3;35mpx.line_3d\u001b[0m\u001b[1;3m(\u001b[0m\u001b[3mdf, \u001b[0m\u001b[3;33mx\u001b[0m\u001b[3m=\u001b[0m\u001b[3;32m'x'\u001b[0m\u001b[3m, \u001b[0m\u001b[3;33my\u001b[0m\u001b[3m=\u001b[0m\u001b[3;32m'y'\u001b[0m\u001b[3m, \u001b[0m\u001b[3;33mz\u001b[0m\u001b[3m=\u001b[0m\u001b[3;32m'z'\u001b[0m\u001b[1;3m)\u001b[0m\u001b[3m\\\u001b[0m\u001b[1;3;35mnfig.show\u001b[0m\u001b[1;3m(\u001b[0m\u001b[1;3m)\u001b[0m\u001b[3m\"\u001b[0m\u001b[1;3m}\u001b[0m\n",
       "\u001b[1;3m}\u001b[0m\n"
      ]
     },
     "metadata": {},
     "output_type": "display_data"
    }
   ],
   "source": [
    "print(validated_response)"
   ]
  },
  {
   "cell_type": "code",
   "execution_count": null,
   "metadata": {},
   "outputs": [
    {
     "ename": "TypeError",
     "evalue": "'NoneType' object is not subscriptable",
     "output_type": "error",
     "traceback": [
      "\u001b[0;31m---------------------------------------------------------------------------\u001b[0m",
      "\u001b[0;31mTypeError\u001b[0m                                 Traceback (most recent call last)",
      "Cell \u001b[0;32mIn[61], line 1\u001b[0m\n\u001b[0;32m----> 1\u001b[0m \u001b[39mprint\u001b[39m(validated_response[\u001b[39m\"\u001b[39;49m\u001b[39mpython_code\u001b[39;49m\u001b[39m\"\u001b[39;49m])\n",
      "\u001b[0;31mTypeError\u001b[0m: 'NoneType' object is not subscriptable"
     ]
    }
   ],
   "source": [
    "print(validated_response[\"python_code\"])"
   ]
  },
  {
   "cell_type": "code",
   "execution_count": null,
   "metadata": {},
   "outputs": [
    {
     "data": {
      "text/html": [
       "<pre style=\"white-space:pre;overflow-x:auto;line-height:normal;font-family:Menlo,'DejaVu Sans Mono',consolas,'Courier New',monospace\">Failed!\n",
       "</pre>\n"
      ],
      "text/plain": [
       "Failed!\n"
      ]
     },
     "metadata": {},
     "output_type": "display_data"
    }
   ],
   "source": [
    "try:\n",
    "    exec(validated_response[\"python_code\"])\n",
    "    print(\"Success!\")\n",
    "except Exception as e:\n",
    "    print(\"Failed!\")"
   ]
  },
  {
   "cell_type": "code",
   "execution_count": null,
   "metadata": {},
   "outputs": [],
   "source": [
    "from langchain import LLMMathChain, OpenAI, SerpAPIWrapper, SQLDatabase, SQLDatabaseChain\n",
    "from langchain.agents import initialize_agent, Tool\n",
    "from langchain.agents import AgentType\n",
    "from langchain.chat_models import ChatOpenAI"
   ]
  },
  {
   "cell_type": "code",
   "execution_count": null,
   "metadata": {},
   "outputs": [],
   "source": [
    "llm = ChatOpenAI(temperature=0, model=\"gpt-3.5-turbo-0613\", streaming=True, callbacks=[StreamingStdOutCallbackHandler()],)\n",
    "# search = SerpAPIWrapper()\n",
    "# llm_math_chain = LLMMathChain.from_llm(llm=llm, verbose=True)\n",
    "# db = SQLDatabase.from_uri(\"sqlite:///../../../../../notebooks/Chinook.db\")\n",
    "# db_chain = SQLDatabaseChain.from_llm(llm, db, verbose=True)\n",
    "tools = [\n",
    "    # Tool(\n",
    "    #     name = \"Search\",\n",
    "    #     func=search.run,\n",
    "    #     description=\"useful for when you need to answer questions about current events. You should ask targeted questions\"\n",
    "    # ),\n",
    "    Tool(\n",
    "        name=\"Calculator\",\n",
    "        func=llm_math_chain.run,\n",
    "        description=\"useful for when you need to answer questions about math\"\n",
    "    ),\n",
    "    # Tool(\n",
    "    #     name=\"FooBar-DB\",\n",
    "    #     func=db_chain.run,\n",
    "    #     description=\"useful for when you need to answer questions about FooBar. Input should be in the form of a question containing full context\"\n",
    "    # )\n",
    "]"
   ]
  },
  {
   "cell_type": "code",
   "execution_count": null,
   "metadata": {},
   "outputs": [],
   "source": [
    "agent = initialize_agent(tools, llm, agent=AgentType.OPENAI_FUNCTIONS, verbose=True)"
   ]
  },
  {
   "cell_type": "code",
   "execution_count": null,
   "metadata": {},
   "outputs": [
    {
     "name": "stdout",
     "output_type": "stream",
     "text": [
      "\n",
      "\n",
      "\u001b[1m> Entering new  chain...\u001b[0m\n",
      "\u001b[32;1m\u001b[1;3m\n",
      "Invoking: `Calculator` with `28^0.43`\n",
      "\n",
      "\n",
      "\u001b[0m\n",
      "\n",
      "\u001b[1m> Entering new  chain...\u001b[0m\n",
      "28^0.43\u001b[32;1m\u001b[1;3m```text\n",
      "28**0.43\n",
      "```\n",
      "...numexpr.evaluate(\"28**0.43\")...\n",
      "\u001b[0m\n",
      "Answer: \u001b[33;1m\u001b[1;3m4.1906168361987195\u001b[0m\n",
      "\u001b[1m> Finished chain.\u001b[0m\n",
      "\u001b[36;1m\u001b[1;3mAnswer: 4.1906168361987195\u001b[0m\u001b[32;1m\u001b[1;3mLeo DiCaprio's girlfriend is Camila Morrone. Her current age raised to the 0.43 power is approximately 4.19.\u001b[0m\n",
      "\n",
      "\u001b[1m> Finished chain.\u001b[0m\n"
     ]
    },
    {
     "data": {
      "text/plain": [
       "\"Leo DiCaprio's girlfriend is Camila Morrone. Her current age raised to the 0.43 power is approximately 4.19.\""
      ]
     },
     "execution_count": 75,
     "metadata": {},
     "output_type": "execute_result"
    }
   ],
   "source": [
    "agent.run(\"Who is Leo DiCaprio's girlfriend? What is her current age raised to the 0.43 power?\")"
   ]
  },
  {
   "cell_type": "code",
   "execution_count": null,
   "metadata": {},
   "outputs": [],
   "source": [
    "import inspect\n",
    "import re\n",
    "\n",
    "from chartgpt.agents.agent_toolkits.bigquery.utils import get_example_query\n",
    "from chartgpt.tools.python.tool import PythonAstREPLTool\n",
    "\n",
    "credentials = service_account.Credentials.from_service_account_info(json.loads(os.environ[\"GCP_SERVICE_ACCOUNT\"], strict=False))\n",
    "bigquery_client = bigquery.Client(credentials=credentials)\n",
    "\n",
    "tables_summary = get_tables_summary(client=bigquery_client, datasets=datasets)\n",
    "example_query = get_example_query(datasets=datasets)\n",
    "\n",
    "example_query = get_example_query(datasets=datasets)\n",
    "\n",
    "python_tool_description = inspect.cleandoc(\"\"\"                                           \n",
    "You are a data science and GoogleSQL expert. Answer data and analytics questions or perform exploratory data analysis (EDA) without sharing the data source.\n",
    "\n",
    "When unable to complete an analysis or find an answer, respond with \"Analysis failed: <reason>\".\n",
    "After completing an analysis, respond with \"Analysis complete: <final answer or insight>\".\n",
    "\n",
    "# Tools\n",
    "Utilize ONLY these tools for analysis, following their expected formatting instructions.\n",
    "\n",
    "A Python shell. Use this to execute python commands including: BigQuery queries, Pandas analytics, Plotly charts.\n",
    "Input should be a valid python command.\n",
    "When using this tool, sometimes output is abbreviated -\n",
    "make sure it does not look abbreviated before using it in your answer.\n",
    "                                           \n",
    "# Datasets\n",
    "Access these datasets, tables, and columns:\n",
    "```\n",
    "tables_summary = {tables_summary}\n",
    "```\n",
    "\n",
    "Validate column names using: tables_summary[dataset_id][table_id].\n",
    "\n",
    "# Example SQL Query\n",
    "\n",
    "```\n",
    "{example_query}\n",
    "```\n",
    "\n",
    "# Python Libraries\n",
    "The following Python libraries are available in the environment: [streamlit, plotly, pandas, numpy, sklearn, scipy, statsmodels]\n",
    "\n",
    "The following Python modules have been imported already:\n",
    "```\n",
    "import streamlit as st\n",
    "import plotly.express as px\n",
    "import plotly.graph_objects as go\n",
    "import pandas as pd\n",
    "```\n",
    "\n",
    "Do not try import or use other libraries.\n",
    "\n",
    "# Instructions\n",
    "- A BigQuery Client in Python, `bigquery_client`, has been initialized and authenticated.\n",
    "- Use the Plotly library for creating charts and plots.\n",
    "- Do NOT make DML statements (INSERT, UPDATE, DELETE, DROP, etc.).\n",
    "- Check column names using: print(tables_summary[dataset_id][table_id])\n",
    "- Always prefer performing complex queries using Pandas rather than SQL.\n",
    "- Unless displaying Plotly charts and Pandas DataFrames, use `print()` to display output, for example on the last line of code.\n",
    "\n",
    "# Data Analysis Guidelines\n",
    "- If asked a geographical question, try use a Plotly map.\n",
    "- Always check what unique values are in a column before querying it e.g. `SELECT DISTINCT column_name FROM table_name`.\n",
    "- When performing EDA, always try check correlation and create statistical plots.\n",
    "\"\"\")\n",
    "                                           \n",
    "python_tool = PythonAstREPLTool(\n",
    "    description=python_tool_description,\n",
    "    locals={\"tables_summary\": tables_summary, \"bigquery_client\": bigquery_client, \"example_query\": example_query},\n",
    ")\n",
    "\n",
    "def query_post_processing(query: str) -> str:\n",
    "    query = query.replace(\"print(\", \"display(\")\n",
    "    imports = inspect.cleandoc(\"\"\"\n",
    "    # Add custom imports and config here for agent\n",
    "    import streamlit as st\n",
    "    import plotly.express as px\n",
    "    import plotly.graph_objects as go\n",
    "    import pandas as pd\n",
    "\n",
    "    pd.set_option('display.max_columns', None)\n",
    "    pd.set_option('display.max_rows', 5)\n",
    "\n",
    "    def display(*args):\n",
    "        import streamlit as st\n",
    "        st.write(*args)\n",
    "        return args\n",
    "    \"\"\")\n",
    "    query = imports + \"\\n\" + query\n",
    "    query = re.sub(\".*client =.*\\n?\", \"client = bigquery_client\", query)\n",
    "    query = re.sub(\".*bigquery_client =.*\\n?\", \"\", query)\n",
    "    return query\n",
    "\n",
    "from langchain.tools.human.tool import HumanInputRun\n",
    "\n",
    "python_tool.query_post_processing = query_post_processing\n",
    "tools = [python_tool]"
   ]
  },
  {
   "cell_type": "code",
   "execution_count": null,
   "metadata": {},
   "outputs": [],
   "source": [
    "from langchain.callbacks.streaming_stdout import StreamingStdOutCallbackHandler\n",
    "\n",
    "llm = ChatOpenAI(\n",
    "    temperature=0,\n",
    "    model=\"gpt-3.5-turbo-0613\",\n",
    "    streaming=True,\n",
    "    callbacks=[StreamingStdOutCallbackHandler()]\n",
    ")\n",
    "\n",
    "agent = initialize_agent(\n",
    "    tools,\n",
    "    llm,\n",
    "    agent=AgentType.OPENAI_MULTI_FUNCTIONS,\n",
    "    verbose=True,\n",
    "    max_iterations=5,\n",
    "    early_stopping_method=\"generate\",\n",
    "    streaming=True,\n",
    "    # callbacks=[StreamingStdOutCallbackHandler()],\n",
    ")"
   ]
  },
  {
   "cell_type": "code",
   "execution_count": null,
   "metadata": {},
   "outputs": [
    {
     "name": "stdout",
     "output_type": "stream",
     "text": [
      "\n",
      "\n",
      "\u001b[1m> Entering new  chain...\u001b[0m\n",
      "I'm sorry, but as an AI assistant, I don't have real-time information. The APR (Annual Percentage Rate) on ***REMOVED*** may vary depending on various factors such as the specific loan terms, collateral, and market conditions. It's best to visit the ***REMOVED*** platform or contact their support team for the most up-to-date information on APR rates.\u001b[32;1m\u001b[1;3mI'm sorry, but as an AI assistant, I don't have real-time information. The APR (Annual Percentage Rate) on ***REMOVED*** may vary depending on various factors such as the specific loan terms, collateral, and market conditions. It's best to visit the ***REMOVED*** platform or contact their support team for the most up-to-date information on APR rates.\u001b[0m\n",
      "\n",
      "\u001b[1m> Finished chain.\u001b[0m\n"
     ]
    },
    {
     "data": {
      "text/plain": [
       "\"I'm sorry, but as an AI assistant, I don't have real-time information. The APR (Annual Percentage Rate) on ***REMOVED*** may vary depending on various factors such as the specific loan terms, collateral, and market conditions. It's best to visit the ***REMOVED*** platform or contact their support team for the most up-to-date information on APR rates.\""
      ]
     },
     "execution_count": 102,
     "metadata": {},
     "output_type": "execute_result"
    }
   ],
   "source": [
    "agent.run(\"What is the APR on ***REMOVED***?\")"
   ]
  },
  {
   "cell_type": "code",
   "execution_count": null,
   "metadata": {},
   "outputs": [
    {
     "ename": "NameError",
     "evalue": "name 'go' is not defined",
     "output_type": "error",
     "traceback": [
      "\u001b[0;31m---------------------------------------------------------------------------\u001b[0m",
      "\u001b[0;31mNameError\u001b[0m                                 Traceback (most recent call last)",
      "Cell \u001b[0;32mIn[14], line 47\u001b[0m\n\u001b[1;32m     43\u001b[0m module \u001b[39m=\u001b[39m ast\u001b[39m.\u001b[39mModule(tree\u001b[39m.\u001b[39mbody[:\u001b[39m-\u001b[39m\u001b[39m1\u001b[39m], type_ignores\u001b[39m=\u001b[39m[])\n\u001b[1;32m     45\u001b[0m _globals \u001b[39m=\u001b[39m _locals \u001b[39m=\u001b[39m {}\n\u001b[0;32m---> 47\u001b[0m exec(ast\u001b[39m.\u001b[39;49munparse(module), {}, _locals)\n",
      "File \u001b[0;32m<string>:14\u001b[0m\n",
      "File \u001b[0;32m<string>:14\u001b[0m, in \u001b[0;36m<listcomp>\u001b[0;34m(.0)\u001b[0m\n",
      "\u001b[0;31mNameError\u001b[0m: name 'go' is not defined"
     ]
    }
   ],
   "source": [
    "code = \"\"\"\n",
    "import streamlit as st\n",
    "import plotly.express as px\n",
    "import plotly.graph_objects as go\n",
    "import pandas as pd\n",
    "\n",
    "pd.set_option('display.max_columns', None)\n",
    "pd.set_option('display.max_rows', 5)\n",
    "\n",
    "def display(*args):\n",
    "    import streamlit as st\n",
    "    st.write(*args)\n",
    "    return args\n",
    "\n",
    "import numpy as np\n",
    "\n",
    "# Create a range of x values\n",
    "x = np.linspace(0, 2*np.pi, 100)\n",
    "\n",
    "# Create a figure\n",
    "fig = go.Figure(\n",
    "    data=[go.Scatter(x=x, y=np.sin(x), mode='lines')],\n",
    "    layout=go.Layout(\n",
    "        title=\"Sine Wave Animation\",\n",
    "        updatemenus=[dict(\n",
    "            type=\"buttons\",\n",
    "            buttons=[dict(label=\"Play\",\n",
    "                          method=\"animate\",\n",
    "                          args=[None])])]),\n",
    "    frames=[go.Frame(\n",
    "        data=[go.Scatter(\n",
    "            x=x,\n",
    "            y=np.sin(x + np.pi / 15 * (i % 50)),\n",
    "            mode='lines')]\n",
    "    ) for i in range(100)]\n",
    ")\n",
    "\n",
    "fig.show()\n",
    "\"\"\"\n",
    "import ast\n",
    "\n",
    "tree = ast.parse(code)\n",
    "module = ast.Module(tree.body[:-1], type_ignores=[])\n",
    "\n",
    "_globals = _locals = {}\n",
    "\n",
    "exec(ast.unparse(module), _globals, _locals)\n"
   ]
  },
  {
   "cell_type": "code",
   "execution_count": null,
   "metadata": {},
   "outputs": [
    {
     "data": {
      "text/plain": [
       "<module 'plotly.graph_objects' from '/opt/homebrew/lib/python3.11/site-packages/plotly/graph_objects/__init__.py'>"
      ]
     },
     "execution_count": 113,
     "metadata": {},
     "output_type": "execute_result"
    }
   ],
   "source": [
    "go"
   ]
  },
  {
   "cell_type": "code",
   "execution_count": null,
   "metadata": {},
   "outputs": [],
   "source": []
  }
 ],
 "metadata": {
  "kernelspec": {
   "display_name": "venv",
   "language": "python",
   "name": "python3"
  },
  "language_info": {
   "codemirror_mode": {
    "name": "ipython",
    "version": 3
   },
   "file_extension": ".py",
   "mimetype": "text/x-python",
   "name": "python",
   "nbconvert_exporter": "python",
   "pygments_lexer": "ipython3",
   "version": "3.9.14"
  },
  "orig_nbformat": 4
 },
 "nbformat": 4,
 "nbformat_minor": 2
}
