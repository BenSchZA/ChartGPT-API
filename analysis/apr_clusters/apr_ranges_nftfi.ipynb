{
 "cells": [
  {
   "attachments": {},
   "cell_type": "markdown",
   "metadata": {},
   "source": [
    "# Clustering of NFT collections\n",
    "This notebook aims to provide an understanding of NFT collections grouping based on APR measures (mean, median, std) and visualize the resulting clusters.\n",
    "\n",
    "\n",
    "The method `run_manual_clustering` runs a simple binary search (not clustering as in a machine learning method) to assign an NFT collection to a cluster. \n",
    "\n",
    "This assignment method is made based on a grouping key, for instance whether we cluster based on the `mean` APR, the `median` APR, or `std` APR"
   ]
  },
  {
   "cell_type": "code",
   "execution_count": 1,
   "metadata": {},
   "outputs": [],
   "source": [
    "from typing import Optional\n",
    "import pandas as pd\n",
    "import plotly.express as px\n",
    "import plotly.graph_objects as go\n",
    "import numpy as np\n",
    "import copy\n",
    "\n",
    "pd.set_option('display.max_columns', None)\n",
    "pd.set_option('display.max_rows', None)\n",
    "pd.set_option('display.float_format', '{:,.2f}'.format)\n",
    "import warnings\n",
    "warnings.simplefilter(action='ignore', category=FutureWarning)\n",
    "\n",
    "\n",
    "def usd_to_str(usd_value, round_value: Optional[int] = None):\n",
    "    usd_str = f\"$ {(round(usd_value, round_value) if not np.isnan(usd_value) else usd_value):,}\".replace(',', \"'\")\n",
    "    return usd_str\n",
    "\n",
    "\n",
    "def run_manual_clustering(grouping_key='mean', bucket_apr_ranges=[0, 10, 20, 30, 40, 60], include_unassigned_collections_to_last_bucket=True, autosize=False, save_table_as_csv=True):\n",
    "    if include_unassigned_collections_to_last_bucket:\n",
    "        local_bucket_apr_ranges = copy.deepcopy(bucket_apr_ranges)  # to avoid writing to bucket_apr_ranges references (global variables)\n",
    "        local_bucket_apr_ranges.append(np.inf)\n",
    "    \n",
    "    df = pd.read_csv('raw_data.csv')\n",
    "    display(f\"Number of collections in raw data: [{df.shape[0]}]\")\n",
    "\n",
    "    # Define clusters based on APR ranges\n",
    "    labels = range(1, len(local_bucket_apr_ranges))\n",
    "    df['cluster'] = pd.cut(df[grouping_key], bins=local_bucket_apr_ranges, labels=labels)\n",
    "\n",
    "    # Create table with name, address, loan count, dollar volume, mean APR, median APR, std APR, and cluster number\n",
    "    table = df[['collection_name', 'address', 'count', 'borrow_volume', 'mean', 'median', 'std', 'cluster']].sort_values(by=grouping_key)\n",
    "\n",
    "    sum_per_cluster_df = table.groupby('cluster').agg('sum')\n",
    "    sum_per_cluster_df = sum_per_cluster_df.rename(columns={'borrow_volume': 'borrow_volume_per_cluster', 'count': 'loan_count_per_cluster'})[['borrow_volume_per_cluster', 'loan_count_per_cluster']]\n",
    "    sum_per_cluster_df['cluster'] = sum_per_cluster_df.index\n",
    "    sum_per_cluster_df = sum_per_cluster_df.reset_index(drop=True)\n",
    "    table = pd.merge(left=table, right=sum_per_cluster_df, on='cluster')\n",
    "    nft_count_per_cluster_df = table.groupby('cluster').agg('count')\n",
    "    nft_count_per_cluster_df = nft_count_per_cluster_df.rename(columns={'collection_name': 'nb_collection_per_cluster'})['nb_collection_per_cluster']\n",
    "    table = pd.merge(left=table, right=nft_count_per_cluster_df, on='cluster')\n",
    "    if save_table_as_csv:\n",
    "        table.to_csv('nft_collection_apr_clusters.csv')\n",
    "\n",
    "    display(table.head())\n",
    "    display(\"Count of NFT collections per cluster:\", pd.DataFrame(nft_count_per_cluster_df))\n",
    "\n",
    "    # Create box plot to visualize clusters\n",
    "    fig = px.box(df, x='cluster', y=grouping_key, color='cluster', labels={'cluster': 'Cluster Number', grouping_key: 'Mean APR'},\n",
    "                 category_orders={'cluster': labels}, hover_data=['collection_name', 'address', 'count', 'borrow_volume', grouping_key, 'median', 'std'])\n",
    "    fig.update_layout(title='Clustering of Collections based on Mean APR')\n",
    "    if not autosize:\n",
    "        fig.update_layout(\n",
    "            width=1300,  # Set the width\n",
    "            height=850,  # Set the height\n",
    "        )\n",
    "    fig.update_layout(paper_bgcolor='white')  # Set paper background color\n",
    "    \n",
    "\n",
    "    # Create scatter plot layer\n",
    "    scatter = go.Scatter(x=df['cluster'], y=df[grouping_key], mode='markers', text=df['collection_name'],\n",
    "                         marker=dict(color=df[grouping_key], colorscale='Viridis', opacity=0.7))\n",
    "\n",
    "    # Add scatter plot layer to box plot figure\n",
    "    fig.add_trace(scatter)\n",
    "    # Update x-axis label\n",
    "    fig.update_xaxes(title_text='Cluster Number')\n",
    "\n",
    "    # Update y-axis label\n",
    "    fig.update_yaxes(title_text='Mean APR')\n",
    "\n",
    "    fig.show()\n",
    "\n",
    "    scatter_fig = px.scatter(table, x=grouping_key, y='collection_name', color='cluster', hover_data=['address', 'collection_name'], size='borrow_volume')\n",
    "    scatter_fig.update_layout(title='Clustering of Collections based on Mean APR')\n",
    "    if not autosize:\n",
    "        scatter_fig.update_layout(\n",
    "            width=1200,  # Set the width\n",
    "            height=600,  # Set the height\n",
    "        )\n",
    "    scatter_fig.update_layout(paper_bgcolor='white')  # Set paper background color\n",
    "    scatter_fig.show()\n",
    "    return table\n"
   ]
  },
  {
   "cell_type": "code",
   "execution_count": 2,
   "metadata": {},
   "outputs": [
    {
     "data": {
      "text/plain": [
       "'Number of collections in raw data: [70]'"
      ]
     },
     "metadata": {},
     "output_type": "display_data"
    },
    {
     "data": {
      "text/html": [
       "<div>\n",
       "<style scoped>\n",
       "    .dataframe tbody tr th:only-of-type {\n",
       "        vertical-align: middle;\n",
       "    }\n",
       "\n",
       "    .dataframe tbody tr th {\n",
       "        vertical-align: top;\n",
       "    }\n",
       "\n",
       "    .dataframe thead th {\n",
       "        text-align: right;\n",
       "    }\n",
       "</style>\n",
       "<table border=\"1\" class=\"dataframe\">\n",
       "  <thead>\n",
       "    <tr style=\"text-align: right;\">\n",
       "      <th></th>\n",
       "      <th>collection_name</th>\n",
       "      <th>address</th>\n",
       "      <th>count</th>\n",
       "      <th>borrow_volume</th>\n",
       "      <th>mean</th>\n",
       "      <th>median</th>\n",
       "      <th>std</th>\n",
       "      <th>cluster</th>\n",
       "      <th>borrow_volume_per_cluster</th>\n",
       "      <th>loan_count_per_cluster</th>\n",
       "      <th>nb_collection_per_cluster</th>\n",
       "    </tr>\n",
       "  </thead>\n",
       "  <tbody>\n",
       "    <tr>\n",
       "      <th>0</th>\n",
       "      <td>Art Blocks</td>\n",
       "      <td>0x059edd72cd353df5106d2b9cc5ab83a52287ac3a</td>\n",
       "      <td>147</td>\n",
       "      <td>1,899,193.43</td>\n",
       "      <td>11.74</td>\n",
       "      <td>9.00</td>\n",
       "      <td>7.15</td>\n",
       "      <td>1</td>\n",
       "      <td>8,488,097.52</td>\n",
       "      <td>292</td>\n",
       "      <td>3</td>\n",
       "    </tr>\n",
       "    <tr>\n",
       "      <th>1</th>\n",
       "      <td>Autoglyphs</td>\n",
       "      <td>0xd4e4078ca3495de5b1d4db434bebc5a986197782</td>\n",
       "      <td>20</td>\n",
       "      <td>4,243,883.08</td>\n",
       "      <td>13.33</td>\n",
       "      <td>9.00</td>\n",
       "      <td>9.69</td>\n",
       "      <td>1</td>\n",
       "      <td>8,488,097.52</td>\n",
       "      <td>292</td>\n",
       "      <td>3</td>\n",
       "    </tr>\n",
       "    <tr>\n",
       "      <th>2</th>\n",
       "      <td>Azuki</td>\n",
       "      <td>0xed5af388653567af2f388e6224dc7c4b3241c544</td>\n",
       "      <td>125</td>\n",
       "      <td>2,345,021.00</td>\n",
       "      <td>17.93</td>\n",
       "      <td>17.00</td>\n",
       "      <td>10.61</td>\n",
       "      <td>1</td>\n",
       "      <td>8,488,097.52</td>\n",
       "      <td>292</td>\n",
       "      <td>3</td>\n",
       "    </tr>\n",
       "    <tr>\n",
       "      <th>3</th>\n",
       "      <td>Terraforms</td>\n",
       "      <td>0x4e1f41613c9084fdb9e34e11fae9412427480e56</td>\n",
       "      <td>59</td>\n",
       "      <td>108,922.53</td>\n",
       "      <td>26.42</td>\n",
       "      <td>24.00</td>\n",
       "      <td>10.68</td>\n",
       "      <td>2</td>\n",
       "      <td>7,446,065.28</td>\n",
       "      <td>579</td>\n",
       "      <td>9</td>\n",
       "    </tr>\n",
       "    <tr>\n",
       "      <th>4</th>\n",
       "      <td>mfer</td>\n",
       "      <td>0x79fcdef22feed20eddacbb2587640e45491b757f</td>\n",
       "      <td>36</td>\n",
       "      <td>44,932.24</td>\n",
       "      <td>27.85</td>\n",
       "      <td>26.00</td>\n",
       "      <td>16.74</td>\n",
       "      <td>2</td>\n",
       "      <td>7,446,065.28</td>\n",
       "      <td>579</td>\n",
       "      <td>9</td>\n",
       "    </tr>\n",
       "  </tbody>\n",
       "</table>\n",
       "</div>"
      ],
      "text/plain": [
       "  collection_name                                     address  count  \\\n",
       "0      Art Blocks  0x059edd72cd353df5106d2b9cc5ab83a52287ac3a    147   \n",
       "1      Autoglyphs  0xd4e4078ca3495de5b1d4db434bebc5a986197782     20   \n",
       "2           Azuki  0xed5af388653567af2f388e6224dc7c4b3241c544    125   \n",
       "3      Terraforms  0x4e1f41613c9084fdb9e34e11fae9412427480e56     59   \n",
       "4            mfer  0x79fcdef22feed20eddacbb2587640e45491b757f     36   \n",
       "\n",
       "   borrow_volume  mean  median   std cluster  borrow_volume_per_cluster  \\\n",
       "0   1,899,193.43 11.74    9.00  7.15       1               8,488,097.52   \n",
       "1   4,243,883.08 13.33    9.00  9.69       1               8,488,097.52   \n",
       "2   2,345,021.00 17.93   17.00 10.61       1               8,488,097.52   \n",
       "3     108,922.53 26.42   24.00 10.68       2               7,446,065.28   \n",
       "4      44,932.24 27.85   26.00 16.74       2               7,446,065.28   \n",
       "\n",
       "   loan_count_per_cluster  nb_collection_per_cluster  \n",
       "0                     292                          3  \n",
       "1                     292                          3  \n",
       "2                     292                          3  \n",
       "3                     579                          9  \n",
       "4                     579                          9  "
      ]
     },
     "metadata": {},
     "output_type": "display_data"
    },
    {
     "data": {
      "text/plain": [
       "'Count of NFT collections per cluster:'"
      ]
     },
     "metadata": {},
     "output_type": "display_data"
    },
    {
     "data": {
      "text/html": [
       "<div>\n",
       "<style scoped>\n",
       "    .dataframe tbody tr th:only-of-type {\n",
       "        vertical-align: middle;\n",
       "    }\n",
       "\n",
       "    .dataframe tbody tr th {\n",
       "        vertical-align: top;\n",
       "    }\n",
       "\n",
       "    .dataframe thead th {\n",
       "        text-align: right;\n",
       "    }\n",
       "</style>\n",
       "<table border=\"1\" class=\"dataframe\">\n",
       "  <thead>\n",
       "    <tr style=\"text-align: right;\">\n",
       "      <th></th>\n",
       "      <th>nb_collection_per_cluster</th>\n",
       "    </tr>\n",
       "    <tr>\n",
       "      <th>cluster</th>\n",
       "      <th></th>\n",
       "    </tr>\n",
       "  </thead>\n",
       "  <tbody>\n",
       "    <tr>\n",
       "      <th>1</th>\n",
       "      <td>3</td>\n",
       "    </tr>\n",
       "    <tr>\n",
       "      <th>2</th>\n",
       "      <td>9</td>\n",
       "    </tr>\n",
       "    <tr>\n",
       "      <th>3</th>\n",
       "      <td>8</td>\n",
       "    </tr>\n",
       "    <tr>\n",
       "      <th>4</th>\n",
       "      <td>36</td>\n",
       "    </tr>\n",
       "    <tr>\n",
       "      <th>5</th>\n",
       "      <td>12</td>\n",
       "    </tr>\n",
       "  </tbody>\n",
       "</table>\n",
       "</div>"
      ],
      "text/plain": [
       "         nb_collection_per_cluster\n",
       "cluster                           \n",
       "1                                3\n",
       "2                                9\n",
       "3                                8\n",
       "4                               36\n",
       "5                               12"
      ]
     },
     "metadata": {},
     "output_type": "display_data"
    },
    {
     "data": {
      "application/vnd.plotly.v1+json": {
       "config": {
        "plotlyServerURL": "https://plot.ly"
       },
       "data": [
        {
         "alignmentgroup": "True",
         "customdata": [
          [
           "Art Blocks",
           "0x059edd72cd353df5106d2b9cc5ab83a52287ac3a",
           147,
           1899193.4331000217,
           9,
           7.15379612843092
          ],
          [
           "Autoglyphs",
           "0xd4e4078ca3495de5b1d4db434bebc5a986197782",
           20,
           4243883.084601564,
           9.000000000000089,
           9.688351491032323
          ],
          [
           "Azuki",
           "0xed5af388653567af2f388e6224dc7c4b3241c544",
           125,
           2345021.0009652493,
           17.000000000000036,
           10.606860608886
          ]
         ],
         "hovertemplate": "Cluster Number=%{x}<br>Mean APR=%{y}<br>collection_name=%{customdata[0]}<br>address=%{customdata[1]}<br>count=%{customdata[2]}<br>borrow_volume=%{customdata[3]}<br>median=%{customdata[4]}<br>std=%{customdata[5]}<extra></extra>",
         "legendgroup": "1",
         "marker": {
          "color": "#636efa"
         },
         "name": "1",
         "notched": false,
         "offsetgroup": "1",
         "orientation": "v",
         "showlegend": true,
         "type": "box",
         "x": [
          1,
          1,
          1
         ],
         "x0": " ",
         "xaxis": "x",
         "y": [
          11.74123152324633,
          13.333439746926842,
          17.928549216645806
         ],
         "y0": " ",
         "yaxis": "y"
        },
        {
         "alignmentgroup": "True",
         "customdata": [
          [
           "Cool Cats",
           "0x1a92f7381b9f03921564a437210bb9396471050c",
           24,
           33709.1768110818,
           29.000000857142865,
           24.15330086359542
          ],
          [
           "BEANZ Official",
           "0x306b1ea3ecdf94ab739f1910bbda052ed4a9f949",
           107,
           239392.7590378993,
           32.99999999999995,
           21.62641880814384
          ],
          [
           "Ethereum Name Service (ENS)",
           "0x57f1887a8bf19b14fc0df6fd9b2acc9af147ea85",
           57,
           36764.6869911028,
           25.00000015555553,
           29.266753563366063
          ],
          [
           "The Captainz",
           "0x769272677fab02575e84945f03eca517acc544cc",
           142,
           1084539.0659853702,
           25.000081874377457,
           31.00066470087854
          ],
          [
           "mfer",
           "0x79fcdef22feed20eddacbb2587640e45491b757f",
           36,
           44932.23672000192,
           26.00000000000001,
           16.74109330802451
          ],
          [
           "VeeFriends",
           "0xa3aee8bce55beea1951ef834b99f3ac60d1abeeb",
           40,
           155660.171654045,
           30.00004523809524,
           16.489843751004514
          ],
          [
           "Bored Ape Yacht Club",
           "0xbc4ca0eda7647a8ab7c2061c2e118a18a936f13d",
           80,
           5385201.636549897,
           15.000000000000092,
           49.39416439176128
          ],
          [
           "Otherside Koda",
           "0xe012baf811cf9c05c408e879c399960d1f305903",
           34,
           356943.0153000246,
           29.99995833333333,
           16.053281344707116
          ],
          [
           "Terraforms",
           "0x4e1f41613c9084fdb9e34e11fae9412427480e56",
           59,
           108922.5302056938,
           24.000000269841088,
           10.683865950525975
          ]
         ],
         "hovertemplate": "Cluster Number=%{x}<br>Mean APR=%{y}<br>collection_name=%{customdata[0]}<br>address=%{customdata[1]}<br>count=%{customdata[2]}<br>borrow_volume=%{customdata[3]}<br>median=%{customdata[4]}<br>std=%{customdata[5]}<extra></extra>",
         "legendgroup": "2",
         "marker": {
          "color": "#EF553B"
         },
         "name": "2",
         "notched": false,
         "offsetgroup": "2",
         "orientation": "v",
         "showlegend": true,
         "type": "box",
         "x": [
          2,
          2,
          2,
          2,
          2,
          2,
          2,
          2,
          2
         ],
         "x0": " ",
         "xaxis": "x",
         "y": [
          32.97431915114726,
          32.85575978537696,
          32.83520953804967,
          32.118504363858,
          27.84837840778923,
          32.77896678214076,
          30.33379255407484,
          32.28740793635553,
          26.424980508773828
         ],
         "y0": " ",
         "yaxis": "y"
        },
        {
         "alignmentgroup": "True",
         "customdata": [
          [
           "Moonbirds",
           "0x23581767a106ae21c074b2276d25e5c3e136a68b",
           74,
           399615.26825,
           30.00000000000001,
           13.356912394797163
          ],
          [
           "Otherside Vessels",
           "0x5b1085136a811e55b2bb2ca1ea456ba82126a376",
           28,
           14097.831140000004,
           44.000750000000025,
           22.2187951220464
          ],
          [
           "MutantApeYachtClub",
           "0x60e4d786628fea6478f785a6d7e704777c86a7c6",
           186,
           3017176.470605762,
           22.999999999999865,
           38.001037392880576
          ],
          [
           "Meebits",
           "0x7bd29408f11d2bfc23c34f18275bbf23bb716bc7",
           129,
           457812.9824962221,
           38.00000000000056,
           12.957542390024974
          ],
          [
           "Friendship Bracelets by Alexis André",
           "0x942bc2d3e7a589fe5bd4a5c6ef9727dfd82f5c8a",
           778,
           313112.29081151,
           19.00000000000015,
           27.18424445282839
          ],
          [
           "FLUF",
           "0xccc441ac31f02cd96c153db6fd5fe0a2f4e6a68d",
           87,
           171641.71267651042,
           34.99998518518518,
           20.08565947985304
          ],
          [
           "DigiDaigaku Genesis",
           "0xd1258db6ac08eb0e625b75b371c023da478e94a9",
           87,
           548829.695023021,
           33.00012558869683,
           14.63958625807865
          ],
          [
           "Art Blocks",
           "0x99a9b7c1116f9ceeb1652de04d5969cce509b069",
           32,
           51523.62776,
           30.00000000000001,
           20.201935974184085
          ]
         ],
         "hovertemplate": "Cluster Number=%{x}<br>Mean APR=%{y}<br>collection_name=%{customdata[0]}<br>address=%{customdata[1]}<br>count=%{customdata[2]}<br>borrow_volume=%{customdata[3]}<br>median=%{customdata[4]}<br>std=%{customdata[5]}<extra></extra>",
         "legendgroup": "3",
         "marker": {
          "color": "#00cc96"
         },
         "name": "3",
         "notched": false,
         "offsetgroup": "3",
         "orientation": "v",
         "showlegend": true,
         "type": "box",
         "x": [
          3,
          3,
          3,
          3,
          3,
          3,
          3,
          3
         ],
         "x0": " ",
         "xaxis": "x",
         "y": [
          33.97608046056404,
          39.83403619962515,
          33.935206786033135,
          35.16107130429609,
          38.48885818054773,
          37.13019361475845,
          33.80794832562575,
          35.479439920915944
         ],
         "y0": " ",
         "yaxis": "y"
        },
        {
         "alignmentgroup": "True",
         "customdata": [
          [
           "PudgyPresent",
           "0x062e691c2054de82f28008a8ccc6d7a1c8ce060d",
           21,
           19114.9775,
           55.00202380952388,
           20.89028665607309
          ],
          [
           "Cryptoadz",
           "0x1cb1a5e65610aeff2551a50f76a87a7d3fb649c6",
           48,
           67486.94400000501,
           45.0000472508591,
           21.281872487227268
          ],
          [
           "Valhalla",
           "0x231d3559aa848bf10366fb9868590f01d34bf240",
           33,
           29141.02505890253,
           38.99378881987578,
           29.342869942384464
          ],
          [
           "Land",
           "0x2c88aa0956bc9813505d73575f653f69ada60923",
           55,
           400295.6133000039,
           39.98988666666681,
           14.463458566022725
          ],
          [
           "Otherdeed for Otherside",
           "0x34d85c9cdeb23fa97cb08333b511ac86e1c4e258",
           306,
           1605696.5790024053,
           44.99999833333344,
           29.07200812623177
          ],
          [
           "Checks - VV Edition",
           "0x34eebee6942d8def3c125458d1a86e0a897fd6f9",
           156,
           199307.95292668996,
           44.00277777777752,
           27.774411735296816
          ],
          [
           "RENGA",
           "0x394e3d3044fc89fcdd966d3cb35ac0b32b0cda91",
           125,
           173093.2698291712,
           47.4999999999994,
           25.07006226049937
          ],
          [
           "The Potatoz",
           "0x39ee2c7b3cb80254225884ca001f57118c8f21b6",
           101,
           357009.46105323895,
           40.2000000000001,
           14.127051871517605
          ],
          [
           "0N1 Force",
           "0x3bf2922f4520a8ba0c2efc3d2a1539678dad5e9d",
           22,
           16735.855419773998,
           39.99999960000007,
           37.46174706308521
          ],
          [
           "CryptoDickbutts S3",
           "0x42069abfe407c60cf4ae4112bedead391dba1cdb",
           199,
           433197.1313600044,
           39.00011481481487,
           11.47590079501041
          ],
          [
           "NFTfi Locked Bundle",
           "0x46c9cfb32627b74f91e0b5ad575c247aec7e7847",
           58,
           444710.9330002992,
           40.00008928571392,
           16.257552356780536
          ],
          [
           "CloneX",
           "0x49cf6f5d44e70224e2e23fdcdd2c053f30ada28b",
           104,
           504433.3540590759,
           38.000009615384656,
           22.408565693651852
          ],
          [
           "HV-MTL",
           "0x4b15a9c28034dc83db40cd810001427d3bd7163d",
           89,
           286074.3770786344,
           49.00023611111112,
           19.307687991811
          ],
          [
           "LilPudgys",
           "0x524cab2ec69124574082676e6f654a18df49a048",
           145,
           60662.97816754763,
           49.98712480252771,
           26.9517032555198
          ],
          [
           "10KTF Gucci Grail",
           "0x572e33ffa523865791ab1c26b42a86ac244df784",
           20,
           1558.462540012895,
           64.99999952380945,
           22.401698726226662
          ],
          [
           "CyberKongz",
           "0x57a204aa1042f6e66dd7730813f4024114d74f37",
           24,
           189616.8201410335,
           39.99000833333317,
           19.0102037490585
          ],
          [
           "Creepz by OVERLORD",
           "0x5946aeaab44e65eb370ffaa6a7ef2218cff9b47d",
           219,
           369366.0292282028,
           49.99999999999996,
           16.963407230088606
          ],
          [
           "Milady",
           "0x5af0d9827e0c53e4799bb226655a1de152a425a5",
           29,
           78295.102460003,
           28.99999993015866,
           24.0532266447042
          ],
          [
           "Art Blocks x Pace",
           "0x64780ce53f6e966e18a22af13a2f97369580ec11",
           33,
           69078.50366777122,
           49.000049342105214,
           21.271214560752288
          ],
          [
           "Otherdeed Expanded",
           "0x790b2cf29ed4f310bf7641f013c65d4560d28371",
           66,
           122400.33738003705,
           46.499999999999886,
           15.14994717633354
          ],
          [
           "Murakami.Flowers Official",
           "0x7d8820fa92eb1584636f4f5b8515b5476b75171a",
           26,
           22934.29514737172,
           50.00013333333334,
           35.31870019892174
          ],
          [
           "CyberKongz VX",
           "0x7ea3cca10668b8346aec0bf1844a49e995527c8b",
           82,
           31206.216500000803,
           41.999998921568725,
           20.52005551414658
          ],
          [
           "Wolf Game",
           "0x7f36182dee28c45de6072a34d29855bae76dbe2f",
           55,
           263458.81,
           45.000589285713936,
           19.108258171414867
          ],
          [
           "Chimpers",
           "0x80336ad7a747236ef41f47ed2c7641828a480baa",
           90,
           98901.61604000002,
           50.000437499999926,
           12.342086716094116
          ],
          [
           "CyberBrokers",
           "0x892848074ddea461a15f337250da3ce55580ca85",
           40,
           21358.901519029994,
           38.998511904762005,
           23.743578593949877
          ],
          [
           "Doodles",
           "0x8a90cab2b38dba80c64b7734e58ee1db38b8992e",
           143,
           775334.0274588761,
           39.00004722222222,
           33.599161653140165
          ],
          [
           "OnChainMonkey",
           "0x960b7a6bcd451c9968473f7bbfd9be826efd549a",
           77,
           167232.15180000148,
           50.00013333333334,
           19.4663283452231
          ],
          [
           "NFTfi Locked Bundle",
           "0x9a129032f01eb4ddd764c1777c81b771c34a2fbe",
           60,
           1082608.2414850427,
           49.99978571428608,
           25.226716660495573
          ],
          [
           "Art Blocks Curated",
           "0xa7d8d9ef8d8ce8992df33d8b8cf4aebabd5bd270",
           521,
           2500071.953559003,
           38.99996031746032,
           23.250309169613207
          ],
          [
           "PudgyPenguins",
           "0xbd3531da5cf5857e7cfaa92426877b022e612cf8",
           248,
           1598249.8994342398,
           35.00002380952381,
           19.37465541779608
          ],
          [
           "HUXLEY Robots",
           "0xbeb1d3357cd525947b16a9f7a2b3d50b50b977bd",
           34,
           18008.637500006305,
           51.99999996666667,
           29.04854126874449
          ],
          [
           "Async Blueprints",
           "0xc143bbfcdbdbed6d454803804752a064a622c1f3",
           41,
           453773.67860003066,
           35.000002083333285,
           18.156684931741992
          ],
          [
           "KILLABEARS",
           "0xc99c679c50033bbc5321eb88752e89a93e9e83c5",
           267,
           1184540.0880626685,
           69.99998768472906,
           24.550698832222054
          ],
          [
           "MAX PAIN AND FRENS BY XCOPY",
           "0xd1169e5349d1cb9941f3dcba135c8a4b9eacfdde",
           59,
           36693.241550000246,
           49.00003333333333,
           28.762160352373723
          ],
          [
           "World Of Women",
           "0xe785e82358879f061bc3dcac6f0444462d4b5330",
           104,
           191576.66254404729,
           48.99994642857151,
           26.940833915681115
          ],
          [
           "Bored Ape Kennel Club",
           "0xba30e5f9bb24caa003e9f2f0497ad287fdf95623",
           81,
           669697.9721838759,
           38.49997878787868,
           31.90305336690753
          ]
         ],
         "hovertemplate": "Cluster Number=%{x}<br>Mean APR=%{y}<br>collection_name=%{customdata[0]}<br>address=%{customdata[1]}<br>count=%{customdata[2]}<br>borrow_volume=%{customdata[3]}<br>median=%{customdata[4]}<br>std=%{customdata[5]}<extra></extra>",
         "legendgroup": "4",
         "marker": {
          "color": "#ab63fa"
         },
         "name": "4",
         "notched": false,
         "offsetgroup": "4",
         "orientation": "v",
         "showlegend": true,
         "type": "box",
         "x": [
          4,
          4,
          4,
          4,
          4,
          4,
          4,
          4,
          4,
          4,
          4,
          4,
          4,
          4,
          4,
          4,
          4,
          4,
          4,
          4,
          4,
          4,
          4,
          4,
          4,
          4,
          4,
          4,
          4,
          4,
          4,
          4,
          4,
          4,
          4,
          4
         ],
         "x0": " ",
         "xaxis": "x",
         "y": [
          56.06729191393805,
          45.51020354069767,
          40.31270619490844,
          41.51583319733468,
          53.05090106024196,
          55.48936859494307,
          49.19260192626644,
          41.368695500977054,
          45.02649071602695,
          40.34649425215632,
          42.406538092707,
          42.497347279022456,
          47.78592827943496,
          48.46217683718123,
          55.79962792810211,
          46.53080725445194,
          54.218713952837575,
          42.70559448959294,
          51.846175045314695,
          41.63993647995168,
          58.55023340108063,
          54.43127077289869,
          48.82332417414345,
          51.855458758274025,
          47.01278942064605,
          47.46033441127034,
          49.80463927437078,
          51.50739970462123,
          42.71234675963504,
          40.117258111307,
          51.20575090373028,
          42.14565093505251,
          59.23382531872094,
          44.03849751494662,
          48.6468282890184,
          49.76369684319519
         ],
         "y0": " ",
         "yaxis": "y"
        },
        {
         "alignmentgroup": "True",
         "customdata": [
          [
           "Sandbox's LANDs",
           "0x5cc5b05a8a13e3fbdb0bb9fccd98d38e50f90c38",
           141,
           120612.21724117755,
           70.98798342732337,
           26.241600510914
          ],
          [
           "Opepen Edition",
           "0x6339e5e072086621540d0362c4e3cea0d643e114",
           48,
           14514.067376509243,
           74.99999887755116,
           48.39970820665661
          ],
          [
           "KILLABITS",
           "0x64a1c0937728d8d2fa8cd81ef61a9c860b7362db",
           108,
           129649.16751919112,
           75.00131263126318,
           22.491254318268023
          ],
          [
           "Nina's Super Cool World",
           "0x670d4dd2e6badfbbd372d0d37e06cd2852754a04",
           47,
           11562.698599926343,
           69.00110294117647,
           20.56472659972451
          ],
          [
           null,
           "0x79986af15539de2db9a5086382daeda917a9cf0c",
           33,
           13032.577310760958,
           79.99847826086958,
           10.977818189714334
          ],
          [
           "Goblinverse Island",
           "0xb268db1c8d033d27d85f9d0efe20082ebcda391d",
           310,
           267593.081811968,
           77.99968888888887,
           20.258851428401982
          ],
          [
           "rektguy",
           "0xb852c6b5892256c264cc2c888ea462189154d8d7",
           876,
           1166737.4728723925,
           59.99951111111109,
           22.397649780683757
          ],
          [
           "Elemental by Fang Lijun",
           "0xc9677cd8e9652f1b1aadd3429769b0ef8d7a0425",
           26,
           17265.116820003284,
           75.00068131868136,
           26.77024475727136
          ],
          [
           "Nakamigos",
           "0xd774557b647330c91bf44cfeab205095f7e6c367",
           98,
           46011.26058152528,
           78.99884259259261,
           48.45870170284918
          ],
          [
           "World of Women Galaxy",
           "0xf61f24c2d93bf2de187546b14425bf631f28d6dc",
           30,
           7580.590819159823,
           74.00037037037043,
           24.602931076976603
          ],
          [
           "Cold Blooded Creepz",
           "0xfe8c6d19365453d26af321d0e8c910428c23873f",
           52,
           97520.45229357875,
           58.999642857143,
           31.13531254698796
          ],
          [
           "Ethlizards",
           "0x16de9d750f4ac24226154c40980ef83d4d3fd4ad",
           21,
           15490.407000000005,
           89.99857142857138,
           17.493805593893377
          ],
          [
           "Sewer Pass",
           "0x764aeebcf425d56800ef2c84f2578689415a2daa",
           20,
           43288.87145618271,
           65.00000039285717,
           41.20868805304516
          ]
         ],
         "hovertemplate": "Cluster Number=%{x}<br>Mean APR=%{y}<br>collection_name=%{customdata[0]}<br>address=%{customdata[1]}<br>count=%{customdata[2]}<br>borrow_volume=%{customdata[3]}<br>median=%{customdata[4]}<br>std=%{customdata[5]}<extra></extra>",
         "legendgroup": "5",
         "marker": {
          "color": "#FFA15A"
         },
         "name": "5",
         "notched": false,
         "offsetgroup": "5",
         "orientation": "v",
         "showlegend": true,
         "type": "box",
         "x": [
          5,
          5,
          5,
          5,
          5,
          5,
          5,
          5,
          5,
          5,
          5,
          5,
          5
         ],
         "x0": " ",
         "xaxis": "x",
         "y": [
          66.02753312022364,
          71.16396619780836,
          66.92695915601671,
          61.38122288680776,
          79.15122054542762,
          76.95068300236619,
          61.12501232672832,
          64.38442663566488,
          65.15208190707666,
          69.71209429208731,
          65.79590995638858,
          83.38016562946163,
          72.71729047408006
         ],
         "y0": " ",
         "yaxis": "y"
        },
        {
         "marker": {
          "color": [
           11.74123152324633,
           56.06729191393805,
           32.97431915114726,
           45.51020354069767,
           40.31270619490844,
           33.97608046056404,
           41.51583319733468,
           32.85575978537696,
           53.05090106024196,
           55.48936859494307,
           49.19260192626644,
           41.368695500977054,
           45.02649071602695,
           40.34649425215632,
           42.406538092707,
           42.497347279022456,
           47.78592827943496,
           48.46217683718123,
           55.79962792810211,
           46.53080725445194,
           32.83520953804967,
           54.218713952837575,
           42.70559448959294,
           39.83403619962515,
           66.02753312022364,
           33.935206786033135,
           71.16396619780836,
           51.846175045314695,
           66.92695915601671,
           61.38122288680776,
           32.118504363858,
           41.63993647995168,
           79.15122054542762,
           27.84837840778923,
           35.16107130429609,
           58.55023340108063,
           54.43127077289869,
           48.82332417414345,
           51.855458758274025,
           47.01278942064605,
           47.46033441127034,
           38.48885818054773,
           49.80463927437078,
           51.50739970462123,
           32.77896678214076,
           42.71234675963504,
           76.95068300236619,
           9.152059434215015,
           61.12501232672832,
           30.33379255407484,
           40.117258111307,
           51.20575090373028,
           42.14565093505251,
           64.38442663566488,
           59.23382531872094,
           37.13019361475845,
           44.03849751494662,
           33.80794832562575,
           13.333439746926842,
           65.15208190707666,
           32.28740793635553,
           48.6468282890184,
           17.928549216645806,
           69.71209429208731,
           65.79590995638858,
           49.76369684319519,
           83.38016562946163,
           26.424980508773828,
           72.71729047408006,
           35.479439920915944
          ],
          "colorscale": [
           [
            0,
            "#440154"
           ],
           [
            0.1111111111111111,
            "#482878"
           ],
           [
            0.2222222222222222,
            "#3e4989"
           ],
           [
            0.3333333333333333,
            "#31688e"
           ],
           [
            0.4444444444444444,
            "#26828e"
           ],
           [
            0.5555555555555556,
            "#1f9e89"
           ],
           [
            0.6666666666666666,
            "#35b779"
           ],
           [
            0.7777777777777778,
            "#6ece58"
           ],
           [
            0.8888888888888888,
            "#b5de2b"
           ],
           [
            1,
            "#fde725"
           ]
          ],
          "opacity": 0.7
         },
         "mode": "markers",
         "text": [
          "Art Blocks",
          "PudgyPresent",
          "Cool Cats",
          "Cryptoadz",
          "Valhalla",
          "Moonbirds",
          "Land",
          "BEANZ Official",
          "Otherdeed for Otherside",
          "Checks - VV Edition",
          "RENGA",
          "The Potatoz",
          "0N1 Force",
          "CryptoDickbutts S3",
          "NFTfi Locked Bundle",
          "CloneX",
          "HV-MTL",
          "LilPudgys",
          "10KTF Gucci Grail",
          "CyberKongz",
          "Ethereum Name Service (ENS)",
          "Creepz by OVERLORD",
          "Milady",
          "Otherside Vessels",
          "Sandbox's LANDs",
          "MutantApeYachtClub",
          "Opepen Edition",
          "Art Blocks x Pace",
          "KILLABITS",
          "Nina's Super Cool World",
          "The Captainz",
          "Otherdeed Expanded",
          null,
          "mfer",
          "Meebits",
          "Murakami.Flowers Official",
          "CyberKongz VX",
          "Wolf Game",
          "Chimpers",
          "CyberBrokers",
          "Doodles",
          "Friendship Bracelets by Alexis André",
          "OnChainMonkey",
          "NFTfi Locked Bundle",
          "VeeFriends",
          "Art Blocks Curated",
          "Goblinverse Island",
          "Wrapped Cryptopunks",
          "rektguy",
          "Bored Ape Yacht Club",
          "PudgyPenguins",
          "HUXLEY Robots",
          "Async Blueprints",
          "Elemental by Fang Lijun",
          "KILLABEARS",
          "FLUF",
          "MAX PAIN AND FRENS BY XCOPY",
          "DigiDaigaku Genesis",
          "Autoglyphs",
          "Nakamigos",
          "Otherside Koda",
          "World Of Women",
          "Azuki",
          "World of Women Galaxy",
          "Cold Blooded Creepz",
          "Bored Ape Kennel Club",
          "Ethlizards",
          "Terraforms",
          "Sewer Pass",
          "Art Blocks"
         ],
         "type": "scatter",
         "x": [
          1,
          4,
          2,
          4,
          4,
          3,
          4,
          2,
          4,
          4,
          4,
          4,
          4,
          4,
          4,
          4,
          4,
          4,
          4,
          4,
          2,
          4,
          4,
          3,
          5,
          3,
          5,
          4,
          5,
          5,
          2,
          4,
          5,
          2,
          3,
          4,
          4,
          4,
          4,
          4,
          4,
          3,
          4,
          4,
          2,
          4,
          5,
          null,
          5,
          2,
          4,
          4,
          4,
          5,
          4,
          3,
          4,
          3,
          1,
          5,
          2,
          4,
          1,
          5,
          5,
          4,
          5,
          2,
          5,
          3
         ],
         "y": [
          11.74123152324633,
          56.06729191393805,
          32.97431915114726,
          45.51020354069767,
          40.31270619490844,
          33.97608046056404,
          41.51583319733468,
          32.85575978537696,
          53.05090106024196,
          55.48936859494307,
          49.19260192626644,
          41.368695500977054,
          45.02649071602695,
          40.34649425215632,
          42.406538092707,
          42.497347279022456,
          47.78592827943496,
          48.46217683718123,
          55.79962792810211,
          46.53080725445194,
          32.83520953804967,
          54.218713952837575,
          42.70559448959294,
          39.83403619962515,
          66.02753312022364,
          33.935206786033135,
          71.16396619780836,
          51.846175045314695,
          66.92695915601671,
          61.38122288680776,
          32.118504363858,
          41.63993647995168,
          79.15122054542762,
          27.84837840778923,
          35.16107130429609,
          58.55023340108063,
          54.43127077289869,
          48.82332417414345,
          51.855458758274025,
          47.01278942064605,
          47.46033441127034,
          38.48885818054773,
          49.80463927437078,
          51.50739970462123,
          32.77896678214076,
          42.71234675963504,
          76.95068300236619,
          9.152059434215015,
          61.12501232672832,
          30.33379255407484,
          40.117258111307,
          51.20575090373028,
          42.14565093505251,
          64.38442663566488,
          59.23382531872094,
          37.13019361475845,
          44.03849751494662,
          33.80794832562575,
          13.333439746926842,
          65.15208190707666,
          32.28740793635553,
          48.6468282890184,
          17.928549216645806,
          69.71209429208731,
          65.79590995638858,
          49.76369684319519,
          83.38016562946163,
          26.424980508773828,
          72.71729047408006,
          35.479439920915944
         ]
        }
       ],
       "layout": {
        "boxmode": "overlay",
        "height": 850,
        "legend": {
         "title": {
          "text": "Cluster Number"
         },
         "tracegroupgap": 0
        },
        "margin": {
         "t": 60
        },
        "paper_bgcolor": "white",
        "template": {
         "data": {
          "bar": [
           {
            "error_x": {
             "color": "#2a3f5f"
            },
            "error_y": {
             "color": "#2a3f5f"
            },
            "marker": {
             "line": {
              "color": "#E5ECF6",
              "width": 0.5
             },
             "pattern": {
              "fillmode": "overlay",
              "size": 10,
              "solidity": 0.2
             }
            },
            "type": "bar"
           }
          ],
          "barpolar": [
           {
            "marker": {
             "line": {
              "color": "#E5ECF6",
              "width": 0.5
             },
             "pattern": {
              "fillmode": "overlay",
              "size": 10,
              "solidity": 0.2
             }
            },
            "type": "barpolar"
           }
          ],
          "carpet": [
           {
            "aaxis": {
             "endlinecolor": "#2a3f5f",
             "gridcolor": "white",
             "linecolor": "white",
             "minorgridcolor": "white",
             "startlinecolor": "#2a3f5f"
            },
            "baxis": {
             "endlinecolor": "#2a3f5f",
             "gridcolor": "white",
             "linecolor": "white",
             "minorgridcolor": "white",
             "startlinecolor": "#2a3f5f"
            },
            "type": "carpet"
           }
          ],
          "choropleth": [
           {
            "colorbar": {
             "outlinewidth": 0,
             "ticks": ""
            },
            "type": "choropleth"
           }
          ],
          "contour": [
           {
            "colorbar": {
             "outlinewidth": 0,
             "ticks": ""
            },
            "colorscale": [
             [
              0,
              "#0d0887"
             ],
             [
              0.1111111111111111,
              "#46039f"
             ],
             [
              0.2222222222222222,
              "#7201a8"
             ],
             [
              0.3333333333333333,
              "#9c179e"
             ],
             [
              0.4444444444444444,
              "#bd3786"
             ],
             [
              0.5555555555555556,
              "#d8576b"
             ],
             [
              0.6666666666666666,
              "#ed7953"
             ],
             [
              0.7777777777777778,
              "#fb9f3a"
             ],
             [
              0.8888888888888888,
              "#fdca26"
             ],
             [
              1,
              "#f0f921"
             ]
            ],
            "type": "contour"
           }
          ],
          "contourcarpet": [
           {
            "colorbar": {
             "outlinewidth": 0,
             "ticks": ""
            },
            "type": "contourcarpet"
           }
          ],
          "heatmap": [
           {
            "colorbar": {
             "outlinewidth": 0,
             "ticks": ""
            },
            "colorscale": [
             [
              0,
              "#0d0887"
             ],
             [
              0.1111111111111111,
              "#46039f"
             ],
             [
              0.2222222222222222,
              "#7201a8"
             ],
             [
              0.3333333333333333,
              "#9c179e"
             ],
             [
              0.4444444444444444,
              "#bd3786"
             ],
             [
              0.5555555555555556,
              "#d8576b"
             ],
             [
              0.6666666666666666,
              "#ed7953"
             ],
             [
              0.7777777777777778,
              "#fb9f3a"
             ],
             [
              0.8888888888888888,
              "#fdca26"
             ],
             [
              1,
              "#f0f921"
             ]
            ],
            "type": "heatmap"
           }
          ],
          "heatmapgl": [
           {
            "colorbar": {
             "outlinewidth": 0,
             "ticks": ""
            },
            "colorscale": [
             [
              0,
              "#0d0887"
             ],
             [
              0.1111111111111111,
              "#46039f"
             ],
             [
              0.2222222222222222,
              "#7201a8"
             ],
             [
              0.3333333333333333,
              "#9c179e"
             ],
             [
              0.4444444444444444,
              "#bd3786"
             ],
             [
              0.5555555555555556,
              "#d8576b"
             ],
             [
              0.6666666666666666,
              "#ed7953"
             ],
             [
              0.7777777777777778,
              "#fb9f3a"
             ],
             [
              0.8888888888888888,
              "#fdca26"
             ],
             [
              1,
              "#f0f921"
             ]
            ],
            "type": "heatmapgl"
           }
          ],
          "histogram": [
           {
            "marker": {
             "pattern": {
              "fillmode": "overlay",
              "size": 10,
              "solidity": 0.2
             }
            },
            "type": "histogram"
           }
          ],
          "histogram2d": [
           {
            "colorbar": {
             "outlinewidth": 0,
             "ticks": ""
            },
            "colorscale": [
             [
              0,
              "#0d0887"
             ],
             [
              0.1111111111111111,
              "#46039f"
             ],
             [
              0.2222222222222222,
              "#7201a8"
             ],
             [
              0.3333333333333333,
              "#9c179e"
             ],
             [
              0.4444444444444444,
              "#bd3786"
             ],
             [
              0.5555555555555556,
              "#d8576b"
             ],
             [
              0.6666666666666666,
              "#ed7953"
             ],
             [
              0.7777777777777778,
              "#fb9f3a"
             ],
             [
              0.8888888888888888,
              "#fdca26"
             ],
             [
              1,
              "#f0f921"
             ]
            ],
            "type": "histogram2d"
           }
          ],
          "histogram2dcontour": [
           {
            "colorbar": {
             "outlinewidth": 0,
             "ticks": ""
            },
            "colorscale": [
             [
              0,
              "#0d0887"
             ],
             [
              0.1111111111111111,
              "#46039f"
             ],
             [
              0.2222222222222222,
              "#7201a8"
             ],
             [
              0.3333333333333333,
              "#9c179e"
             ],
             [
              0.4444444444444444,
              "#bd3786"
             ],
             [
              0.5555555555555556,
              "#d8576b"
             ],
             [
              0.6666666666666666,
              "#ed7953"
             ],
             [
              0.7777777777777778,
              "#fb9f3a"
             ],
             [
              0.8888888888888888,
              "#fdca26"
             ],
             [
              1,
              "#f0f921"
             ]
            ],
            "type": "histogram2dcontour"
           }
          ],
          "mesh3d": [
           {
            "colorbar": {
             "outlinewidth": 0,
             "ticks": ""
            },
            "type": "mesh3d"
           }
          ],
          "parcoords": [
           {
            "line": {
             "colorbar": {
              "outlinewidth": 0,
              "ticks": ""
             }
            },
            "type": "parcoords"
           }
          ],
          "pie": [
           {
            "automargin": true,
            "type": "pie"
           }
          ],
          "scatter": [
           {
            "fillpattern": {
             "fillmode": "overlay",
             "size": 10,
             "solidity": 0.2
            },
            "type": "scatter"
           }
          ],
          "scatter3d": [
           {
            "line": {
             "colorbar": {
              "outlinewidth": 0,
              "ticks": ""
             }
            },
            "marker": {
             "colorbar": {
              "outlinewidth": 0,
              "ticks": ""
             }
            },
            "type": "scatter3d"
           }
          ],
          "scattercarpet": [
           {
            "marker": {
             "colorbar": {
              "outlinewidth": 0,
              "ticks": ""
             }
            },
            "type": "scattercarpet"
           }
          ],
          "scattergeo": [
           {
            "marker": {
             "colorbar": {
              "outlinewidth": 0,
              "ticks": ""
             }
            },
            "type": "scattergeo"
           }
          ],
          "scattergl": [
           {
            "marker": {
             "colorbar": {
              "outlinewidth": 0,
              "ticks": ""
             }
            },
            "type": "scattergl"
           }
          ],
          "scattermapbox": [
           {
            "marker": {
             "colorbar": {
              "outlinewidth": 0,
              "ticks": ""
             }
            },
            "type": "scattermapbox"
           }
          ],
          "scatterpolar": [
           {
            "marker": {
             "colorbar": {
              "outlinewidth": 0,
              "ticks": ""
             }
            },
            "type": "scatterpolar"
           }
          ],
          "scatterpolargl": [
           {
            "marker": {
             "colorbar": {
              "outlinewidth": 0,
              "ticks": ""
             }
            },
            "type": "scatterpolargl"
           }
          ],
          "scatterternary": [
           {
            "marker": {
             "colorbar": {
              "outlinewidth": 0,
              "ticks": ""
             }
            },
            "type": "scatterternary"
           }
          ],
          "surface": [
           {
            "colorbar": {
             "outlinewidth": 0,
             "ticks": ""
            },
            "colorscale": [
             [
              0,
              "#0d0887"
             ],
             [
              0.1111111111111111,
              "#46039f"
             ],
             [
              0.2222222222222222,
              "#7201a8"
             ],
             [
              0.3333333333333333,
              "#9c179e"
             ],
             [
              0.4444444444444444,
              "#bd3786"
             ],
             [
              0.5555555555555556,
              "#d8576b"
             ],
             [
              0.6666666666666666,
              "#ed7953"
             ],
             [
              0.7777777777777778,
              "#fb9f3a"
             ],
             [
              0.8888888888888888,
              "#fdca26"
             ],
             [
              1,
              "#f0f921"
             ]
            ],
            "type": "surface"
           }
          ],
          "table": [
           {
            "cells": {
             "fill": {
              "color": "#EBF0F8"
             },
             "line": {
              "color": "white"
             }
            },
            "header": {
             "fill": {
              "color": "#C8D4E3"
             },
             "line": {
              "color": "white"
             }
            },
            "type": "table"
           }
          ]
         },
         "layout": {
          "annotationdefaults": {
           "arrowcolor": "#2a3f5f",
           "arrowhead": 0,
           "arrowwidth": 1
          },
          "autotypenumbers": "strict",
          "coloraxis": {
           "colorbar": {
            "outlinewidth": 0,
            "ticks": ""
           }
          },
          "colorscale": {
           "diverging": [
            [
             0,
             "#8e0152"
            ],
            [
             0.1,
             "#c51b7d"
            ],
            [
             0.2,
             "#de77ae"
            ],
            [
             0.3,
             "#f1b6da"
            ],
            [
             0.4,
             "#fde0ef"
            ],
            [
             0.5,
             "#f7f7f7"
            ],
            [
             0.6,
             "#e6f5d0"
            ],
            [
             0.7,
             "#b8e186"
            ],
            [
             0.8,
             "#7fbc41"
            ],
            [
             0.9,
             "#4d9221"
            ],
            [
             1,
             "#276419"
            ]
           ],
           "sequential": [
            [
             0,
             "#0d0887"
            ],
            [
             0.1111111111111111,
             "#46039f"
            ],
            [
             0.2222222222222222,
             "#7201a8"
            ],
            [
             0.3333333333333333,
             "#9c179e"
            ],
            [
             0.4444444444444444,
             "#bd3786"
            ],
            [
             0.5555555555555556,
             "#d8576b"
            ],
            [
             0.6666666666666666,
             "#ed7953"
            ],
            [
             0.7777777777777778,
             "#fb9f3a"
            ],
            [
             0.8888888888888888,
             "#fdca26"
            ],
            [
             1,
             "#f0f921"
            ]
           ],
           "sequentialminus": [
            [
             0,
             "#0d0887"
            ],
            [
             0.1111111111111111,
             "#46039f"
            ],
            [
             0.2222222222222222,
             "#7201a8"
            ],
            [
             0.3333333333333333,
             "#9c179e"
            ],
            [
             0.4444444444444444,
             "#bd3786"
            ],
            [
             0.5555555555555556,
             "#d8576b"
            ],
            [
             0.6666666666666666,
             "#ed7953"
            ],
            [
             0.7777777777777778,
             "#fb9f3a"
            ],
            [
             0.8888888888888888,
             "#fdca26"
            ],
            [
             1,
             "#f0f921"
            ]
           ]
          },
          "colorway": [
           "#636efa",
           "#EF553B",
           "#00cc96",
           "#ab63fa",
           "#FFA15A",
           "#19d3f3",
           "#FF6692",
           "#B6E880",
           "#FF97FF",
           "#FECB52"
          ],
          "font": {
           "color": "#2a3f5f"
          },
          "geo": {
           "bgcolor": "white",
           "lakecolor": "white",
           "landcolor": "#E5ECF6",
           "showlakes": true,
           "showland": true,
           "subunitcolor": "white"
          },
          "hoverlabel": {
           "align": "left"
          },
          "hovermode": "closest",
          "mapbox": {
           "style": "light"
          },
          "paper_bgcolor": "white",
          "plot_bgcolor": "#E5ECF6",
          "polar": {
           "angularaxis": {
            "gridcolor": "white",
            "linecolor": "white",
            "ticks": ""
           },
           "bgcolor": "#E5ECF6",
           "radialaxis": {
            "gridcolor": "white",
            "linecolor": "white",
            "ticks": ""
           }
          },
          "scene": {
           "xaxis": {
            "backgroundcolor": "#E5ECF6",
            "gridcolor": "white",
            "gridwidth": 2,
            "linecolor": "white",
            "showbackground": true,
            "ticks": "",
            "zerolinecolor": "white"
           },
           "yaxis": {
            "backgroundcolor": "#E5ECF6",
            "gridcolor": "white",
            "gridwidth": 2,
            "linecolor": "white",
            "showbackground": true,
            "ticks": "",
            "zerolinecolor": "white"
           },
           "zaxis": {
            "backgroundcolor": "#E5ECF6",
            "gridcolor": "white",
            "gridwidth": 2,
            "linecolor": "white",
            "showbackground": true,
            "ticks": "",
            "zerolinecolor": "white"
           }
          },
          "shapedefaults": {
           "line": {
            "color": "#2a3f5f"
           }
          },
          "ternary": {
           "aaxis": {
            "gridcolor": "white",
            "linecolor": "white",
            "ticks": ""
           },
           "baxis": {
            "gridcolor": "white",
            "linecolor": "white",
            "ticks": ""
           },
           "bgcolor": "#E5ECF6",
           "caxis": {
            "gridcolor": "white",
            "linecolor": "white",
            "ticks": ""
           }
          },
          "title": {
           "x": 0.05
          },
          "xaxis": {
           "automargin": true,
           "gridcolor": "white",
           "linecolor": "white",
           "ticks": "",
           "title": {
            "standoff": 15
           },
           "zerolinecolor": "white",
           "zerolinewidth": 2
          },
          "yaxis": {
           "automargin": true,
           "gridcolor": "white",
           "linecolor": "white",
           "ticks": "",
           "title": {
            "standoff": 15
           },
           "zerolinecolor": "white",
           "zerolinewidth": 2
          }
         }
        },
        "title": {
         "text": "Clustering of Collections based on Mean APR"
        },
        "width": 1300,
        "xaxis": {
         "anchor": "y",
         "categoryarray": [
          1,
          2,
          3,
          4,
          5,
          null
         ],
         "categoryorder": "array",
         "domain": [
          0,
          1
         ],
         "title": {
          "text": "Cluster Number"
         }
        },
        "yaxis": {
         "anchor": "x",
         "domain": [
          0,
          1
         ],
         "title": {
          "text": "Mean APR"
         }
        }
       }
      }
     },
     "metadata": {},
     "output_type": "display_data"
    },
    {
     "data": {
      "application/vnd.plotly.v1+json": {
       "config": {
        "plotlyServerURL": "https://plot.ly"
       },
       "data": [
        {
         "customdata": [
          [
           "0x059edd72cd353df5106d2b9cc5ab83a52287ac3a"
          ],
          [
           "0xd4e4078ca3495de5b1d4db434bebc5a986197782"
          ],
          [
           "0xed5af388653567af2f388e6224dc7c4b3241c544"
          ]
         ],
         "hovertemplate": "cluster=1<br>mean=%{x}<br>collection_name=%{y}<br>borrow_volume=%{marker.size}<br>address=%{customdata[0]}<extra></extra>",
         "legendgroup": "1",
         "marker": {
          "color": "#636efa",
          "size": [
           1899193.4331000217,
           4243883.084601564,
           2345021.0009652493
          ],
          "sizemode": "area",
          "sizeref": 13463.004091374742,
          "symbol": "circle"
         },
         "mode": "markers",
         "name": "1",
         "orientation": "h",
         "showlegend": true,
         "type": "scatter",
         "x": [
          11.74123152324633,
          13.333439746926842,
          17.928549216645806
         ],
         "xaxis": "x",
         "y": [
          "Art Blocks",
          "Autoglyphs",
          "Azuki"
         ],
         "yaxis": "y"
        },
        {
         "customdata": [
          [
           "0x4e1f41613c9084fdb9e34e11fae9412427480e56"
          ],
          [
           "0x79fcdef22feed20eddacbb2587640e45491b757f"
          ],
          [
           "0xbc4ca0eda7647a8ab7c2061c2e118a18a936f13d"
          ],
          [
           "0x769272677fab02575e84945f03eca517acc544cc"
          ],
          [
           "0xe012baf811cf9c05c408e879c399960d1f305903"
          ],
          [
           "0xa3aee8bce55beea1951ef834b99f3ac60d1abeeb"
          ],
          [
           "0x57f1887a8bf19b14fc0df6fd9b2acc9af147ea85"
          ],
          [
           "0x306b1ea3ecdf94ab739f1910bbda052ed4a9f949"
          ],
          [
           "0x1a92f7381b9f03921564a437210bb9396471050c"
          ]
         ],
         "hovertemplate": "cluster=2<br>mean=%{x}<br>collection_name=%{y}<br>borrow_volume=%{marker.size}<br>address=%{customdata[0]}<extra></extra>",
         "legendgroup": "2",
         "marker": {
          "color": "#EF553B",
          "size": [
           108922.5302056938,
           44932.23672000192,
           5385201.636549897,
           1084539.0659853702,
           356943.0153000246,
           155660.171654045,
           36764.6869911028,
           239392.7590378993,
           33709.1768110818
          ],
          "sizemode": "area",
          "sizeref": 13463.004091374742,
          "symbol": "circle"
         },
         "mode": "markers",
         "name": "2",
         "orientation": "h",
         "showlegend": true,
         "type": "scatter",
         "x": [
          26.424980508773828,
          27.84837840778923,
          30.33379255407484,
          32.118504363858,
          32.28740793635553,
          32.77896678214076,
          32.83520953804967,
          32.85575978537696,
          32.97431915114726
         ],
         "xaxis": "x",
         "y": [
          "Terraforms",
          "mfer",
          "Bored Ape Yacht Club",
          "The Captainz",
          "Otherside Koda",
          "VeeFriends",
          "Ethereum Name Service (ENS)",
          "BEANZ Official",
          "Cool Cats"
         ],
         "yaxis": "y"
        },
        {
         "customdata": [
          [
           "0xd1258db6ac08eb0e625b75b371c023da478e94a9"
          ],
          [
           "0x60e4d786628fea6478f785a6d7e704777c86a7c6"
          ],
          [
           "0x23581767a106ae21c074b2276d25e5c3e136a68b"
          ],
          [
           "0x7bd29408f11d2bfc23c34f18275bbf23bb716bc7"
          ],
          [
           "0x99a9b7c1116f9ceeb1652de04d5969cce509b069"
          ],
          [
           "0xccc441ac31f02cd96c153db6fd5fe0a2f4e6a68d"
          ],
          [
           "0x942bc2d3e7a589fe5bd4a5c6ef9727dfd82f5c8a"
          ],
          [
           "0x5b1085136a811e55b2bb2ca1ea456ba82126a376"
          ]
         ],
         "hovertemplate": "cluster=3<br>mean=%{x}<br>collection_name=%{y}<br>borrow_volume=%{marker.size}<br>address=%{customdata[0]}<extra></extra>",
         "legendgroup": "3",
         "marker": {
          "color": "#00cc96",
          "size": [
           548829.695023021,
           3017176.470605762,
           399615.26825,
           457812.9824962221,
           51523.62776,
           171641.71267651042,
           313112.29081151,
           14097.831140000004
          ],
          "sizemode": "area",
          "sizeref": 13463.004091374742,
          "symbol": "circle"
         },
         "mode": "markers",
         "name": "3",
         "orientation": "h",
         "showlegend": true,
         "type": "scatter",
         "x": [
          33.80794832562575,
          33.935206786033135,
          33.97608046056404,
          35.16107130429609,
          35.479439920915944,
          37.13019361475845,
          38.48885818054773,
          39.83403619962515
         ],
         "xaxis": "x",
         "y": [
          "DigiDaigaku Genesis",
          "MutantApeYachtClub",
          "Moonbirds",
          "Meebits",
          "Art Blocks",
          "FLUF",
          "Friendship Bracelets by Alexis André",
          "Otherside Vessels"
         ],
         "yaxis": "y"
        },
        {
         "customdata": [
          [
           "0xbd3531da5cf5857e7cfaa92426877b022e612cf8"
          ],
          [
           "0x231d3559aa848bf10366fb9868590f01d34bf240"
          ],
          [
           "0x42069abfe407c60cf4ae4112bedead391dba1cdb"
          ],
          [
           "0x39ee2c7b3cb80254225884ca001f57118c8f21b6"
          ],
          [
           "0x2c88aa0956bc9813505d73575f653f69ada60923"
          ],
          [
           "0x790b2cf29ed4f310bf7641f013c65d4560d28371"
          ],
          [
           "0xc143bbfcdbdbed6d454803804752a064a622c1f3"
          ],
          [
           "0x46c9cfb32627b74f91e0b5ad575c247aec7e7847"
          ],
          [
           "0x49cf6f5d44e70224e2e23fdcdd2c053f30ada28b"
          ],
          [
           "0x5af0d9827e0c53e4799bb226655a1de152a425a5"
          ],
          [
           "0xa7d8d9ef8d8ce8992df33d8b8cf4aebabd5bd270"
          ],
          [
           "0xd1169e5349d1cb9941f3dcba135c8a4b9eacfdde"
          ],
          [
           "0x3bf2922f4520a8ba0c2efc3d2a1539678dad5e9d"
          ],
          [
           "0x1cb1a5e65610aeff2551a50f76a87a7d3fb649c6"
          ],
          [
           "0x57a204aa1042f6e66dd7730813f4024114d74f37"
          ],
          [
           "0x892848074ddea461a15f337250da3ce55580ca85"
          ],
          [
           "0x8a90cab2b38dba80c64b7734e58ee1db38b8992e"
          ],
          [
           "0x4b15a9c28034dc83db40cd810001427d3bd7163d"
          ],
          [
           "0x524cab2ec69124574082676e6f654a18df49a048"
          ],
          [
           "0xe785e82358879f061bc3dcac6f0444462d4b5330"
          ],
          [
           "0x7f36182dee28c45de6072a34d29855bae76dbe2f"
          ],
          [
           "0x394e3d3044fc89fcdd966d3cb35ac0b32b0cda91"
          ],
          [
           "0xba30e5f9bb24caa003e9f2f0497ad287fdf95623"
          ],
          [
           "0x960b7a6bcd451c9968473f7bbfd9be826efd549a"
          ],
          [
           "0xbeb1d3357cd525947b16a9f7a2b3d50b50b977bd"
          ],
          [
           "0x9a129032f01eb4ddd764c1777c81b771c34a2fbe"
          ],
          [
           "0x64780ce53f6e966e18a22af13a2f97369580ec11"
          ],
          [
           "0x80336ad7a747236ef41f47ed2c7641828a480baa"
          ],
          [
           "0x34d85c9cdeb23fa97cb08333b511ac86e1c4e258"
          ],
          [
           "0x5946aeaab44e65eb370ffaa6a7ef2218cff9b47d"
          ],
          [
           "0x7ea3cca10668b8346aec0bf1844a49e995527c8b"
          ],
          [
           "0x34eebee6942d8def3c125458d1a86e0a897fd6f9"
          ],
          [
           "0x572e33ffa523865791ab1c26b42a86ac244df784"
          ],
          [
           "0x062e691c2054de82f28008a8ccc6d7a1c8ce060d"
          ],
          [
           "0x7d8820fa92eb1584636f4f5b8515b5476b75171a"
          ],
          [
           "0xc99c679c50033bbc5321eb88752e89a93e9e83c5"
          ]
         ],
         "hovertemplate": "cluster=4<br>mean=%{x}<br>collection_name=%{y}<br>borrow_volume=%{marker.size}<br>address=%{customdata[0]}<extra></extra>",
         "legendgroup": "4",
         "marker": {
          "color": "#ab63fa",
          "size": [
           1598249.8994342398,
           29141.02505890253,
           433197.1313600044,
           357009.46105323895,
           400295.6133000039,
           122400.33738003705,
           453773.67860003066,
           444710.9330002992,
           504433.3540590759,
           78295.102460003,
           2500071.953559003,
           36693.241550000246,
           16735.855419773998,
           67486.94400000501,
           189616.8201410335,
           21358.901519029994,
           775334.0274588761,
           286074.3770786344,
           60662.97816754763,
           191576.66254404729,
           263458.81,
           173093.2698291712,
           669697.9721838759,
           167232.15180000148,
           18008.637500006305,
           1082608.2414850427,
           69078.50366777122,
           98901.61604000002,
           1605696.5790024053,
           369366.0292282028,
           31206.216500000803,
           199307.95292668996,
           1558.462540012895,
           19114.9775,
           22934.29514737172,
           1184540.0880626685
          ],
          "sizemode": "area",
          "sizeref": 13463.004091374742,
          "symbol": "circle"
         },
         "mode": "markers",
         "name": "4",
         "orientation": "h",
         "showlegend": true,
         "type": "scatter",
         "x": [
          40.117258111307,
          40.31270619490844,
          40.34649425215632,
          41.368695500977054,
          41.51583319733468,
          41.63993647995168,
          42.14565093505251,
          42.406538092707,
          42.497347279022456,
          42.70559448959294,
          42.71234675963504,
          44.03849751494662,
          45.02649071602695,
          45.51020354069767,
          46.53080725445194,
          47.01278942064605,
          47.46033441127034,
          47.78592827943496,
          48.46217683718123,
          48.6468282890184,
          48.82332417414345,
          49.19260192626644,
          49.76369684319519,
          49.80463927437078,
          51.20575090373028,
          51.50739970462123,
          51.846175045314695,
          51.855458758274025,
          53.05090106024196,
          54.218713952837575,
          54.43127077289869,
          55.48936859494307,
          55.79962792810211,
          56.06729191393805,
          58.55023340108063,
          59.23382531872094
         ],
         "xaxis": "x",
         "y": [
          "PudgyPenguins",
          "Valhalla",
          "CryptoDickbutts S3",
          "The Potatoz",
          "Land",
          "Otherdeed Expanded",
          "Async Blueprints",
          "NFTfi Locked Bundle",
          "CloneX",
          "Milady",
          "Art Blocks Curated",
          "MAX PAIN AND FRENS BY XCOPY",
          "0N1 Force",
          "Cryptoadz",
          "CyberKongz",
          "CyberBrokers",
          "Doodles",
          "HV-MTL",
          "LilPudgys",
          "World Of Women",
          "Wolf Game",
          "RENGA",
          "Bored Ape Kennel Club",
          "OnChainMonkey",
          "HUXLEY Robots",
          "NFTfi Locked Bundle",
          "Art Blocks x Pace",
          "Chimpers",
          "Otherdeed for Otherside",
          "Creepz by OVERLORD",
          "CyberKongz VX",
          "Checks - VV Edition",
          "10KTF Gucci Grail",
          "PudgyPresent",
          "Murakami.Flowers Official",
          "KILLABEARS"
         ],
         "yaxis": "y"
        },
        {
         "customdata": [
          [
           "0xb852c6b5892256c264cc2c888ea462189154d8d7"
          ],
          [
           "0x670d4dd2e6badfbbd372d0d37e06cd2852754a04"
          ],
          [
           "0xc9677cd8e9652f1b1aadd3429769b0ef8d7a0425"
          ],
          [
           "0xd774557b647330c91bf44cfeab205095f7e6c367"
          ],
          [
           "0xfe8c6d19365453d26af321d0e8c910428c23873f"
          ],
          [
           "0x5cc5b05a8a13e3fbdb0bb9fccd98d38e50f90c38"
          ],
          [
           "0x64a1c0937728d8d2fa8cd81ef61a9c860b7362db"
          ],
          [
           "0xf61f24c2d93bf2de187546b14425bf631f28d6dc"
          ],
          [
           "0x6339e5e072086621540d0362c4e3cea0d643e114"
          ],
          [
           "0x764aeebcf425d56800ef2c84f2578689415a2daa"
          ],
          [
           "0xb268db1c8d033d27d85f9d0efe20082ebcda391d"
          ],
          [
           "0x79986af15539de2db9a5086382daeda917a9cf0c"
          ],
          [
           "0x16de9d750f4ac24226154c40980ef83d4d3fd4ad"
          ]
         ],
         "hovertemplate": "cluster=5<br>mean=%{x}<br>collection_name=%{y}<br>borrow_volume=%{marker.size}<br>address=%{customdata[0]}<extra></extra>",
         "legendgroup": "5",
         "marker": {
          "color": "#FFA15A",
          "size": [
           1166737.4728723925,
           11562.698599926343,
           17265.116820003284,
           46011.26058152528,
           97520.45229357875,
           120612.21724117755,
           129649.16751919112,
           7580.590819159823,
           14514.067376509243,
           43288.87145618271,
           267593.081811968,
           13032.577310760958,
           15490.407000000005
          ],
          "sizemode": "area",
          "sizeref": 13463.004091374742,
          "symbol": "circle"
         },
         "mode": "markers",
         "name": "5",
         "orientation": "h",
         "showlegend": true,
         "type": "scatter",
         "x": [
          61.12501232672832,
          61.38122288680776,
          64.38442663566488,
          65.15208190707666,
          65.79590995638858,
          66.02753312022364,
          66.92695915601671,
          69.71209429208731,
          71.16396619780836,
          72.71729047408006,
          76.95068300236619,
          79.15122054542762,
          83.38016562946163
         ],
         "xaxis": "x",
         "y": [
          "rektguy",
          "Nina's Super Cool World",
          "Elemental by Fang Lijun",
          "Nakamigos",
          "Cold Blooded Creepz",
          "Sandbox's LANDs",
          "KILLABITS",
          "World of Women Galaxy",
          "Opepen Edition",
          "Sewer Pass",
          "Goblinverse Island",
          null,
          "Ethlizards"
         ],
         "yaxis": "y"
        }
       ],
       "layout": {
        "height": 600,
        "legend": {
         "itemsizing": "constant",
         "title": {
          "text": "cluster"
         },
         "tracegroupgap": 0
        },
        "margin": {
         "t": 60
        },
        "paper_bgcolor": "white",
        "template": {
         "data": {
          "bar": [
           {
            "error_x": {
             "color": "#2a3f5f"
            },
            "error_y": {
             "color": "#2a3f5f"
            },
            "marker": {
             "line": {
              "color": "#E5ECF6",
              "width": 0.5
             },
             "pattern": {
              "fillmode": "overlay",
              "size": 10,
              "solidity": 0.2
             }
            },
            "type": "bar"
           }
          ],
          "barpolar": [
           {
            "marker": {
             "line": {
              "color": "#E5ECF6",
              "width": 0.5
             },
             "pattern": {
              "fillmode": "overlay",
              "size": 10,
              "solidity": 0.2
             }
            },
            "type": "barpolar"
           }
          ],
          "carpet": [
           {
            "aaxis": {
             "endlinecolor": "#2a3f5f",
             "gridcolor": "white",
             "linecolor": "white",
             "minorgridcolor": "white",
             "startlinecolor": "#2a3f5f"
            },
            "baxis": {
             "endlinecolor": "#2a3f5f",
             "gridcolor": "white",
             "linecolor": "white",
             "minorgridcolor": "white",
             "startlinecolor": "#2a3f5f"
            },
            "type": "carpet"
           }
          ],
          "choropleth": [
           {
            "colorbar": {
             "outlinewidth": 0,
             "ticks": ""
            },
            "type": "choropleth"
           }
          ],
          "contour": [
           {
            "colorbar": {
             "outlinewidth": 0,
             "ticks": ""
            },
            "colorscale": [
             [
              0,
              "#0d0887"
             ],
             [
              0.1111111111111111,
              "#46039f"
             ],
             [
              0.2222222222222222,
              "#7201a8"
             ],
             [
              0.3333333333333333,
              "#9c179e"
             ],
             [
              0.4444444444444444,
              "#bd3786"
             ],
             [
              0.5555555555555556,
              "#d8576b"
             ],
             [
              0.6666666666666666,
              "#ed7953"
             ],
             [
              0.7777777777777778,
              "#fb9f3a"
             ],
             [
              0.8888888888888888,
              "#fdca26"
             ],
             [
              1,
              "#f0f921"
             ]
            ],
            "type": "contour"
           }
          ],
          "contourcarpet": [
           {
            "colorbar": {
             "outlinewidth": 0,
             "ticks": ""
            },
            "type": "contourcarpet"
           }
          ],
          "heatmap": [
           {
            "colorbar": {
             "outlinewidth": 0,
             "ticks": ""
            },
            "colorscale": [
             [
              0,
              "#0d0887"
             ],
             [
              0.1111111111111111,
              "#46039f"
             ],
             [
              0.2222222222222222,
              "#7201a8"
             ],
             [
              0.3333333333333333,
              "#9c179e"
             ],
             [
              0.4444444444444444,
              "#bd3786"
             ],
             [
              0.5555555555555556,
              "#d8576b"
             ],
             [
              0.6666666666666666,
              "#ed7953"
             ],
             [
              0.7777777777777778,
              "#fb9f3a"
             ],
             [
              0.8888888888888888,
              "#fdca26"
             ],
             [
              1,
              "#f0f921"
             ]
            ],
            "type": "heatmap"
           }
          ],
          "heatmapgl": [
           {
            "colorbar": {
             "outlinewidth": 0,
             "ticks": ""
            },
            "colorscale": [
             [
              0,
              "#0d0887"
             ],
             [
              0.1111111111111111,
              "#46039f"
             ],
             [
              0.2222222222222222,
              "#7201a8"
             ],
             [
              0.3333333333333333,
              "#9c179e"
             ],
             [
              0.4444444444444444,
              "#bd3786"
             ],
             [
              0.5555555555555556,
              "#d8576b"
             ],
             [
              0.6666666666666666,
              "#ed7953"
             ],
             [
              0.7777777777777778,
              "#fb9f3a"
             ],
             [
              0.8888888888888888,
              "#fdca26"
             ],
             [
              1,
              "#f0f921"
             ]
            ],
            "type": "heatmapgl"
           }
          ],
          "histogram": [
           {
            "marker": {
             "pattern": {
              "fillmode": "overlay",
              "size": 10,
              "solidity": 0.2
             }
            },
            "type": "histogram"
           }
          ],
          "histogram2d": [
           {
            "colorbar": {
             "outlinewidth": 0,
             "ticks": ""
            },
            "colorscale": [
             [
              0,
              "#0d0887"
             ],
             [
              0.1111111111111111,
              "#46039f"
             ],
             [
              0.2222222222222222,
              "#7201a8"
             ],
             [
              0.3333333333333333,
              "#9c179e"
             ],
             [
              0.4444444444444444,
              "#bd3786"
             ],
             [
              0.5555555555555556,
              "#d8576b"
             ],
             [
              0.6666666666666666,
              "#ed7953"
             ],
             [
              0.7777777777777778,
              "#fb9f3a"
             ],
             [
              0.8888888888888888,
              "#fdca26"
             ],
             [
              1,
              "#f0f921"
             ]
            ],
            "type": "histogram2d"
           }
          ],
          "histogram2dcontour": [
           {
            "colorbar": {
             "outlinewidth": 0,
             "ticks": ""
            },
            "colorscale": [
             [
              0,
              "#0d0887"
             ],
             [
              0.1111111111111111,
              "#46039f"
             ],
             [
              0.2222222222222222,
              "#7201a8"
             ],
             [
              0.3333333333333333,
              "#9c179e"
             ],
             [
              0.4444444444444444,
              "#bd3786"
             ],
             [
              0.5555555555555556,
              "#d8576b"
             ],
             [
              0.6666666666666666,
              "#ed7953"
             ],
             [
              0.7777777777777778,
              "#fb9f3a"
             ],
             [
              0.8888888888888888,
              "#fdca26"
             ],
             [
              1,
              "#f0f921"
             ]
            ],
            "type": "histogram2dcontour"
           }
          ],
          "mesh3d": [
           {
            "colorbar": {
             "outlinewidth": 0,
             "ticks": ""
            },
            "type": "mesh3d"
           }
          ],
          "parcoords": [
           {
            "line": {
             "colorbar": {
              "outlinewidth": 0,
              "ticks": ""
             }
            },
            "type": "parcoords"
           }
          ],
          "pie": [
           {
            "automargin": true,
            "type": "pie"
           }
          ],
          "scatter": [
           {
            "fillpattern": {
             "fillmode": "overlay",
             "size": 10,
             "solidity": 0.2
            },
            "type": "scatter"
           }
          ],
          "scatter3d": [
           {
            "line": {
             "colorbar": {
              "outlinewidth": 0,
              "ticks": ""
             }
            },
            "marker": {
             "colorbar": {
              "outlinewidth": 0,
              "ticks": ""
             }
            },
            "type": "scatter3d"
           }
          ],
          "scattercarpet": [
           {
            "marker": {
             "colorbar": {
              "outlinewidth": 0,
              "ticks": ""
             }
            },
            "type": "scattercarpet"
           }
          ],
          "scattergeo": [
           {
            "marker": {
             "colorbar": {
              "outlinewidth": 0,
              "ticks": ""
             }
            },
            "type": "scattergeo"
           }
          ],
          "scattergl": [
           {
            "marker": {
             "colorbar": {
              "outlinewidth": 0,
              "ticks": ""
             }
            },
            "type": "scattergl"
           }
          ],
          "scattermapbox": [
           {
            "marker": {
             "colorbar": {
              "outlinewidth": 0,
              "ticks": ""
             }
            },
            "type": "scattermapbox"
           }
          ],
          "scatterpolar": [
           {
            "marker": {
             "colorbar": {
              "outlinewidth": 0,
              "ticks": ""
             }
            },
            "type": "scatterpolar"
           }
          ],
          "scatterpolargl": [
           {
            "marker": {
             "colorbar": {
              "outlinewidth": 0,
              "ticks": ""
             }
            },
            "type": "scatterpolargl"
           }
          ],
          "scatterternary": [
           {
            "marker": {
             "colorbar": {
              "outlinewidth": 0,
              "ticks": ""
             }
            },
            "type": "scatterternary"
           }
          ],
          "surface": [
           {
            "colorbar": {
             "outlinewidth": 0,
             "ticks": ""
            },
            "colorscale": [
             [
              0,
              "#0d0887"
             ],
             [
              0.1111111111111111,
              "#46039f"
             ],
             [
              0.2222222222222222,
              "#7201a8"
             ],
             [
              0.3333333333333333,
              "#9c179e"
             ],
             [
              0.4444444444444444,
              "#bd3786"
             ],
             [
              0.5555555555555556,
              "#d8576b"
             ],
             [
              0.6666666666666666,
              "#ed7953"
             ],
             [
              0.7777777777777778,
              "#fb9f3a"
             ],
             [
              0.8888888888888888,
              "#fdca26"
             ],
             [
              1,
              "#f0f921"
             ]
            ],
            "type": "surface"
           }
          ],
          "table": [
           {
            "cells": {
             "fill": {
              "color": "#EBF0F8"
             },
             "line": {
              "color": "white"
             }
            },
            "header": {
             "fill": {
              "color": "#C8D4E3"
             },
             "line": {
              "color": "white"
             }
            },
            "type": "table"
           }
          ]
         },
         "layout": {
          "annotationdefaults": {
           "arrowcolor": "#2a3f5f",
           "arrowhead": 0,
           "arrowwidth": 1
          },
          "autotypenumbers": "strict",
          "coloraxis": {
           "colorbar": {
            "outlinewidth": 0,
            "ticks": ""
           }
          },
          "colorscale": {
           "diverging": [
            [
             0,
             "#8e0152"
            ],
            [
             0.1,
             "#c51b7d"
            ],
            [
             0.2,
             "#de77ae"
            ],
            [
             0.3,
             "#f1b6da"
            ],
            [
             0.4,
             "#fde0ef"
            ],
            [
             0.5,
             "#f7f7f7"
            ],
            [
             0.6,
             "#e6f5d0"
            ],
            [
             0.7,
             "#b8e186"
            ],
            [
             0.8,
             "#7fbc41"
            ],
            [
             0.9,
             "#4d9221"
            ],
            [
             1,
             "#276419"
            ]
           ],
           "sequential": [
            [
             0,
             "#0d0887"
            ],
            [
             0.1111111111111111,
             "#46039f"
            ],
            [
             0.2222222222222222,
             "#7201a8"
            ],
            [
             0.3333333333333333,
             "#9c179e"
            ],
            [
             0.4444444444444444,
             "#bd3786"
            ],
            [
             0.5555555555555556,
             "#d8576b"
            ],
            [
             0.6666666666666666,
             "#ed7953"
            ],
            [
             0.7777777777777778,
             "#fb9f3a"
            ],
            [
             0.8888888888888888,
             "#fdca26"
            ],
            [
             1,
             "#f0f921"
            ]
           ],
           "sequentialminus": [
            [
             0,
             "#0d0887"
            ],
            [
             0.1111111111111111,
             "#46039f"
            ],
            [
             0.2222222222222222,
             "#7201a8"
            ],
            [
             0.3333333333333333,
             "#9c179e"
            ],
            [
             0.4444444444444444,
             "#bd3786"
            ],
            [
             0.5555555555555556,
             "#d8576b"
            ],
            [
             0.6666666666666666,
             "#ed7953"
            ],
            [
             0.7777777777777778,
             "#fb9f3a"
            ],
            [
             0.8888888888888888,
             "#fdca26"
            ],
            [
             1,
             "#f0f921"
            ]
           ]
          },
          "colorway": [
           "#636efa",
           "#EF553B",
           "#00cc96",
           "#ab63fa",
           "#FFA15A",
           "#19d3f3",
           "#FF6692",
           "#B6E880",
           "#FF97FF",
           "#FECB52"
          ],
          "font": {
           "color": "#2a3f5f"
          },
          "geo": {
           "bgcolor": "white",
           "lakecolor": "white",
           "landcolor": "#E5ECF6",
           "showlakes": true,
           "showland": true,
           "subunitcolor": "white"
          },
          "hoverlabel": {
           "align": "left"
          },
          "hovermode": "closest",
          "mapbox": {
           "style": "light"
          },
          "paper_bgcolor": "white",
          "plot_bgcolor": "#E5ECF6",
          "polar": {
           "angularaxis": {
            "gridcolor": "white",
            "linecolor": "white",
            "ticks": ""
           },
           "bgcolor": "#E5ECF6",
           "radialaxis": {
            "gridcolor": "white",
            "linecolor": "white",
            "ticks": ""
           }
          },
          "scene": {
           "xaxis": {
            "backgroundcolor": "#E5ECF6",
            "gridcolor": "white",
            "gridwidth": 2,
            "linecolor": "white",
            "showbackground": true,
            "ticks": "",
            "zerolinecolor": "white"
           },
           "yaxis": {
            "backgroundcolor": "#E5ECF6",
            "gridcolor": "white",
            "gridwidth": 2,
            "linecolor": "white",
            "showbackground": true,
            "ticks": "",
            "zerolinecolor": "white"
           },
           "zaxis": {
            "backgroundcolor": "#E5ECF6",
            "gridcolor": "white",
            "gridwidth": 2,
            "linecolor": "white",
            "showbackground": true,
            "ticks": "",
            "zerolinecolor": "white"
           }
          },
          "shapedefaults": {
           "line": {
            "color": "#2a3f5f"
           }
          },
          "ternary": {
           "aaxis": {
            "gridcolor": "white",
            "linecolor": "white",
            "ticks": ""
           },
           "baxis": {
            "gridcolor": "white",
            "linecolor": "white",
            "ticks": ""
           },
           "bgcolor": "#E5ECF6",
           "caxis": {
            "gridcolor": "white",
            "linecolor": "white",
            "ticks": ""
           }
          },
          "title": {
           "x": 0.05
          },
          "xaxis": {
           "automargin": true,
           "gridcolor": "white",
           "linecolor": "white",
           "ticks": "",
           "title": {
            "standoff": 15
           },
           "zerolinecolor": "white",
           "zerolinewidth": 2
          },
          "yaxis": {
           "automargin": true,
           "gridcolor": "white",
           "linecolor": "white",
           "ticks": "",
           "title": {
            "standoff": 15
           },
           "zerolinecolor": "white",
           "zerolinewidth": 2
          }
         }
        },
        "title": {
         "text": "Clustering of Collections based on Mean APR"
        },
        "width": 1200,
        "xaxis": {
         "anchor": "y",
         "domain": [
          0,
          1
         ],
         "title": {
          "text": "mean"
         }
        },
        "yaxis": {
         "anchor": "x",
         "domain": [
          0,
          1
         ],
         "title": {
          "text": "collection_name"
         }
        }
       }
      }
     },
     "metadata": {},
     "output_type": "display_data"
    }
   ],
   "source": [
    "grouping_key='mean'\n",
    "\"\"\"\n",
    "grouping_key:\n",
    "Determine the feature used to group collections based on APR. Valid values are: \"mean\"; \"median\"; \"std\" (standard deviation)\n",
    "\"\"\"\n",
    "\n",
    "bucket_apr_ranges=[10, 20, 33, 40, 60]\n",
    "\"\"\"\n",
    "bucket_apr_ranges:\n",
    "Set the number of desired buckets by setting the expected value of the grouping_key, \n",
    "e.g. bucket with value 10 aims for grouping_key = 'mean' would group collections with mean APR equal to 10.\n",
    "\"\"\"\n",
    "\n",
    "include_unassigned_collections_to_last_bucket=True  \n",
    "\"\"\"\n",
    "include_unassigned_collections_to_last_bucket:\n",
    "If set to True, all collections whose APR (pending on grouping_key) is beyond the last bucket, get assigned to the last bucket\n",
    "For instance, if True, collections in the 80% mean APR range would still get assigned to the 60% bucket if that was the last one. \n",
    "If False, collections way above 60% would be left unassigned.\n",
    "\"\"\"\n",
    "\n",
    "autosize=False\n",
    "\"\"\"\n",
    "autosize:\n",
    "If set to True, sets matches the default plot size to the user screen. Else keeps consistent dimension. \n",
    "Defaults to False for best viewing of boxplots.\n",
    "\"\"\"\n",
    "\n",
    "save_table_as_csv=True\n",
    "\"\"\"\n",
    "save_table_as_csv:\n",
    "If set to True, saves resulting table as .csv file locally.\n",
    "\"\"\"\n",
    "\n",
    "\n",
    "table = run_manual_clustering(grouping_key=grouping_key,\n",
    "                              bucket_apr_ranges=bucket_apr_ranges,\n",
    "                              autosize=autosize,\n",
    "                              save_table_as_csv=save_table_as_csv\n",
    ")"
   ]
  },
  {
   "cell_type": "code",
   "execution_count": 3,
   "metadata": {},
   "outputs": [
    {
     "data": {
      "text/html": [
       "<div>\n",
       "<style scoped>\n",
       "    .dataframe tbody tr th:only-of-type {\n",
       "        vertical-align: middle;\n",
       "    }\n",
       "\n",
       "    .dataframe tbody tr th {\n",
       "        vertical-align: top;\n",
       "    }\n",
       "\n",
       "    .dataframe thead th {\n",
       "        text-align: right;\n",
       "    }\n",
       "</style>\n",
       "<table border=\"1\" class=\"dataframe\">\n",
       "  <thead>\n",
       "    <tr style=\"text-align: right;\">\n",
       "      <th></th>\n",
       "      <th>collection_name</th>\n",
       "      <th>address</th>\n",
       "      <th>count</th>\n",
       "      <th>borrow_volume</th>\n",
       "      <th>mean</th>\n",
       "      <th>median</th>\n",
       "      <th>std</th>\n",
       "      <th>borrow_volume_per_cluster</th>\n",
       "      <th>loan_count_per_cluster</th>\n",
       "      <th>nb_collection_per_cluster</th>\n",
       "    </tr>\n",
       "    <tr>\n",
       "      <th>cluster</th>\n",
       "      <th></th>\n",
       "      <th></th>\n",
       "      <th></th>\n",
       "      <th></th>\n",
       "      <th></th>\n",
       "      <th></th>\n",
       "      <th></th>\n",
       "      <th></th>\n",
       "      <th></th>\n",
       "      <th></th>\n",
       "    </tr>\n",
       "  </thead>\n",
       "  <tbody>\n",
       "    <tr>\n",
       "      <th>1</th>\n",
       "      <td>Art Blocks</td>\n",
       "      <td>0x059edd72cd353df5106d2b9cc5ab83a52287ac3a</td>\n",
       "      <td>147</td>\n",
       "      <td>1,899,193.43</td>\n",
       "      <td>11.74</td>\n",
       "      <td>9.00</td>\n",
       "      <td>7.15</td>\n",
       "      <td>8,488,097.52</td>\n",
       "      <td>292</td>\n",
       "      <td>3</td>\n",
       "    </tr>\n",
       "    <tr>\n",
       "      <th>1</th>\n",
       "      <td>Autoglyphs</td>\n",
       "      <td>0xd4e4078ca3495de5b1d4db434bebc5a986197782</td>\n",
       "      <td>20</td>\n",
       "      <td>4,243,883.08</td>\n",
       "      <td>13.33</td>\n",
       "      <td>9.00</td>\n",
       "      <td>9.69</td>\n",
       "      <td>8,488,097.52</td>\n",
       "      <td>292</td>\n",
       "      <td>3</td>\n",
       "    </tr>\n",
       "    <tr>\n",
       "      <th>1</th>\n",
       "      <td>Azuki</td>\n",
       "      <td>0xed5af388653567af2f388e6224dc7c4b3241c544</td>\n",
       "      <td>125</td>\n",
       "      <td>2,345,021.00</td>\n",
       "      <td>17.93</td>\n",
       "      <td>17.00</td>\n",
       "      <td>10.61</td>\n",
       "      <td>8,488,097.52</td>\n",
       "      <td>292</td>\n",
       "      <td>3</td>\n",
       "    </tr>\n",
       "    <tr>\n",
       "      <th>2</th>\n",
       "      <td>Terraforms</td>\n",
       "      <td>0x4e1f41613c9084fdb9e34e11fae9412427480e56</td>\n",
       "      <td>59</td>\n",
       "      <td>108,922.53</td>\n",
       "      <td>26.42</td>\n",
       "      <td>24.00</td>\n",
       "      <td>10.68</td>\n",
       "      <td>7,446,065.28</td>\n",
       "      <td>579</td>\n",
       "      <td>9</td>\n",
       "    </tr>\n",
       "    <tr>\n",
       "      <th>2</th>\n",
       "      <td>mfer</td>\n",
       "      <td>0x79fcdef22feed20eddacbb2587640e45491b757f</td>\n",
       "      <td>36</td>\n",
       "      <td>44,932.24</td>\n",
       "      <td>27.85</td>\n",
       "      <td>26.00</td>\n",
       "      <td>16.74</td>\n",
       "      <td>7,446,065.28</td>\n",
       "      <td>579</td>\n",
       "      <td>9</td>\n",
       "    </tr>\n",
       "    <tr>\n",
       "      <th>2</th>\n",
       "      <td>Bored Ape Yacht Club</td>\n",
       "      <td>0xbc4ca0eda7647a8ab7c2061c2e118a18a936f13d</td>\n",
       "      <td>80</td>\n",
       "      <td>5,385,201.64</td>\n",
       "      <td>30.33</td>\n",
       "      <td>15.00</td>\n",
       "      <td>49.39</td>\n",
       "      <td>7,446,065.28</td>\n",
       "      <td>579</td>\n",
       "      <td>9</td>\n",
       "    </tr>\n",
       "    <tr>\n",
       "      <th>2</th>\n",
       "      <td>The Captainz</td>\n",
       "      <td>0x769272677fab02575e84945f03eca517acc544cc</td>\n",
       "      <td>142</td>\n",
       "      <td>1,084,539.07</td>\n",
       "      <td>32.12</td>\n",
       "      <td>25.00</td>\n",
       "      <td>31.00</td>\n",
       "      <td>7,446,065.28</td>\n",
       "      <td>579</td>\n",
       "      <td>9</td>\n",
       "    </tr>\n",
       "    <tr>\n",
       "      <th>2</th>\n",
       "      <td>Otherside Koda</td>\n",
       "      <td>0xe012baf811cf9c05c408e879c399960d1f305903</td>\n",
       "      <td>34</td>\n",
       "      <td>356,943.02</td>\n",
       "      <td>32.29</td>\n",
       "      <td>30.00</td>\n",
       "      <td>16.05</td>\n",
       "      <td>7,446,065.28</td>\n",
       "      <td>579</td>\n",
       "      <td>9</td>\n",
       "    </tr>\n",
       "    <tr>\n",
       "      <th>2</th>\n",
       "      <td>VeeFriends</td>\n",
       "      <td>0xa3aee8bce55beea1951ef834b99f3ac60d1abeeb</td>\n",
       "      <td>40</td>\n",
       "      <td>155,660.17</td>\n",
       "      <td>32.78</td>\n",
       "      <td>30.00</td>\n",
       "      <td>16.49</td>\n",
       "      <td>7,446,065.28</td>\n",
       "      <td>579</td>\n",
       "      <td>9</td>\n",
       "    </tr>\n",
       "    <tr>\n",
       "      <th>2</th>\n",
       "      <td>Ethereum Name Service (ENS)</td>\n",
       "      <td>0x57f1887a8bf19b14fc0df6fd9b2acc9af147ea85</td>\n",
       "      <td>57</td>\n",
       "      <td>36,764.69</td>\n",
       "      <td>32.84</td>\n",
       "      <td>25.00</td>\n",
       "      <td>29.27</td>\n",
       "      <td>7,446,065.28</td>\n",
       "      <td>579</td>\n",
       "      <td>9</td>\n",
       "    </tr>\n",
       "    <tr>\n",
       "      <th>2</th>\n",
       "      <td>BEANZ Official</td>\n",
       "      <td>0x306b1ea3ecdf94ab739f1910bbda052ed4a9f949</td>\n",
       "      <td>107</td>\n",
       "      <td>239,392.76</td>\n",
       "      <td>32.86</td>\n",
       "      <td>33.00</td>\n",
       "      <td>21.63</td>\n",
       "      <td>7,446,065.28</td>\n",
       "      <td>579</td>\n",
       "      <td>9</td>\n",
       "    </tr>\n",
       "    <tr>\n",
       "      <th>2</th>\n",
       "      <td>Cool Cats</td>\n",
       "      <td>0x1a92f7381b9f03921564a437210bb9396471050c</td>\n",
       "      <td>24</td>\n",
       "      <td>33,709.18</td>\n",
       "      <td>32.97</td>\n",
       "      <td>29.00</td>\n",
       "      <td>24.15</td>\n",
       "      <td>7,446,065.28</td>\n",
       "      <td>579</td>\n",
       "      <td>9</td>\n",
       "    </tr>\n",
       "    <tr>\n",
       "      <th>3</th>\n",
       "      <td>DigiDaigaku Genesis</td>\n",
       "      <td>0xd1258db6ac08eb0e625b75b371c023da478e94a9</td>\n",
       "      <td>87</td>\n",
       "      <td>548,829.70</td>\n",
       "      <td>33.81</td>\n",
       "      <td>33.00</td>\n",
       "      <td>14.64</td>\n",
       "      <td>4,973,809.88</td>\n",
       "      <td>1401</td>\n",
       "      <td>8</td>\n",
       "    </tr>\n",
       "    <tr>\n",
       "      <th>3</th>\n",
       "      <td>MutantApeYachtClub</td>\n",
       "      <td>0x60e4d786628fea6478f785a6d7e704777c86a7c6</td>\n",
       "      <td>186</td>\n",
       "      <td>3,017,176.47</td>\n",
       "      <td>33.94</td>\n",
       "      <td>23.00</td>\n",
       "      <td>38.00</td>\n",
       "      <td>4,973,809.88</td>\n",
       "      <td>1401</td>\n",
       "      <td>8</td>\n",
       "    </tr>\n",
       "    <tr>\n",
       "      <th>3</th>\n",
       "      <td>Moonbirds</td>\n",
       "      <td>0x23581767a106ae21c074b2276d25e5c3e136a68b</td>\n",
       "      <td>74</td>\n",
       "      <td>399,615.27</td>\n",
       "      <td>33.98</td>\n",
       "      <td>30.00</td>\n",
       "      <td>13.36</td>\n",
       "      <td>4,973,809.88</td>\n",
       "      <td>1401</td>\n",
       "      <td>8</td>\n",
       "    </tr>\n",
       "    <tr>\n",
       "      <th>3</th>\n",
       "      <td>Meebits</td>\n",
       "      <td>0x7bd29408f11d2bfc23c34f18275bbf23bb716bc7</td>\n",
       "      <td>129</td>\n",
       "      <td>457,812.98</td>\n",
       "      <td>35.16</td>\n",
       "      <td>38.00</td>\n",
       "      <td>12.96</td>\n",
       "      <td>4,973,809.88</td>\n",
       "      <td>1401</td>\n",
       "      <td>8</td>\n",
       "    </tr>\n",
       "    <tr>\n",
       "      <th>3</th>\n",
       "      <td>Art Blocks</td>\n",
       "      <td>0x99a9b7c1116f9ceeb1652de04d5969cce509b069</td>\n",
       "      <td>32</td>\n",
       "      <td>51,523.63</td>\n",
       "      <td>35.48</td>\n",
       "      <td>30.00</td>\n",
       "      <td>20.20</td>\n",
       "      <td>4,973,809.88</td>\n",
       "      <td>1401</td>\n",
       "      <td>8</td>\n",
       "    </tr>\n",
       "    <tr>\n",
       "      <th>3</th>\n",
       "      <td>FLUF</td>\n",
       "      <td>0xccc441ac31f02cd96c153db6fd5fe0a2f4e6a68d</td>\n",
       "      <td>87</td>\n",
       "      <td>171,641.71</td>\n",
       "      <td>37.13</td>\n",
       "      <td>35.00</td>\n",
       "      <td>20.09</td>\n",
       "      <td>4,973,809.88</td>\n",
       "      <td>1401</td>\n",
       "      <td>8</td>\n",
       "    </tr>\n",
       "    <tr>\n",
       "      <th>3</th>\n",
       "      <td>Friendship Bracelets by Alexis André</td>\n",
       "      <td>0x942bc2d3e7a589fe5bd4a5c6ef9727dfd82f5c8a</td>\n",
       "      <td>778</td>\n",
       "      <td>313,112.29</td>\n",
       "      <td>38.49</td>\n",
       "      <td>19.00</td>\n",
       "      <td>27.18</td>\n",
       "      <td>4,973,809.88</td>\n",
       "      <td>1401</td>\n",
       "      <td>8</td>\n",
       "    </tr>\n",
       "    <tr>\n",
       "      <th>3</th>\n",
       "      <td>Otherside Vessels</td>\n",
       "      <td>0x5b1085136a811e55b2bb2ca1ea456ba82126a376</td>\n",
       "      <td>28</td>\n",
       "      <td>14,097.83</td>\n",
       "      <td>39.83</td>\n",
       "      <td>44.00</td>\n",
       "      <td>22.22</td>\n",
       "      <td>4,973,809.88</td>\n",
       "      <td>1401</td>\n",
       "      <td>8</td>\n",
       "    </tr>\n",
       "    <tr>\n",
       "      <th>4</th>\n",
       "      <td>PudgyPenguins</td>\n",
       "      <td>0xbd3531da5cf5857e7cfaa92426877b022e612cf8</td>\n",
       "      <td>248</td>\n",
       "      <td>1,598,249.90</td>\n",
       "      <td>40.12</td>\n",
       "      <td>35.00</td>\n",
       "      <td>19.37</td>\n",
       "      <td>14,542,922.10</td>\n",
       "      <td>3781</td>\n",
       "      <td>36</td>\n",
       "    </tr>\n",
       "    <tr>\n",
       "      <th>4</th>\n",
       "      <td>Valhalla</td>\n",
       "      <td>0x231d3559aa848bf10366fb9868590f01d34bf240</td>\n",
       "      <td>33</td>\n",
       "      <td>29,141.03</td>\n",
       "      <td>40.31</td>\n",
       "      <td>38.99</td>\n",
       "      <td>29.34</td>\n",
       "      <td>14,542,922.10</td>\n",
       "      <td>3781</td>\n",
       "      <td>36</td>\n",
       "    </tr>\n",
       "    <tr>\n",
       "      <th>4</th>\n",
       "      <td>CryptoDickbutts S3</td>\n",
       "      <td>0x42069abfe407c60cf4ae4112bedead391dba1cdb</td>\n",
       "      <td>199</td>\n",
       "      <td>433,197.13</td>\n",
       "      <td>40.35</td>\n",
       "      <td>39.00</td>\n",
       "      <td>11.48</td>\n",
       "      <td>14,542,922.10</td>\n",
       "      <td>3781</td>\n",
       "      <td>36</td>\n",
       "    </tr>\n",
       "    <tr>\n",
       "      <th>4</th>\n",
       "      <td>The Potatoz</td>\n",
       "      <td>0x39ee2c7b3cb80254225884ca001f57118c8f21b6</td>\n",
       "      <td>101</td>\n",
       "      <td>357,009.46</td>\n",
       "      <td>41.37</td>\n",
       "      <td>40.20</td>\n",
       "      <td>14.13</td>\n",
       "      <td>14,542,922.10</td>\n",
       "      <td>3781</td>\n",
       "      <td>36</td>\n",
       "    </tr>\n",
       "    <tr>\n",
       "      <th>4</th>\n",
       "      <td>Land</td>\n",
       "      <td>0x2c88aa0956bc9813505d73575f653f69ada60923</td>\n",
       "      <td>55</td>\n",
       "      <td>400,295.61</td>\n",
       "      <td>41.52</td>\n",
       "      <td>39.99</td>\n",
       "      <td>14.46</td>\n",
       "      <td>14,542,922.10</td>\n",
       "      <td>3781</td>\n",
       "      <td>36</td>\n",
       "    </tr>\n",
       "    <tr>\n",
       "      <th>4</th>\n",
       "      <td>Otherdeed Expanded</td>\n",
       "      <td>0x790b2cf29ed4f310bf7641f013c65d4560d28371</td>\n",
       "      <td>66</td>\n",
       "      <td>122,400.34</td>\n",
       "      <td>41.64</td>\n",
       "      <td>46.50</td>\n",
       "      <td>15.15</td>\n",
       "      <td>14,542,922.10</td>\n",
       "      <td>3781</td>\n",
       "      <td>36</td>\n",
       "    </tr>\n",
       "    <tr>\n",
       "      <th>4</th>\n",
       "      <td>Async Blueprints</td>\n",
       "      <td>0xc143bbfcdbdbed6d454803804752a064a622c1f3</td>\n",
       "      <td>41</td>\n",
       "      <td>453,773.68</td>\n",
       "      <td>42.15</td>\n",
       "      <td>35.00</td>\n",
       "      <td>18.16</td>\n",
       "      <td>14,542,922.10</td>\n",
       "      <td>3781</td>\n",
       "      <td>36</td>\n",
       "    </tr>\n",
       "    <tr>\n",
       "      <th>4</th>\n",
       "      <td>NFTfi Locked Bundle</td>\n",
       "      <td>0x46c9cfb32627b74f91e0b5ad575c247aec7e7847</td>\n",
       "      <td>58</td>\n",
       "      <td>444,710.93</td>\n",
       "      <td>42.41</td>\n",
       "      <td>40.00</td>\n",
       "      <td>16.26</td>\n",
       "      <td>14,542,922.10</td>\n",
       "      <td>3781</td>\n",
       "      <td>36</td>\n",
       "    </tr>\n",
       "    <tr>\n",
       "      <th>4</th>\n",
       "      <td>CloneX</td>\n",
       "      <td>0x49cf6f5d44e70224e2e23fdcdd2c053f30ada28b</td>\n",
       "      <td>104</td>\n",
       "      <td>504,433.35</td>\n",
       "      <td>42.50</td>\n",
       "      <td>38.00</td>\n",
       "      <td>22.41</td>\n",
       "      <td>14,542,922.10</td>\n",
       "      <td>3781</td>\n",
       "      <td>36</td>\n",
       "    </tr>\n",
       "    <tr>\n",
       "      <th>4</th>\n",
       "      <td>Milady</td>\n",
       "      <td>0x5af0d9827e0c53e4799bb226655a1de152a425a5</td>\n",
       "      <td>29</td>\n",
       "      <td>78,295.10</td>\n",
       "      <td>42.71</td>\n",
       "      <td>29.00</td>\n",
       "      <td>24.05</td>\n",
       "      <td>14,542,922.10</td>\n",
       "      <td>3781</td>\n",
       "      <td>36</td>\n",
       "    </tr>\n",
       "    <tr>\n",
       "      <th>4</th>\n",
       "      <td>Art Blocks Curated</td>\n",
       "      <td>0xa7d8d9ef8d8ce8992df33d8b8cf4aebabd5bd270</td>\n",
       "      <td>521</td>\n",
       "      <td>2,500,071.95</td>\n",
       "      <td>42.71</td>\n",
       "      <td>39.00</td>\n",
       "      <td>23.25</td>\n",
       "      <td>14,542,922.10</td>\n",
       "      <td>3781</td>\n",
       "      <td>36</td>\n",
       "    </tr>\n",
       "    <tr>\n",
       "      <th>4</th>\n",
       "      <td>MAX PAIN AND FRENS BY XCOPY</td>\n",
       "      <td>0xd1169e5349d1cb9941f3dcba135c8a4b9eacfdde</td>\n",
       "      <td>59</td>\n",
       "      <td>36,693.24</td>\n",
       "      <td>44.04</td>\n",
       "      <td>49.00</td>\n",
       "      <td>28.76</td>\n",
       "      <td>14,542,922.10</td>\n",
       "      <td>3781</td>\n",
       "      <td>36</td>\n",
       "    </tr>\n",
       "    <tr>\n",
       "      <th>4</th>\n",
       "      <td>0N1 Force</td>\n",
       "      <td>0x3bf2922f4520a8ba0c2efc3d2a1539678dad5e9d</td>\n",
       "      <td>22</td>\n",
       "      <td>16,735.86</td>\n",
       "      <td>45.03</td>\n",
       "      <td>40.00</td>\n",
       "      <td>37.46</td>\n",
       "      <td>14,542,922.10</td>\n",
       "      <td>3781</td>\n",
       "      <td>36</td>\n",
       "    </tr>\n",
       "    <tr>\n",
       "      <th>4</th>\n",
       "      <td>Cryptoadz</td>\n",
       "      <td>0x1cb1a5e65610aeff2551a50f76a87a7d3fb649c6</td>\n",
       "      <td>48</td>\n",
       "      <td>67,486.94</td>\n",
       "      <td>45.51</td>\n",
       "      <td>45.00</td>\n",
       "      <td>21.28</td>\n",
       "      <td>14,542,922.10</td>\n",
       "      <td>3781</td>\n",
       "      <td>36</td>\n",
       "    </tr>\n",
       "    <tr>\n",
       "      <th>4</th>\n",
       "      <td>CyberKongz</td>\n",
       "      <td>0x57a204aa1042f6e66dd7730813f4024114d74f37</td>\n",
       "      <td>24</td>\n",
       "      <td>189,616.82</td>\n",
       "      <td>46.53</td>\n",
       "      <td>39.99</td>\n",
       "      <td>19.01</td>\n",
       "      <td>14,542,922.10</td>\n",
       "      <td>3781</td>\n",
       "      <td>36</td>\n",
       "    </tr>\n",
       "    <tr>\n",
       "      <th>4</th>\n",
       "      <td>CyberBrokers</td>\n",
       "      <td>0x892848074ddea461a15f337250da3ce55580ca85</td>\n",
       "      <td>40</td>\n",
       "      <td>21,358.90</td>\n",
       "      <td>47.01</td>\n",
       "      <td>39.00</td>\n",
       "      <td>23.74</td>\n",
       "      <td>14,542,922.10</td>\n",
       "      <td>3781</td>\n",
       "      <td>36</td>\n",
       "    </tr>\n",
       "    <tr>\n",
       "      <th>4</th>\n",
       "      <td>Doodles</td>\n",
       "      <td>0x8a90cab2b38dba80c64b7734e58ee1db38b8992e</td>\n",
       "      <td>143</td>\n",
       "      <td>775,334.03</td>\n",
       "      <td>47.46</td>\n",
       "      <td>39.00</td>\n",
       "      <td>33.60</td>\n",
       "      <td>14,542,922.10</td>\n",
       "      <td>3781</td>\n",
       "      <td>36</td>\n",
       "    </tr>\n",
       "    <tr>\n",
       "      <th>4</th>\n",
       "      <td>HV-MTL</td>\n",
       "      <td>0x4b15a9c28034dc83db40cd810001427d3bd7163d</td>\n",
       "      <td>89</td>\n",
       "      <td>286,074.38</td>\n",
       "      <td>47.79</td>\n",
       "      <td>49.00</td>\n",
       "      <td>19.31</td>\n",
       "      <td>14,542,922.10</td>\n",
       "      <td>3781</td>\n",
       "      <td>36</td>\n",
       "    </tr>\n",
       "    <tr>\n",
       "      <th>4</th>\n",
       "      <td>LilPudgys</td>\n",
       "      <td>0x524cab2ec69124574082676e6f654a18df49a048</td>\n",
       "      <td>145</td>\n",
       "      <td>60,662.98</td>\n",
       "      <td>48.46</td>\n",
       "      <td>49.99</td>\n",
       "      <td>26.95</td>\n",
       "      <td>14,542,922.10</td>\n",
       "      <td>3781</td>\n",
       "      <td>36</td>\n",
       "    </tr>\n",
       "    <tr>\n",
       "      <th>4</th>\n",
       "      <td>World Of Women</td>\n",
       "      <td>0xe785e82358879f061bc3dcac6f0444462d4b5330</td>\n",
       "      <td>104</td>\n",
       "      <td>191,576.66</td>\n",
       "      <td>48.65</td>\n",
       "      <td>49.00</td>\n",
       "      <td>26.94</td>\n",
       "      <td>14,542,922.10</td>\n",
       "      <td>3781</td>\n",
       "      <td>36</td>\n",
       "    </tr>\n",
       "    <tr>\n",
       "      <th>4</th>\n",
       "      <td>Wolf Game</td>\n",
       "      <td>0x7f36182dee28c45de6072a34d29855bae76dbe2f</td>\n",
       "      <td>55</td>\n",
       "      <td>263,458.81</td>\n",
       "      <td>48.82</td>\n",
       "      <td>45.00</td>\n",
       "      <td>19.11</td>\n",
       "      <td>14,542,922.10</td>\n",
       "      <td>3781</td>\n",
       "      <td>36</td>\n",
       "    </tr>\n",
       "    <tr>\n",
       "      <th>4</th>\n",
       "      <td>RENGA</td>\n",
       "      <td>0x394e3d3044fc89fcdd966d3cb35ac0b32b0cda91</td>\n",
       "      <td>125</td>\n",
       "      <td>173,093.27</td>\n",
       "      <td>49.19</td>\n",
       "      <td>47.50</td>\n",
       "      <td>25.07</td>\n",
       "      <td>14,542,922.10</td>\n",
       "      <td>3781</td>\n",
       "      <td>36</td>\n",
       "    </tr>\n",
       "    <tr>\n",
       "      <th>4</th>\n",
       "      <td>Bored Ape Kennel Club</td>\n",
       "      <td>0xba30e5f9bb24caa003e9f2f0497ad287fdf95623</td>\n",
       "      <td>81</td>\n",
       "      <td>669,697.97</td>\n",
       "      <td>49.76</td>\n",
       "      <td>38.50</td>\n",
       "      <td>31.90</td>\n",
       "      <td>14,542,922.10</td>\n",
       "      <td>3781</td>\n",
       "      <td>36</td>\n",
       "    </tr>\n",
       "    <tr>\n",
       "      <th>4</th>\n",
       "      <td>OnChainMonkey</td>\n",
       "      <td>0x960b7a6bcd451c9968473f7bbfd9be826efd549a</td>\n",
       "      <td>77</td>\n",
       "      <td>167,232.15</td>\n",
       "      <td>49.80</td>\n",
       "      <td>50.00</td>\n",
       "      <td>19.47</td>\n",
       "      <td>14,542,922.10</td>\n",
       "      <td>3781</td>\n",
       "      <td>36</td>\n",
       "    </tr>\n",
       "    <tr>\n",
       "      <th>4</th>\n",
       "      <td>HUXLEY Robots</td>\n",
       "      <td>0xbeb1d3357cd525947b16a9f7a2b3d50b50b977bd</td>\n",
       "      <td>34</td>\n",
       "      <td>18,008.64</td>\n",
       "      <td>51.21</td>\n",
       "      <td>52.00</td>\n",
       "      <td>29.05</td>\n",
       "      <td>14,542,922.10</td>\n",
       "      <td>3781</td>\n",
       "      <td>36</td>\n",
       "    </tr>\n",
       "    <tr>\n",
       "      <th>4</th>\n",
       "      <td>NFTfi Locked Bundle</td>\n",
       "      <td>0x9a129032f01eb4ddd764c1777c81b771c34a2fbe</td>\n",
       "      <td>60</td>\n",
       "      <td>1,082,608.24</td>\n",
       "      <td>51.51</td>\n",
       "      <td>50.00</td>\n",
       "      <td>25.23</td>\n",
       "      <td>14,542,922.10</td>\n",
       "      <td>3781</td>\n",
       "      <td>36</td>\n",
       "    </tr>\n",
       "    <tr>\n",
       "      <th>4</th>\n",
       "      <td>Art Blocks x Pace</td>\n",
       "      <td>0x64780ce53f6e966e18a22af13a2f97369580ec11</td>\n",
       "      <td>33</td>\n",
       "      <td>69,078.50</td>\n",
       "      <td>51.85</td>\n",
       "      <td>49.00</td>\n",
       "      <td>21.27</td>\n",
       "      <td>14,542,922.10</td>\n",
       "      <td>3781</td>\n",
       "      <td>36</td>\n",
       "    </tr>\n",
       "    <tr>\n",
       "      <th>4</th>\n",
       "      <td>Chimpers</td>\n",
       "      <td>0x80336ad7a747236ef41f47ed2c7641828a480baa</td>\n",
       "      <td>90</td>\n",
       "      <td>98,901.62</td>\n",
       "      <td>51.86</td>\n",
       "      <td>50.00</td>\n",
       "      <td>12.34</td>\n",
       "      <td>14,542,922.10</td>\n",
       "      <td>3781</td>\n",
       "      <td>36</td>\n",
       "    </tr>\n",
       "    <tr>\n",
       "      <th>4</th>\n",
       "      <td>Otherdeed for Otherside</td>\n",
       "      <td>0x34d85c9cdeb23fa97cb08333b511ac86e1c4e258</td>\n",
       "      <td>306</td>\n",
       "      <td>1,605,696.58</td>\n",
       "      <td>53.05</td>\n",
       "      <td>45.00</td>\n",
       "      <td>29.07</td>\n",
       "      <td>14,542,922.10</td>\n",
       "      <td>3781</td>\n",
       "      <td>36</td>\n",
       "    </tr>\n",
       "    <tr>\n",
       "      <th>4</th>\n",
       "      <td>Creepz by OVERLORD</td>\n",
       "      <td>0x5946aeaab44e65eb370ffaa6a7ef2218cff9b47d</td>\n",
       "      <td>219</td>\n",
       "      <td>369,366.03</td>\n",
       "      <td>54.22</td>\n",
       "      <td>50.00</td>\n",
       "      <td>16.96</td>\n",
       "      <td>14,542,922.10</td>\n",
       "      <td>3781</td>\n",
       "      <td>36</td>\n",
       "    </tr>\n",
       "    <tr>\n",
       "      <th>4</th>\n",
       "      <td>CyberKongz VX</td>\n",
       "      <td>0x7ea3cca10668b8346aec0bf1844a49e995527c8b</td>\n",
       "      <td>82</td>\n",
       "      <td>31,206.22</td>\n",
       "      <td>54.43</td>\n",
       "      <td>42.00</td>\n",
       "      <td>20.52</td>\n",
       "      <td>14,542,922.10</td>\n",
       "      <td>3781</td>\n",
       "      <td>36</td>\n",
       "    </tr>\n",
       "    <tr>\n",
       "      <th>4</th>\n",
       "      <td>Checks - VV Edition</td>\n",
       "      <td>0x34eebee6942d8def3c125458d1a86e0a897fd6f9</td>\n",
       "      <td>156</td>\n",
       "      <td>199,307.95</td>\n",
       "      <td>55.49</td>\n",
       "      <td>44.00</td>\n",
       "      <td>27.77</td>\n",
       "      <td>14,542,922.10</td>\n",
       "      <td>3781</td>\n",
       "      <td>36</td>\n",
       "    </tr>\n",
       "    <tr>\n",
       "      <th>4</th>\n",
       "      <td>10KTF Gucci Grail</td>\n",
       "      <td>0x572e33ffa523865791ab1c26b42a86ac244df784</td>\n",
       "      <td>20</td>\n",
       "      <td>1,558.46</td>\n",
       "      <td>55.80</td>\n",
       "      <td>65.00</td>\n",
       "      <td>22.40</td>\n",
       "      <td>14,542,922.10</td>\n",
       "      <td>3781</td>\n",
       "      <td>36</td>\n",
       "    </tr>\n",
       "    <tr>\n",
       "      <th>4</th>\n",
       "      <td>PudgyPresent</td>\n",
       "      <td>0x062e691c2054de82f28008a8ccc6d7a1c8ce060d</td>\n",
       "      <td>21</td>\n",
       "      <td>19,114.98</td>\n",
       "      <td>56.07</td>\n",
       "      <td>55.00</td>\n",
       "      <td>20.89</td>\n",
       "      <td>14,542,922.10</td>\n",
       "      <td>3781</td>\n",
       "      <td>36</td>\n",
       "    </tr>\n",
       "    <tr>\n",
       "      <th>4</th>\n",
       "      <td>Murakami.Flowers Official</td>\n",
       "      <td>0x7d8820fa92eb1584636f4f5b8515b5476b75171a</td>\n",
       "      <td>26</td>\n",
       "      <td>22,934.30</td>\n",
       "      <td>58.55</td>\n",
       "      <td>50.00</td>\n",
       "      <td>35.32</td>\n",
       "      <td>14,542,922.10</td>\n",
       "      <td>3781</td>\n",
       "      <td>36</td>\n",
       "    </tr>\n",
       "    <tr>\n",
       "      <th>4</th>\n",
       "      <td>KILLABEARS</td>\n",
       "      <td>0xc99c679c50033bbc5321eb88752e89a93e9e83c5</td>\n",
       "      <td>267</td>\n",
       "      <td>1,184,540.09</td>\n",
       "      <td>59.23</td>\n",
       "      <td>70.00</td>\n",
       "      <td>24.55</td>\n",
       "      <td>14,542,922.10</td>\n",
       "      <td>3781</td>\n",
       "      <td>36</td>\n",
       "    </tr>\n",
       "    <tr>\n",
       "      <th>5</th>\n",
       "      <td>rektguy</td>\n",
       "      <td>0xb852c6b5892256c264cc2c888ea462189154d8d7</td>\n",
       "      <td>876</td>\n",
       "      <td>1,166,737.47</td>\n",
       "      <td>61.13</td>\n",
       "      <td>60.00</td>\n",
       "      <td>22.40</td>\n",
       "      <td>1,950,857.98</td>\n",
       "      <td>1810</td>\n",
       "      <td>12</td>\n",
       "    </tr>\n",
       "    <tr>\n",
       "      <th>5</th>\n",
       "      <td>Nina's Super Cool World</td>\n",
       "      <td>0x670d4dd2e6badfbbd372d0d37e06cd2852754a04</td>\n",
       "      <td>47</td>\n",
       "      <td>11,562.70</td>\n",
       "      <td>61.38</td>\n",
       "      <td>69.00</td>\n",
       "      <td>20.56</td>\n",
       "      <td>1,950,857.98</td>\n",
       "      <td>1810</td>\n",
       "      <td>12</td>\n",
       "    </tr>\n",
       "    <tr>\n",
       "      <th>5</th>\n",
       "      <td>Elemental by Fang Lijun</td>\n",
       "      <td>0xc9677cd8e9652f1b1aadd3429769b0ef8d7a0425</td>\n",
       "      <td>26</td>\n",
       "      <td>17,265.12</td>\n",
       "      <td>64.38</td>\n",
       "      <td>75.00</td>\n",
       "      <td>26.77</td>\n",
       "      <td>1,950,857.98</td>\n",
       "      <td>1810</td>\n",
       "      <td>12</td>\n",
       "    </tr>\n",
       "    <tr>\n",
       "      <th>5</th>\n",
       "      <td>Nakamigos</td>\n",
       "      <td>0xd774557b647330c91bf44cfeab205095f7e6c367</td>\n",
       "      <td>98</td>\n",
       "      <td>46,011.26</td>\n",
       "      <td>65.15</td>\n",
       "      <td>79.00</td>\n",
       "      <td>48.46</td>\n",
       "      <td>1,950,857.98</td>\n",
       "      <td>1810</td>\n",
       "      <td>12</td>\n",
       "    </tr>\n",
       "    <tr>\n",
       "      <th>5</th>\n",
       "      <td>Cold Blooded Creepz</td>\n",
       "      <td>0xfe8c6d19365453d26af321d0e8c910428c23873f</td>\n",
       "      <td>52</td>\n",
       "      <td>97,520.45</td>\n",
       "      <td>65.80</td>\n",
       "      <td>59.00</td>\n",
       "      <td>31.14</td>\n",
       "      <td>1,950,857.98</td>\n",
       "      <td>1810</td>\n",
       "      <td>12</td>\n",
       "    </tr>\n",
       "    <tr>\n",
       "      <th>5</th>\n",
       "      <td>Sandbox's LANDs</td>\n",
       "      <td>0x5cc5b05a8a13e3fbdb0bb9fccd98d38e50f90c38</td>\n",
       "      <td>141</td>\n",
       "      <td>120,612.22</td>\n",
       "      <td>66.03</td>\n",
       "      <td>70.99</td>\n",
       "      <td>26.24</td>\n",
       "      <td>1,950,857.98</td>\n",
       "      <td>1810</td>\n",
       "      <td>12</td>\n",
       "    </tr>\n",
       "    <tr>\n",
       "      <th>5</th>\n",
       "      <td>KILLABITS</td>\n",
       "      <td>0x64a1c0937728d8d2fa8cd81ef61a9c860b7362db</td>\n",
       "      <td>108</td>\n",
       "      <td>129,649.17</td>\n",
       "      <td>66.93</td>\n",
       "      <td>75.00</td>\n",
       "      <td>22.49</td>\n",
       "      <td>1,950,857.98</td>\n",
       "      <td>1810</td>\n",
       "      <td>12</td>\n",
       "    </tr>\n",
       "    <tr>\n",
       "      <th>5</th>\n",
       "      <td>World of Women Galaxy</td>\n",
       "      <td>0xf61f24c2d93bf2de187546b14425bf631f28d6dc</td>\n",
       "      <td>30</td>\n",
       "      <td>7,580.59</td>\n",
       "      <td>69.71</td>\n",
       "      <td>74.00</td>\n",
       "      <td>24.60</td>\n",
       "      <td>1,950,857.98</td>\n",
       "      <td>1810</td>\n",
       "      <td>12</td>\n",
       "    </tr>\n",
       "    <tr>\n",
       "      <th>5</th>\n",
       "      <td>Opepen Edition</td>\n",
       "      <td>0x6339e5e072086621540d0362c4e3cea0d643e114</td>\n",
       "      <td>48</td>\n",
       "      <td>14,514.07</td>\n",
       "      <td>71.16</td>\n",
       "      <td>75.00</td>\n",
       "      <td>48.40</td>\n",
       "      <td>1,950,857.98</td>\n",
       "      <td>1810</td>\n",
       "      <td>12</td>\n",
       "    </tr>\n",
       "    <tr>\n",
       "      <th>5</th>\n",
       "      <td>Sewer Pass</td>\n",
       "      <td>0x764aeebcf425d56800ef2c84f2578689415a2daa</td>\n",
       "      <td>20</td>\n",
       "      <td>43,288.87</td>\n",
       "      <td>72.72</td>\n",
       "      <td>65.00</td>\n",
       "      <td>41.21</td>\n",
       "      <td>1,950,857.98</td>\n",
       "      <td>1810</td>\n",
       "      <td>12</td>\n",
       "    </tr>\n",
       "    <tr>\n",
       "      <th>5</th>\n",
       "      <td>Goblinverse Island</td>\n",
       "      <td>0xb268db1c8d033d27d85f9d0efe20082ebcda391d</td>\n",
       "      <td>310</td>\n",
       "      <td>267,593.08</td>\n",
       "      <td>76.95</td>\n",
       "      <td>78.00</td>\n",
       "      <td>20.26</td>\n",
       "      <td>1,950,857.98</td>\n",
       "      <td>1810</td>\n",
       "      <td>12</td>\n",
       "    </tr>\n",
       "    <tr>\n",
       "      <th>5</th>\n",
       "      <td>NaN</td>\n",
       "      <td>0x79986af15539de2db9a5086382daeda917a9cf0c</td>\n",
       "      <td>33</td>\n",
       "      <td>13,032.58</td>\n",
       "      <td>79.15</td>\n",
       "      <td>80.00</td>\n",
       "      <td>10.98</td>\n",
       "      <td>1,950,857.98</td>\n",
       "      <td>1810</td>\n",
       "      <td>12</td>\n",
       "    </tr>\n",
       "    <tr>\n",
       "      <th>5</th>\n",
       "      <td>Ethlizards</td>\n",
       "      <td>0x16de9d750f4ac24226154c40980ef83d4d3fd4ad</td>\n",
       "      <td>21</td>\n",
       "      <td>15,490.41</td>\n",
       "      <td>83.38</td>\n",
       "      <td>90.00</td>\n",
       "      <td>17.49</td>\n",
       "      <td>1,950,857.98</td>\n",
       "      <td>1810</td>\n",
       "      <td>12</td>\n",
       "    </tr>\n",
       "  </tbody>\n",
       "</table>\n",
       "</div>"
      ],
      "text/plain": [
       "                              collection_name  \\\n",
       "cluster                                         \n",
       "1                                  Art Blocks   \n",
       "1                                  Autoglyphs   \n",
       "1                                       Azuki   \n",
       "2                                  Terraforms   \n",
       "2                                        mfer   \n",
       "2                        Bored Ape Yacht Club   \n",
       "2                                The Captainz   \n",
       "2                              Otherside Koda   \n",
       "2                                  VeeFriends   \n",
       "2                 Ethereum Name Service (ENS)   \n",
       "2                              BEANZ Official   \n",
       "2                                   Cool Cats   \n",
       "3                         DigiDaigaku Genesis   \n",
       "3                          MutantApeYachtClub   \n",
       "3                                   Moonbirds   \n",
       "3                                     Meebits   \n",
       "3                                  Art Blocks   \n",
       "3                                        FLUF   \n",
       "3        Friendship Bracelets by Alexis André   \n",
       "3                           Otherside Vessels   \n",
       "4                               PudgyPenguins   \n",
       "4                                    Valhalla   \n",
       "4                          CryptoDickbutts S3   \n",
       "4                                 The Potatoz   \n",
       "4                                        Land   \n",
       "4                          Otherdeed Expanded   \n",
       "4                            Async Blueprints   \n",
       "4                         NFTfi Locked Bundle   \n",
       "4                                      CloneX   \n",
       "4                                      Milady   \n",
       "4                          Art Blocks Curated   \n",
       "4                 MAX PAIN AND FRENS BY XCOPY   \n",
       "4                                   0N1 Force   \n",
       "4                                   Cryptoadz   \n",
       "4                                  CyberKongz   \n",
       "4                                CyberBrokers   \n",
       "4                                     Doodles   \n",
       "4                                      HV-MTL   \n",
       "4                                   LilPudgys   \n",
       "4                              World Of Women   \n",
       "4                                   Wolf Game   \n",
       "4                                       RENGA   \n",
       "4                       Bored Ape Kennel Club   \n",
       "4                               OnChainMonkey   \n",
       "4                               HUXLEY Robots   \n",
       "4                         NFTfi Locked Bundle   \n",
       "4                           Art Blocks x Pace   \n",
       "4                                    Chimpers   \n",
       "4                     Otherdeed for Otherside   \n",
       "4                          Creepz by OVERLORD   \n",
       "4                               CyberKongz VX   \n",
       "4                         Checks - VV Edition   \n",
       "4                           10KTF Gucci Grail   \n",
       "4                                PudgyPresent   \n",
       "4                   Murakami.Flowers Official   \n",
       "4                                  KILLABEARS   \n",
       "5                                     rektguy   \n",
       "5                     Nina's Super Cool World   \n",
       "5                     Elemental by Fang Lijun   \n",
       "5                                   Nakamigos   \n",
       "5                         Cold Blooded Creepz   \n",
       "5                             Sandbox's LANDs   \n",
       "5                                   KILLABITS   \n",
       "5                       World of Women Galaxy   \n",
       "5                              Opepen Edition   \n",
       "5                                  Sewer Pass   \n",
       "5                          Goblinverse Island   \n",
       "5                                         NaN   \n",
       "5                                  Ethlizards   \n",
       "\n",
       "                                            address  count  borrow_volume  \\\n",
       "cluster                                                                     \n",
       "1        0x059edd72cd353df5106d2b9cc5ab83a52287ac3a    147   1,899,193.43   \n",
       "1        0xd4e4078ca3495de5b1d4db434bebc5a986197782     20   4,243,883.08   \n",
       "1        0xed5af388653567af2f388e6224dc7c4b3241c544    125   2,345,021.00   \n",
       "2        0x4e1f41613c9084fdb9e34e11fae9412427480e56     59     108,922.53   \n",
       "2        0x79fcdef22feed20eddacbb2587640e45491b757f     36      44,932.24   \n",
       "2        0xbc4ca0eda7647a8ab7c2061c2e118a18a936f13d     80   5,385,201.64   \n",
       "2        0x769272677fab02575e84945f03eca517acc544cc    142   1,084,539.07   \n",
       "2        0xe012baf811cf9c05c408e879c399960d1f305903     34     356,943.02   \n",
       "2        0xa3aee8bce55beea1951ef834b99f3ac60d1abeeb     40     155,660.17   \n",
       "2        0x57f1887a8bf19b14fc0df6fd9b2acc9af147ea85     57      36,764.69   \n",
       "2        0x306b1ea3ecdf94ab739f1910bbda052ed4a9f949    107     239,392.76   \n",
       "2        0x1a92f7381b9f03921564a437210bb9396471050c     24      33,709.18   \n",
       "3        0xd1258db6ac08eb0e625b75b371c023da478e94a9     87     548,829.70   \n",
       "3        0x60e4d786628fea6478f785a6d7e704777c86a7c6    186   3,017,176.47   \n",
       "3        0x23581767a106ae21c074b2276d25e5c3e136a68b     74     399,615.27   \n",
       "3        0x7bd29408f11d2bfc23c34f18275bbf23bb716bc7    129     457,812.98   \n",
       "3        0x99a9b7c1116f9ceeb1652de04d5969cce509b069     32      51,523.63   \n",
       "3        0xccc441ac31f02cd96c153db6fd5fe0a2f4e6a68d     87     171,641.71   \n",
       "3        0x942bc2d3e7a589fe5bd4a5c6ef9727dfd82f5c8a    778     313,112.29   \n",
       "3        0x5b1085136a811e55b2bb2ca1ea456ba82126a376     28      14,097.83   \n",
       "4        0xbd3531da5cf5857e7cfaa92426877b022e612cf8    248   1,598,249.90   \n",
       "4        0x231d3559aa848bf10366fb9868590f01d34bf240     33      29,141.03   \n",
       "4        0x42069abfe407c60cf4ae4112bedead391dba1cdb    199     433,197.13   \n",
       "4        0x39ee2c7b3cb80254225884ca001f57118c8f21b6    101     357,009.46   \n",
       "4        0x2c88aa0956bc9813505d73575f653f69ada60923     55     400,295.61   \n",
       "4        0x790b2cf29ed4f310bf7641f013c65d4560d28371     66     122,400.34   \n",
       "4        0xc143bbfcdbdbed6d454803804752a064a622c1f3     41     453,773.68   \n",
       "4        0x46c9cfb32627b74f91e0b5ad575c247aec7e7847     58     444,710.93   \n",
       "4        0x49cf6f5d44e70224e2e23fdcdd2c053f30ada28b    104     504,433.35   \n",
       "4        0x5af0d9827e0c53e4799bb226655a1de152a425a5     29      78,295.10   \n",
       "4        0xa7d8d9ef8d8ce8992df33d8b8cf4aebabd5bd270    521   2,500,071.95   \n",
       "4        0xd1169e5349d1cb9941f3dcba135c8a4b9eacfdde     59      36,693.24   \n",
       "4        0x3bf2922f4520a8ba0c2efc3d2a1539678dad5e9d     22      16,735.86   \n",
       "4        0x1cb1a5e65610aeff2551a50f76a87a7d3fb649c6     48      67,486.94   \n",
       "4        0x57a204aa1042f6e66dd7730813f4024114d74f37     24     189,616.82   \n",
       "4        0x892848074ddea461a15f337250da3ce55580ca85     40      21,358.90   \n",
       "4        0x8a90cab2b38dba80c64b7734e58ee1db38b8992e    143     775,334.03   \n",
       "4        0x4b15a9c28034dc83db40cd810001427d3bd7163d     89     286,074.38   \n",
       "4        0x524cab2ec69124574082676e6f654a18df49a048    145      60,662.98   \n",
       "4        0xe785e82358879f061bc3dcac6f0444462d4b5330    104     191,576.66   \n",
       "4        0x7f36182dee28c45de6072a34d29855bae76dbe2f     55     263,458.81   \n",
       "4        0x394e3d3044fc89fcdd966d3cb35ac0b32b0cda91    125     173,093.27   \n",
       "4        0xba30e5f9bb24caa003e9f2f0497ad287fdf95623     81     669,697.97   \n",
       "4        0x960b7a6bcd451c9968473f7bbfd9be826efd549a     77     167,232.15   \n",
       "4        0xbeb1d3357cd525947b16a9f7a2b3d50b50b977bd     34      18,008.64   \n",
       "4        0x9a129032f01eb4ddd764c1777c81b771c34a2fbe     60   1,082,608.24   \n",
       "4        0x64780ce53f6e966e18a22af13a2f97369580ec11     33      69,078.50   \n",
       "4        0x80336ad7a747236ef41f47ed2c7641828a480baa     90      98,901.62   \n",
       "4        0x34d85c9cdeb23fa97cb08333b511ac86e1c4e258    306   1,605,696.58   \n",
       "4        0x5946aeaab44e65eb370ffaa6a7ef2218cff9b47d    219     369,366.03   \n",
       "4        0x7ea3cca10668b8346aec0bf1844a49e995527c8b     82      31,206.22   \n",
       "4        0x34eebee6942d8def3c125458d1a86e0a897fd6f9    156     199,307.95   \n",
       "4        0x572e33ffa523865791ab1c26b42a86ac244df784     20       1,558.46   \n",
       "4        0x062e691c2054de82f28008a8ccc6d7a1c8ce060d     21      19,114.98   \n",
       "4        0x7d8820fa92eb1584636f4f5b8515b5476b75171a     26      22,934.30   \n",
       "4        0xc99c679c50033bbc5321eb88752e89a93e9e83c5    267   1,184,540.09   \n",
       "5        0xb852c6b5892256c264cc2c888ea462189154d8d7    876   1,166,737.47   \n",
       "5        0x670d4dd2e6badfbbd372d0d37e06cd2852754a04     47      11,562.70   \n",
       "5        0xc9677cd8e9652f1b1aadd3429769b0ef8d7a0425     26      17,265.12   \n",
       "5        0xd774557b647330c91bf44cfeab205095f7e6c367     98      46,011.26   \n",
       "5        0xfe8c6d19365453d26af321d0e8c910428c23873f     52      97,520.45   \n",
       "5        0x5cc5b05a8a13e3fbdb0bb9fccd98d38e50f90c38    141     120,612.22   \n",
       "5        0x64a1c0937728d8d2fa8cd81ef61a9c860b7362db    108     129,649.17   \n",
       "5        0xf61f24c2d93bf2de187546b14425bf631f28d6dc     30       7,580.59   \n",
       "5        0x6339e5e072086621540d0362c4e3cea0d643e114     48      14,514.07   \n",
       "5        0x764aeebcf425d56800ef2c84f2578689415a2daa     20      43,288.87   \n",
       "5        0xb268db1c8d033d27d85f9d0efe20082ebcda391d    310     267,593.08   \n",
       "5        0x79986af15539de2db9a5086382daeda917a9cf0c     33      13,032.58   \n",
       "5        0x16de9d750f4ac24226154c40980ef83d4d3fd4ad     21      15,490.41   \n",
       "\n",
       "         mean  median   std  borrow_volume_per_cluster  \\\n",
       "cluster                                                  \n",
       "1       11.74    9.00  7.15               8,488,097.52   \n",
       "1       13.33    9.00  9.69               8,488,097.52   \n",
       "1       17.93   17.00 10.61               8,488,097.52   \n",
       "2       26.42   24.00 10.68               7,446,065.28   \n",
       "2       27.85   26.00 16.74               7,446,065.28   \n",
       "2       30.33   15.00 49.39               7,446,065.28   \n",
       "2       32.12   25.00 31.00               7,446,065.28   \n",
       "2       32.29   30.00 16.05               7,446,065.28   \n",
       "2       32.78   30.00 16.49               7,446,065.28   \n",
       "2       32.84   25.00 29.27               7,446,065.28   \n",
       "2       32.86   33.00 21.63               7,446,065.28   \n",
       "2       32.97   29.00 24.15               7,446,065.28   \n",
       "3       33.81   33.00 14.64               4,973,809.88   \n",
       "3       33.94   23.00 38.00               4,973,809.88   \n",
       "3       33.98   30.00 13.36               4,973,809.88   \n",
       "3       35.16   38.00 12.96               4,973,809.88   \n",
       "3       35.48   30.00 20.20               4,973,809.88   \n",
       "3       37.13   35.00 20.09               4,973,809.88   \n",
       "3       38.49   19.00 27.18               4,973,809.88   \n",
       "3       39.83   44.00 22.22               4,973,809.88   \n",
       "4       40.12   35.00 19.37              14,542,922.10   \n",
       "4       40.31   38.99 29.34              14,542,922.10   \n",
       "4       40.35   39.00 11.48              14,542,922.10   \n",
       "4       41.37   40.20 14.13              14,542,922.10   \n",
       "4       41.52   39.99 14.46              14,542,922.10   \n",
       "4       41.64   46.50 15.15              14,542,922.10   \n",
       "4       42.15   35.00 18.16              14,542,922.10   \n",
       "4       42.41   40.00 16.26              14,542,922.10   \n",
       "4       42.50   38.00 22.41              14,542,922.10   \n",
       "4       42.71   29.00 24.05              14,542,922.10   \n",
       "4       42.71   39.00 23.25              14,542,922.10   \n",
       "4       44.04   49.00 28.76              14,542,922.10   \n",
       "4       45.03   40.00 37.46              14,542,922.10   \n",
       "4       45.51   45.00 21.28              14,542,922.10   \n",
       "4       46.53   39.99 19.01              14,542,922.10   \n",
       "4       47.01   39.00 23.74              14,542,922.10   \n",
       "4       47.46   39.00 33.60              14,542,922.10   \n",
       "4       47.79   49.00 19.31              14,542,922.10   \n",
       "4       48.46   49.99 26.95              14,542,922.10   \n",
       "4       48.65   49.00 26.94              14,542,922.10   \n",
       "4       48.82   45.00 19.11              14,542,922.10   \n",
       "4       49.19   47.50 25.07              14,542,922.10   \n",
       "4       49.76   38.50 31.90              14,542,922.10   \n",
       "4       49.80   50.00 19.47              14,542,922.10   \n",
       "4       51.21   52.00 29.05              14,542,922.10   \n",
       "4       51.51   50.00 25.23              14,542,922.10   \n",
       "4       51.85   49.00 21.27              14,542,922.10   \n",
       "4       51.86   50.00 12.34              14,542,922.10   \n",
       "4       53.05   45.00 29.07              14,542,922.10   \n",
       "4       54.22   50.00 16.96              14,542,922.10   \n",
       "4       54.43   42.00 20.52              14,542,922.10   \n",
       "4       55.49   44.00 27.77              14,542,922.10   \n",
       "4       55.80   65.00 22.40              14,542,922.10   \n",
       "4       56.07   55.00 20.89              14,542,922.10   \n",
       "4       58.55   50.00 35.32              14,542,922.10   \n",
       "4       59.23   70.00 24.55              14,542,922.10   \n",
       "5       61.13   60.00 22.40               1,950,857.98   \n",
       "5       61.38   69.00 20.56               1,950,857.98   \n",
       "5       64.38   75.00 26.77               1,950,857.98   \n",
       "5       65.15   79.00 48.46               1,950,857.98   \n",
       "5       65.80   59.00 31.14               1,950,857.98   \n",
       "5       66.03   70.99 26.24               1,950,857.98   \n",
       "5       66.93   75.00 22.49               1,950,857.98   \n",
       "5       69.71   74.00 24.60               1,950,857.98   \n",
       "5       71.16   75.00 48.40               1,950,857.98   \n",
       "5       72.72   65.00 41.21               1,950,857.98   \n",
       "5       76.95   78.00 20.26               1,950,857.98   \n",
       "5       79.15   80.00 10.98               1,950,857.98   \n",
       "5       83.38   90.00 17.49               1,950,857.98   \n",
       "\n",
       "         loan_count_per_cluster  nb_collection_per_cluster  \n",
       "cluster                                                     \n",
       "1                           292                          3  \n",
       "1                           292                          3  \n",
       "1                           292                          3  \n",
       "2                           579                          9  \n",
       "2                           579                          9  \n",
       "2                           579                          9  \n",
       "2                           579                          9  \n",
       "2                           579                          9  \n",
       "2                           579                          9  \n",
       "2                           579                          9  \n",
       "2                           579                          9  \n",
       "2                           579                          9  \n",
       "3                          1401                          8  \n",
       "3                          1401                          8  \n",
       "3                          1401                          8  \n",
       "3                          1401                          8  \n",
       "3                          1401                          8  \n",
       "3                          1401                          8  \n",
       "3                          1401                          8  \n",
       "3                          1401                          8  \n",
       "4                          3781                         36  \n",
       "4                          3781                         36  \n",
       "4                          3781                         36  \n",
       "4                          3781                         36  \n",
       "4                          3781                         36  \n",
       "4                          3781                         36  \n",
       "4                          3781                         36  \n",
       "4                          3781                         36  \n",
       "4                          3781                         36  \n",
       "4                          3781                         36  \n",
       "4                          3781                         36  \n",
       "4                          3781                         36  \n",
       "4                          3781                         36  \n",
       "4                          3781                         36  \n",
       "4                          3781                         36  \n",
       "4                          3781                         36  \n",
       "4                          3781                         36  \n",
       "4                          3781                         36  \n",
       "4                          3781                         36  \n",
       "4                          3781                         36  \n",
       "4                          3781                         36  \n",
       "4                          3781                         36  \n",
       "4                          3781                         36  \n",
       "4                          3781                         36  \n",
       "4                          3781                         36  \n",
       "4                          3781                         36  \n",
       "4                          3781                         36  \n",
       "4                          3781                         36  \n",
       "4                          3781                         36  \n",
       "4                          3781                         36  \n",
       "4                          3781                         36  \n",
       "4                          3781                         36  \n",
       "4                          3781                         36  \n",
       "4                          3781                         36  \n",
       "4                          3781                         36  \n",
       "4                          3781                         36  \n",
       "5                          1810                         12  \n",
       "5                          1810                         12  \n",
       "5                          1810                         12  \n",
       "5                          1810                         12  \n",
       "5                          1810                         12  \n",
       "5                          1810                         12  \n",
       "5                          1810                         12  \n",
       "5                          1810                         12  \n",
       "5                          1810                         12  \n",
       "5                          1810                         12  \n",
       "5                          1810                         12  \n",
       "5                          1810                         12  \n",
       "5                          1810                         12  "
      ]
     },
     "execution_count": 3,
     "metadata": {},
     "output_type": "execute_result"
    }
   ],
   "source": [
    "# to view the table ordered by cluster, set the table index to the cluster:\n",
    "table.set_index('cluster')"
   ]
  },
  {
   "cell_type": "code",
   "execution_count": null,
   "metadata": {},
   "outputs": [],
   "source": []
  },
  {
   "attachments": {},
   "cell_type": "markdown",
   "metadata": {},
   "source": [
    "## Testing the above parameters with grouping_key='median':"
   ]
  },
  {
   "cell_type": "code",
   "execution_count": 4,
   "metadata": {},
   "outputs": [
    {
     "data": {
      "text/plain": [
       "'Number of collections in raw data: [70]'"
      ]
     },
     "metadata": {},
     "output_type": "display_data"
    },
    {
     "data": {
      "text/html": [
       "<div>\n",
       "<style scoped>\n",
       "    .dataframe tbody tr th:only-of-type {\n",
       "        vertical-align: middle;\n",
       "    }\n",
       "\n",
       "    .dataframe tbody tr th {\n",
       "        vertical-align: top;\n",
       "    }\n",
       "\n",
       "    .dataframe thead th {\n",
       "        text-align: right;\n",
       "    }\n",
       "</style>\n",
       "<table border=\"1\" class=\"dataframe\">\n",
       "  <thead>\n",
       "    <tr style=\"text-align: right;\">\n",
       "      <th></th>\n",
       "      <th>collection_name</th>\n",
       "      <th>address</th>\n",
       "      <th>count</th>\n",
       "      <th>borrow_volume</th>\n",
       "      <th>mean</th>\n",
       "      <th>median</th>\n",
       "      <th>std</th>\n",
       "      <th>cluster</th>\n",
       "      <th>borrow_volume_per_cluster</th>\n",
       "      <th>loan_count_per_cluster</th>\n",
       "      <th>nb_collection_per_cluster</th>\n",
       "    </tr>\n",
       "  </thead>\n",
       "  <tbody>\n",
       "    <tr>\n",
       "      <th>0</th>\n",
       "      <td>Bored Ape Yacht Club</td>\n",
       "      <td>0xbc4ca0eda7647a8ab7c2061c2e118a18a936f13d</td>\n",
       "      <td>80</td>\n",
       "      <td>5,385,201.64</td>\n",
       "      <td>30.33</td>\n",
       "      <td>15.00</td>\n",
       "      <td>49.39</td>\n",
       "      <td>1</td>\n",
       "      <td>8,043,334.93</td>\n",
       "      <td>983</td>\n",
       "      <td>3</td>\n",
       "    </tr>\n",
       "    <tr>\n",
       "      <th>1</th>\n",
       "      <td>Azuki</td>\n",
       "      <td>0xed5af388653567af2f388e6224dc7c4b3241c544</td>\n",
       "      <td>125</td>\n",
       "      <td>2,345,021.00</td>\n",
       "      <td>17.93</td>\n",
       "      <td>17.00</td>\n",
       "      <td>10.61</td>\n",
       "      <td>1</td>\n",
       "      <td>8,043,334.93</td>\n",
       "      <td>983</td>\n",
       "      <td>3</td>\n",
       "    </tr>\n",
       "    <tr>\n",
       "      <th>2</th>\n",
       "      <td>Friendship Bracelets by Alexis André</td>\n",
       "      <td>0x942bc2d3e7a589fe5bd4a5c6ef9727dfd82f5c8a</td>\n",
       "      <td>778</td>\n",
       "      <td>313,112.29</td>\n",
       "      <td>38.49</td>\n",
       "      <td>19.00</td>\n",
       "      <td>27.18</td>\n",
       "      <td>1</td>\n",
       "      <td>8,043,334.93</td>\n",
       "      <td>983</td>\n",
       "      <td>3</td>\n",
       "    </tr>\n",
       "    <tr>\n",
       "      <th>3</th>\n",
       "      <td>MutantApeYachtClub</td>\n",
       "      <td>0x60e4d786628fea6478f785a6d7e704777c86a7c6</td>\n",
       "      <td>186</td>\n",
       "      <td>3,017,176.47</td>\n",
       "      <td>33.94</td>\n",
       "      <td>23.00</td>\n",
       "      <td>38.00</td>\n",
       "      <td>2</td>\n",
       "      <td>5,607,474.11</td>\n",
       "      <td>820</td>\n",
       "      <td>12</td>\n",
       "    </tr>\n",
       "    <tr>\n",
       "      <th>4</th>\n",
       "      <td>Terraforms</td>\n",
       "      <td>0x4e1f41613c9084fdb9e34e11fae9412427480e56</td>\n",
       "      <td>59</td>\n",
       "      <td>108,922.53</td>\n",
       "      <td>26.42</td>\n",
       "      <td>24.00</td>\n",
       "      <td>10.68</td>\n",
       "      <td>2</td>\n",
       "      <td>5,607,474.11</td>\n",
       "      <td>820</td>\n",
       "      <td>12</td>\n",
       "    </tr>\n",
       "  </tbody>\n",
       "</table>\n",
       "</div>"
      ],
      "text/plain": [
       "                        collection_name  \\\n",
       "0                  Bored Ape Yacht Club   \n",
       "1                                 Azuki   \n",
       "2  Friendship Bracelets by Alexis André   \n",
       "3                    MutantApeYachtClub   \n",
       "4                            Terraforms   \n",
       "\n",
       "                                      address  count  borrow_volume  mean  \\\n",
       "0  0xbc4ca0eda7647a8ab7c2061c2e118a18a936f13d     80   5,385,201.64 30.33   \n",
       "1  0xed5af388653567af2f388e6224dc7c4b3241c544    125   2,345,021.00 17.93   \n",
       "2  0x942bc2d3e7a589fe5bd4a5c6ef9727dfd82f5c8a    778     313,112.29 38.49   \n",
       "3  0x60e4d786628fea6478f785a6d7e704777c86a7c6    186   3,017,176.47 33.94   \n",
       "4  0x4e1f41613c9084fdb9e34e11fae9412427480e56     59     108,922.53 26.42   \n",
       "\n",
       "   median   std cluster  borrow_volume_per_cluster  loan_count_per_cluster  \\\n",
       "0   15.00 49.39       1               8,043,334.93                     983   \n",
       "1   17.00 10.61       1               8,043,334.93                     983   \n",
       "2   19.00 27.18       1               8,043,334.93                     983   \n",
       "3   23.00 38.00       2               5,607,474.11                     820   \n",
       "4   24.00 10.68       2               5,607,474.11                     820   \n",
       "\n",
       "   nb_collection_per_cluster  \n",
       "0                          3  \n",
       "1                          3  \n",
       "2                          3  \n",
       "3                         12  \n",
       "4                         12  "
      ]
     },
     "metadata": {},
     "output_type": "display_data"
    },
    {
     "data": {
      "text/plain": [
       "'Count of NFT collections per cluster:'"
      ]
     },
     "metadata": {},
     "output_type": "display_data"
    },
    {
     "data": {
      "text/html": [
       "<div>\n",
       "<style scoped>\n",
       "    .dataframe tbody tr th:only-of-type {\n",
       "        vertical-align: middle;\n",
       "    }\n",
       "\n",
       "    .dataframe tbody tr th {\n",
       "        vertical-align: top;\n",
       "    }\n",
       "\n",
       "    .dataframe thead th {\n",
       "        text-align: right;\n",
       "    }\n",
       "</style>\n",
       "<table border=\"1\" class=\"dataframe\">\n",
       "  <thead>\n",
       "    <tr style=\"text-align: right;\">\n",
       "      <th></th>\n",
       "      <th>nb_collection_per_cluster</th>\n",
       "    </tr>\n",
       "    <tr>\n",
       "      <th>cluster</th>\n",
       "      <th></th>\n",
       "    </tr>\n",
       "  </thead>\n",
       "  <tbody>\n",
       "    <tr>\n",
       "      <th>1</th>\n",
       "      <td>3</td>\n",
       "    </tr>\n",
       "    <tr>\n",
       "      <th>2</th>\n",
       "      <td>12</td>\n",
       "    </tr>\n",
       "    <tr>\n",
       "      <th>3</th>\n",
       "      <td>15</td>\n",
       "    </tr>\n",
       "    <tr>\n",
       "      <th>4</th>\n",
       "      <td>24</td>\n",
       "    </tr>\n",
       "    <tr>\n",
       "      <th>5</th>\n",
       "      <td>12</td>\n",
       "    </tr>\n",
       "  </tbody>\n",
       "</table>\n",
       "</div>"
      ],
      "text/plain": [
       "         nb_collection_per_cluster\n",
       "cluster                           \n",
       "1                                3\n",
       "2                               12\n",
       "3                               15\n",
       "4                               24\n",
       "5                               12"
      ]
     },
     "metadata": {},
     "output_type": "display_data"
    },
    {
     "data": {
      "application/vnd.plotly.v1+json": {
       "config": {
        "plotlyServerURL": "https://plot.ly"
       },
       "data": [
        {
         "alignmentgroup": "True",
         "customdata": [
          [
           "Friendship Bracelets by Alexis André",
           "0x942bc2d3e7a589fe5bd4a5c6ef9727dfd82f5c8a",
           778,
           313112.29081151,
           27.18424445282839
          ],
          [
           "Bored Ape Yacht Club",
           "0xbc4ca0eda7647a8ab7c2061c2e118a18a936f13d",
           80,
           5385201.636549897,
           49.39416439176128
          ],
          [
           "Azuki",
           "0xed5af388653567af2f388e6224dc7c4b3241c544",
           125,
           2345021.0009652493,
           10.606860608886
          ]
         ],
         "hovertemplate": "Cluster Number=%{x}<br>Mean APR=%{y}<br>collection_name=%{customdata[0]}<br>address=%{customdata[1]}<br>count=%{customdata[2]}<br>borrow_volume=%{customdata[3]}<br>std=%{customdata[4]}<extra></extra>",
         "legendgroup": "1",
         "marker": {
          "color": "#636efa"
         },
         "name": "1",
         "notched": false,
         "offsetgroup": "1",
         "orientation": "v",
         "showlegend": true,
         "type": "box",
         "x": [
          1,
          1,
          1
         ],
         "x0": " ",
         "xaxis": "x",
         "y": [
          19.00000000000015,
          15.000000000000092,
          17.000000000000036
         ],
         "y0": " ",
         "yaxis": "y"
        },
        {
         "alignmentgroup": "True",
         "customdata": [
          [
           "Cool Cats",
           "0x1a92f7381b9f03921564a437210bb9396471050c",
           24,
           33709.1768110818,
           24.15330086359542
          ],
          [
           "Moonbirds",
           "0x23581767a106ae21c074b2276d25e5c3e136a68b",
           74,
           399615.26825,
           13.356912394797163
          ],
          [
           "BEANZ Official",
           "0x306b1ea3ecdf94ab739f1910bbda052ed4a9f949",
           107,
           239392.7590378993,
           21.62641880814384
          ],
          [
           "Ethereum Name Service (ENS)",
           "0x57f1887a8bf19b14fc0df6fd9b2acc9af147ea85",
           57,
           36764.6869911028,
           29.266753563366063
          ],
          [
           "Milady",
           "0x5af0d9827e0c53e4799bb226655a1de152a425a5",
           29,
           78295.102460003,
           24.0532266447042
          ],
          [
           "MutantApeYachtClub",
           "0x60e4d786628fea6478f785a6d7e704777c86a7c6",
           186,
           3017176.470605762,
           38.001037392880576
          ],
          [
           "The Captainz",
           "0x769272677fab02575e84945f03eca517acc544cc",
           142,
           1084539.0659853702,
           31.00066470087854
          ],
          [
           "mfer",
           "0x79fcdef22feed20eddacbb2587640e45491b757f",
           36,
           44932.23672000192,
           16.74109330802451
          ],
          [
           "VeeFriends",
           "0xa3aee8bce55beea1951ef834b99f3ac60d1abeeb",
           40,
           155660.171654045,
           16.489843751004514
          ],
          [
           "Otherside Koda",
           "0xe012baf811cf9c05c408e879c399960d1f305903",
           34,
           356943.0153000246,
           16.053281344707116
          ],
          [
           "Terraforms",
           "0x4e1f41613c9084fdb9e34e11fae9412427480e56",
           59,
           108922.5302056938,
           10.683865950525975
          ],
          [
           "Art Blocks",
           "0x99a9b7c1116f9ceeb1652de04d5969cce509b069",
           32,
           51523.62776,
           20.201935974184085
          ]
         ],
         "hovertemplate": "Cluster Number=%{x}<br>Mean APR=%{y}<br>collection_name=%{customdata[0]}<br>address=%{customdata[1]}<br>count=%{customdata[2]}<br>borrow_volume=%{customdata[3]}<br>std=%{customdata[4]}<extra></extra>",
         "legendgroup": "2",
         "marker": {
          "color": "#EF553B"
         },
         "name": "2",
         "notched": false,
         "offsetgroup": "2",
         "orientation": "v",
         "showlegend": true,
         "type": "box",
         "x": [
          2,
          2,
          2,
          2,
          2,
          2,
          2,
          2,
          2,
          2,
          2,
          2
         ],
         "x0": " ",
         "xaxis": "x",
         "y": [
          29.000000857142865,
          30.00000000000001,
          32.99999999999995,
          25.00000015555553,
          28.99999993015866,
          22.999999999999865,
          25.000081874377457,
          26.00000000000001,
          30.00004523809524,
          29.99995833333333,
          24.000000269841088,
          30.00000000000001
         ],
         "y0": " ",
         "yaxis": "y"
        },
        {
         "alignmentgroup": "True",
         "customdata": [
          [
           "Valhalla",
           "0x231d3559aa848bf10366fb9868590f01d34bf240",
           33,
           29141.02505890253,
           29.342869942384464
          ],
          [
           "Land",
           "0x2c88aa0956bc9813505d73575f653f69ada60923",
           55,
           400295.6133000039,
           14.463458566022725
          ],
          [
           "0N1 Force",
           "0x3bf2922f4520a8ba0c2efc3d2a1539678dad5e9d",
           22,
           16735.855419773998,
           37.46174706308521
          ],
          [
           "CryptoDickbutts S3",
           "0x42069abfe407c60cf4ae4112bedead391dba1cdb",
           199,
           433197.1313600044,
           11.47590079501041
          ],
          [
           "CloneX",
           "0x49cf6f5d44e70224e2e23fdcdd2c053f30ada28b",
           104,
           504433.3540590759,
           22.408565693651852
          ],
          [
           "CyberKongz",
           "0x57a204aa1042f6e66dd7730813f4024114d74f37",
           24,
           189616.8201410335,
           19.0102037490585
          ],
          [
           "Meebits",
           "0x7bd29408f11d2bfc23c34f18275bbf23bb716bc7",
           129,
           457812.9824962221,
           12.957542390024974
          ],
          [
           "CyberBrokers",
           "0x892848074ddea461a15f337250da3ce55580ca85",
           40,
           21358.901519029994,
           23.743578593949877
          ],
          [
           "Doodles",
           "0x8a90cab2b38dba80c64b7734e58ee1db38b8992e",
           143,
           775334.0274588761,
           33.599161653140165
          ],
          [
           "Art Blocks Curated",
           "0xa7d8d9ef8d8ce8992df33d8b8cf4aebabd5bd270",
           521,
           2500071.953559003,
           23.250309169613207
          ],
          [
           "PudgyPenguins",
           "0xbd3531da5cf5857e7cfaa92426877b022e612cf8",
           248,
           1598249.8994342398,
           19.37465541779608
          ],
          [
           "Async Blueprints",
           "0xc143bbfcdbdbed6d454803804752a064a622c1f3",
           41,
           453773.67860003066,
           18.156684931741992
          ],
          [
           "FLUF",
           "0xccc441ac31f02cd96c153db6fd5fe0a2f4e6a68d",
           87,
           171641.71267651042,
           20.08565947985304
          ],
          [
           "DigiDaigaku Genesis",
           "0xd1258db6ac08eb0e625b75b371c023da478e94a9",
           87,
           548829.695023021,
           14.63958625807865
          ],
          [
           "Bored Ape Kennel Club",
           "0xba30e5f9bb24caa003e9f2f0497ad287fdf95623",
           81,
           669697.9721838759,
           31.90305336690753
          ]
         ],
         "hovertemplate": "Cluster Number=%{x}<br>Mean APR=%{y}<br>collection_name=%{customdata[0]}<br>address=%{customdata[1]}<br>count=%{customdata[2]}<br>borrow_volume=%{customdata[3]}<br>std=%{customdata[4]}<extra></extra>",
         "legendgroup": "3",
         "marker": {
          "color": "#00cc96"
         },
         "name": "3",
         "notched": false,
         "offsetgroup": "3",
         "orientation": "v",
         "showlegend": true,
         "type": "box",
         "x": [
          3,
          3,
          3,
          3,
          3,
          3,
          3,
          3,
          3,
          3,
          3,
          3,
          3,
          3,
          3
         ],
         "x0": " ",
         "xaxis": "x",
         "y": [
          38.99378881987578,
          39.98988666666681,
          39.99999960000007,
          39.00011481481487,
          38.000009615384656,
          39.99000833333317,
          38.00000000000056,
          38.998511904762005,
          39.00004722222222,
          38.99996031746032,
          35.00002380952381,
          35.000002083333285,
          34.99998518518518,
          33.00012558869683,
          38.49997878787868
         ],
         "y0": " ",
         "yaxis": "y"
        },
        {
         "alignmentgroup": "True",
         "customdata": [
          [
           "PudgyPresent",
           "0x062e691c2054de82f28008a8ccc6d7a1c8ce060d",
           21,
           19114.9775,
           20.89028665607309
          ],
          [
           "Cryptoadz",
           "0x1cb1a5e65610aeff2551a50f76a87a7d3fb649c6",
           48,
           67486.94400000501,
           21.281872487227268
          ],
          [
           "Otherdeed for Otherside",
           "0x34d85c9cdeb23fa97cb08333b511ac86e1c4e258",
           306,
           1605696.5790024053,
           29.07200812623177
          ],
          [
           "Checks - VV Edition",
           "0x34eebee6942d8def3c125458d1a86e0a897fd6f9",
           156,
           199307.95292668996,
           27.774411735296816
          ],
          [
           "RENGA",
           "0x394e3d3044fc89fcdd966d3cb35ac0b32b0cda91",
           125,
           173093.2698291712,
           25.07006226049937
          ],
          [
           "The Potatoz",
           "0x39ee2c7b3cb80254225884ca001f57118c8f21b6",
           101,
           357009.46105323895,
           14.127051871517605
          ],
          [
           "NFTfi Locked Bundle",
           "0x46c9cfb32627b74f91e0b5ad575c247aec7e7847",
           58,
           444710.9330002992,
           16.257552356780536
          ],
          [
           "HV-MTL",
           "0x4b15a9c28034dc83db40cd810001427d3bd7163d",
           89,
           286074.3770786344,
           19.307687991811
          ],
          [
           "LilPudgys",
           "0x524cab2ec69124574082676e6f654a18df49a048",
           145,
           60662.97816754763,
           26.9517032555198
          ],
          [
           "Creepz by OVERLORD",
           "0x5946aeaab44e65eb370ffaa6a7ef2218cff9b47d",
           219,
           369366.0292282028,
           16.963407230088606
          ],
          [
           "Otherside Vessels",
           "0x5b1085136a811e55b2bb2ca1ea456ba82126a376",
           28,
           14097.831140000004,
           22.2187951220464
          ],
          [
           "Art Blocks x Pace",
           "0x64780ce53f6e966e18a22af13a2f97369580ec11",
           33,
           69078.50366777122,
           21.271214560752288
          ],
          [
           "Otherdeed Expanded",
           "0x790b2cf29ed4f310bf7641f013c65d4560d28371",
           66,
           122400.33738003705,
           15.14994717633354
          ],
          [
           "Murakami.Flowers Official",
           "0x7d8820fa92eb1584636f4f5b8515b5476b75171a",
           26,
           22934.29514737172,
           35.31870019892174
          ],
          [
           "CyberKongz VX",
           "0x7ea3cca10668b8346aec0bf1844a49e995527c8b",
           82,
           31206.216500000803,
           20.52005551414658
          ],
          [
           "Wolf Game",
           "0x7f36182dee28c45de6072a34d29855bae76dbe2f",
           55,
           263458.81,
           19.108258171414867
          ],
          [
           "Chimpers",
           "0x80336ad7a747236ef41f47ed2c7641828a480baa",
           90,
           98901.61604000002,
           12.342086716094116
          ],
          [
           "OnChainMonkey",
           "0x960b7a6bcd451c9968473f7bbfd9be826efd549a",
           77,
           167232.15180000148,
           19.4663283452231
          ],
          [
           "NFTfi Locked Bundle",
           "0x9a129032f01eb4ddd764c1777c81b771c34a2fbe",
           60,
           1082608.2414850427,
           25.226716660495573
          ],
          [
           "rektguy",
           "0xb852c6b5892256c264cc2c888ea462189154d8d7",
           876,
           1166737.4728723925,
           22.397649780683757
          ],
          [
           "HUXLEY Robots",
           "0xbeb1d3357cd525947b16a9f7a2b3d50b50b977bd",
           34,
           18008.637500006305,
           29.04854126874449
          ],
          [
           "MAX PAIN AND FRENS BY XCOPY",
           "0xd1169e5349d1cb9941f3dcba135c8a4b9eacfdde",
           59,
           36693.241550000246,
           28.762160352373723
          ],
          [
           "World Of Women",
           "0xe785e82358879f061bc3dcac6f0444462d4b5330",
           104,
           191576.66254404729,
           26.940833915681115
          ],
          [
           "Cold Blooded Creepz",
           "0xfe8c6d19365453d26af321d0e8c910428c23873f",
           52,
           97520.45229357875,
           31.13531254698796
          ]
         ],
         "hovertemplate": "Cluster Number=%{x}<br>Mean APR=%{y}<br>collection_name=%{customdata[0]}<br>address=%{customdata[1]}<br>count=%{customdata[2]}<br>borrow_volume=%{customdata[3]}<br>std=%{customdata[4]}<extra></extra>",
         "legendgroup": "4",
         "marker": {
          "color": "#ab63fa"
         },
         "name": "4",
         "notched": false,
         "offsetgroup": "4",
         "orientation": "v",
         "showlegend": true,
         "type": "box",
         "x": [
          4,
          4,
          4,
          4,
          4,
          4,
          4,
          4,
          4,
          4,
          4,
          4,
          4,
          4,
          4,
          4,
          4,
          4,
          4,
          4,
          4,
          4,
          4,
          4
         ],
         "x0": " ",
         "xaxis": "x",
         "y": [
          55.00202380952388,
          45.0000472508591,
          44.99999833333344,
          44.00277777777752,
          47.4999999999994,
          40.2000000000001,
          40.00008928571392,
          49.00023611111112,
          49.98712480252771,
          49.99999999999996,
          44.000750000000025,
          49.000049342105214,
          46.499999999999886,
          50.00013333333334,
          41.999998921568725,
          45.000589285713936,
          50.000437499999926,
          50.00013333333334,
          49.99978571428608,
          59.99951111111109,
          51.99999996666667,
          49.00003333333333,
          48.99994642857151,
          58.999642857143
         ],
         "y0": " ",
         "yaxis": "y"
        },
        {
         "alignmentgroup": "True",
         "customdata": [
          [
           "10KTF Gucci Grail",
           "0x572e33ffa523865791ab1c26b42a86ac244df784",
           20,
           1558.462540012895,
           22.401698726226662
          ],
          [
           "Sandbox's LANDs",
           "0x5cc5b05a8a13e3fbdb0bb9fccd98d38e50f90c38",
           141,
           120612.21724117755,
           26.241600510914
          ],
          [
           "Opepen Edition",
           "0x6339e5e072086621540d0362c4e3cea0d643e114",
           48,
           14514.067376509243,
           48.39970820665661
          ],
          [
           "KILLABITS",
           "0x64a1c0937728d8d2fa8cd81ef61a9c860b7362db",
           108,
           129649.16751919112,
           22.491254318268023
          ],
          [
           "Nina's Super Cool World",
           "0x670d4dd2e6badfbbd372d0d37e06cd2852754a04",
           47,
           11562.698599926343,
           20.56472659972451
          ],
          [
           null,
           "0x79986af15539de2db9a5086382daeda917a9cf0c",
           33,
           13032.577310760958,
           10.977818189714334
          ],
          [
           "Goblinverse Island",
           "0xb268db1c8d033d27d85f9d0efe20082ebcda391d",
           310,
           267593.081811968,
           20.258851428401982
          ],
          [
           "Elemental by Fang Lijun",
           "0xc9677cd8e9652f1b1aadd3429769b0ef8d7a0425",
           26,
           17265.116820003284,
           26.77024475727136
          ],
          [
           "KILLABEARS",
           "0xc99c679c50033bbc5321eb88752e89a93e9e83c5",
           267,
           1184540.0880626685,
           24.550698832222054
          ],
          [
           "Nakamigos",
           "0xd774557b647330c91bf44cfeab205095f7e6c367",
           98,
           46011.26058152528,
           48.45870170284918
          ],
          [
           "World of Women Galaxy",
           "0xf61f24c2d93bf2de187546b14425bf631f28d6dc",
           30,
           7580.590819159823,
           24.602931076976603
          ],
          [
           "Ethlizards",
           "0x16de9d750f4ac24226154c40980ef83d4d3fd4ad",
           21,
           15490.407000000005,
           17.493805593893377
          ],
          [
           "Sewer Pass",
           "0x764aeebcf425d56800ef2c84f2578689415a2daa",
           20,
           43288.87145618271,
           41.20868805304516
          ]
         ],
         "hovertemplate": "Cluster Number=%{x}<br>Mean APR=%{y}<br>collection_name=%{customdata[0]}<br>address=%{customdata[1]}<br>count=%{customdata[2]}<br>borrow_volume=%{customdata[3]}<br>std=%{customdata[4]}<extra></extra>",
         "legendgroup": "5",
         "marker": {
          "color": "#FFA15A"
         },
         "name": "5",
         "notched": false,
         "offsetgroup": "5",
         "orientation": "v",
         "showlegend": true,
         "type": "box",
         "x": [
          5,
          5,
          5,
          5,
          5,
          5,
          5,
          5,
          5,
          5,
          5,
          5,
          5
         ],
         "x0": " ",
         "xaxis": "x",
         "y": [
          64.99999952380945,
          70.98798342732337,
          74.99999887755116,
          75.00131263126318,
          69.00110294117647,
          79.99847826086958,
          77.99968888888887,
          75.00068131868136,
          69.99998768472906,
          78.99884259259261,
          74.00037037037043,
          89.99857142857138,
          65.00000039285717
         ],
         "y0": " ",
         "yaxis": "y"
        },
        {
         "marker": {
          "color": [
           9,
           55.00202380952388,
           29.000000857142865,
           45.0000472508591,
           38.99378881987578,
           30.00000000000001,
           39.98988666666681,
           32.99999999999995,
           44.99999833333344,
           44.00277777777752,
           47.4999999999994,
           40.2000000000001,
           39.99999960000007,
           39.00011481481487,
           40.00008928571392,
           38.000009615384656,
           49.00023611111112,
           49.98712480252771,
           64.99999952380945,
           39.99000833333317,
           25.00000015555553,
           49.99999999999996,
           28.99999993015866,
           44.000750000000025,
           70.98798342732337,
           22.999999999999865,
           74.99999887755116,
           49.000049342105214,
           75.00131263126318,
           69.00110294117647,
           25.000081874377457,
           46.499999999999886,
           79.99847826086958,
           26.00000000000001,
           38.00000000000056,
           50.00013333333334,
           41.999998921568725,
           45.000589285713936,
           50.000437499999926,
           38.998511904762005,
           39.00004722222222,
           19.00000000000015,
           50.00013333333334,
           49.99978571428608,
           30.00004523809524,
           38.99996031746032,
           77.99968888888887,
           8.999999991111192,
           59.99951111111109,
           15.000000000000092,
           35.00002380952381,
           51.99999996666667,
           35.000002083333285,
           75.00068131868136,
           69.99998768472906,
           34.99998518518518,
           49.00003333333333,
           33.00012558869683,
           9.000000000000089,
           78.99884259259261,
           29.99995833333333,
           48.99994642857151,
           17.000000000000036,
           74.00037037037043,
           58.999642857143,
           38.49997878787868,
           89.99857142857138,
           24.000000269841088,
           65.00000039285717,
           30.00000000000001
          ],
          "colorscale": [
           [
            0,
            "#440154"
           ],
           [
            0.1111111111111111,
            "#482878"
           ],
           [
            0.2222222222222222,
            "#3e4989"
           ],
           [
            0.3333333333333333,
            "#31688e"
           ],
           [
            0.4444444444444444,
            "#26828e"
           ],
           [
            0.5555555555555556,
            "#1f9e89"
           ],
           [
            0.6666666666666666,
            "#35b779"
           ],
           [
            0.7777777777777778,
            "#6ece58"
           ],
           [
            0.8888888888888888,
            "#b5de2b"
           ],
           [
            1,
            "#fde725"
           ]
          ],
          "opacity": 0.7
         },
         "mode": "markers",
         "text": [
          "Art Blocks",
          "PudgyPresent",
          "Cool Cats",
          "Cryptoadz",
          "Valhalla",
          "Moonbirds",
          "Land",
          "BEANZ Official",
          "Otherdeed for Otherside",
          "Checks - VV Edition",
          "RENGA",
          "The Potatoz",
          "0N1 Force",
          "CryptoDickbutts S3",
          "NFTfi Locked Bundle",
          "CloneX",
          "HV-MTL",
          "LilPudgys",
          "10KTF Gucci Grail",
          "CyberKongz",
          "Ethereum Name Service (ENS)",
          "Creepz by OVERLORD",
          "Milady",
          "Otherside Vessels",
          "Sandbox's LANDs",
          "MutantApeYachtClub",
          "Opepen Edition",
          "Art Blocks x Pace",
          "KILLABITS",
          "Nina's Super Cool World",
          "The Captainz",
          "Otherdeed Expanded",
          null,
          "mfer",
          "Meebits",
          "Murakami.Flowers Official",
          "CyberKongz VX",
          "Wolf Game",
          "Chimpers",
          "CyberBrokers",
          "Doodles",
          "Friendship Bracelets by Alexis André",
          "OnChainMonkey",
          "NFTfi Locked Bundle",
          "VeeFriends",
          "Art Blocks Curated",
          "Goblinverse Island",
          "Wrapped Cryptopunks",
          "rektguy",
          "Bored Ape Yacht Club",
          "PudgyPenguins",
          "HUXLEY Robots",
          "Async Blueprints",
          "Elemental by Fang Lijun",
          "KILLABEARS",
          "FLUF",
          "MAX PAIN AND FRENS BY XCOPY",
          "DigiDaigaku Genesis",
          "Autoglyphs",
          "Nakamigos",
          "Otherside Koda",
          "World Of Women",
          "Azuki",
          "World of Women Galaxy",
          "Cold Blooded Creepz",
          "Bored Ape Kennel Club",
          "Ethlizards",
          "Terraforms",
          "Sewer Pass",
          "Art Blocks"
         ],
         "type": "scatter",
         "x": [
          null,
          4,
          2,
          4,
          3,
          2,
          3,
          2,
          4,
          4,
          4,
          4,
          3,
          3,
          4,
          3,
          4,
          4,
          5,
          3,
          2,
          4,
          2,
          4,
          5,
          2,
          5,
          4,
          5,
          5,
          2,
          4,
          5,
          2,
          3,
          4,
          4,
          4,
          4,
          3,
          3,
          1,
          4,
          4,
          2,
          3,
          5,
          null,
          4,
          1,
          3,
          4,
          3,
          5,
          5,
          3,
          4,
          3,
          null,
          5,
          2,
          4,
          1,
          5,
          4,
          3,
          5,
          2,
          5,
          2
         ],
         "y": [
          9,
          55.00202380952388,
          29.000000857142865,
          45.0000472508591,
          38.99378881987578,
          30.00000000000001,
          39.98988666666681,
          32.99999999999995,
          44.99999833333344,
          44.00277777777752,
          47.4999999999994,
          40.2000000000001,
          39.99999960000007,
          39.00011481481487,
          40.00008928571392,
          38.000009615384656,
          49.00023611111112,
          49.98712480252771,
          64.99999952380945,
          39.99000833333317,
          25.00000015555553,
          49.99999999999996,
          28.99999993015866,
          44.000750000000025,
          70.98798342732337,
          22.999999999999865,
          74.99999887755116,
          49.000049342105214,
          75.00131263126318,
          69.00110294117647,
          25.000081874377457,
          46.499999999999886,
          79.99847826086958,
          26.00000000000001,
          38.00000000000056,
          50.00013333333334,
          41.999998921568725,
          45.000589285713936,
          50.000437499999926,
          38.998511904762005,
          39.00004722222222,
          19.00000000000015,
          50.00013333333334,
          49.99978571428608,
          30.00004523809524,
          38.99996031746032,
          77.99968888888887,
          8.999999991111192,
          59.99951111111109,
          15.000000000000092,
          35.00002380952381,
          51.99999996666667,
          35.000002083333285,
          75.00068131868136,
          69.99998768472906,
          34.99998518518518,
          49.00003333333333,
          33.00012558869683,
          9.000000000000089,
          78.99884259259261,
          29.99995833333333,
          48.99994642857151,
          17.000000000000036,
          74.00037037037043,
          58.999642857143,
          38.49997878787868,
          89.99857142857138,
          24.000000269841088,
          65.00000039285717,
          30.00000000000001
         ]
        }
       ],
       "layout": {
        "boxmode": "overlay",
        "height": 850,
        "legend": {
         "title": {
          "text": "Cluster Number"
         },
         "tracegroupgap": 0
        },
        "margin": {
         "t": 60
        },
        "paper_bgcolor": "white",
        "template": {
         "data": {
          "bar": [
           {
            "error_x": {
             "color": "#2a3f5f"
            },
            "error_y": {
             "color": "#2a3f5f"
            },
            "marker": {
             "line": {
              "color": "#E5ECF6",
              "width": 0.5
             },
             "pattern": {
              "fillmode": "overlay",
              "size": 10,
              "solidity": 0.2
             }
            },
            "type": "bar"
           }
          ],
          "barpolar": [
           {
            "marker": {
             "line": {
              "color": "#E5ECF6",
              "width": 0.5
             },
             "pattern": {
              "fillmode": "overlay",
              "size": 10,
              "solidity": 0.2
             }
            },
            "type": "barpolar"
           }
          ],
          "carpet": [
           {
            "aaxis": {
             "endlinecolor": "#2a3f5f",
             "gridcolor": "white",
             "linecolor": "white",
             "minorgridcolor": "white",
             "startlinecolor": "#2a3f5f"
            },
            "baxis": {
             "endlinecolor": "#2a3f5f",
             "gridcolor": "white",
             "linecolor": "white",
             "minorgridcolor": "white",
             "startlinecolor": "#2a3f5f"
            },
            "type": "carpet"
           }
          ],
          "choropleth": [
           {
            "colorbar": {
             "outlinewidth": 0,
             "ticks": ""
            },
            "type": "choropleth"
           }
          ],
          "contour": [
           {
            "colorbar": {
             "outlinewidth": 0,
             "ticks": ""
            },
            "colorscale": [
             [
              0,
              "#0d0887"
             ],
             [
              0.1111111111111111,
              "#46039f"
             ],
             [
              0.2222222222222222,
              "#7201a8"
             ],
             [
              0.3333333333333333,
              "#9c179e"
             ],
             [
              0.4444444444444444,
              "#bd3786"
             ],
             [
              0.5555555555555556,
              "#d8576b"
             ],
             [
              0.6666666666666666,
              "#ed7953"
             ],
             [
              0.7777777777777778,
              "#fb9f3a"
             ],
             [
              0.8888888888888888,
              "#fdca26"
             ],
             [
              1,
              "#f0f921"
             ]
            ],
            "type": "contour"
           }
          ],
          "contourcarpet": [
           {
            "colorbar": {
             "outlinewidth": 0,
             "ticks": ""
            },
            "type": "contourcarpet"
           }
          ],
          "heatmap": [
           {
            "colorbar": {
             "outlinewidth": 0,
             "ticks": ""
            },
            "colorscale": [
             [
              0,
              "#0d0887"
             ],
             [
              0.1111111111111111,
              "#46039f"
             ],
             [
              0.2222222222222222,
              "#7201a8"
             ],
             [
              0.3333333333333333,
              "#9c179e"
             ],
             [
              0.4444444444444444,
              "#bd3786"
             ],
             [
              0.5555555555555556,
              "#d8576b"
             ],
             [
              0.6666666666666666,
              "#ed7953"
             ],
             [
              0.7777777777777778,
              "#fb9f3a"
             ],
             [
              0.8888888888888888,
              "#fdca26"
             ],
             [
              1,
              "#f0f921"
             ]
            ],
            "type": "heatmap"
           }
          ],
          "heatmapgl": [
           {
            "colorbar": {
             "outlinewidth": 0,
             "ticks": ""
            },
            "colorscale": [
             [
              0,
              "#0d0887"
             ],
             [
              0.1111111111111111,
              "#46039f"
             ],
             [
              0.2222222222222222,
              "#7201a8"
             ],
             [
              0.3333333333333333,
              "#9c179e"
             ],
             [
              0.4444444444444444,
              "#bd3786"
             ],
             [
              0.5555555555555556,
              "#d8576b"
             ],
             [
              0.6666666666666666,
              "#ed7953"
             ],
             [
              0.7777777777777778,
              "#fb9f3a"
             ],
             [
              0.8888888888888888,
              "#fdca26"
             ],
             [
              1,
              "#f0f921"
             ]
            ],
            "type": "heatmapgl"
           }
          ],
          "histogram": [
           {
            "marker": {
             "pattern": {
              "fillmode": "overlay",
              "size": 10,
              "solidity": 0.2
             }
            },
            "type": "histogram"
           }
          ],
          "histogram2d": [
           {
            "colorbar": {
             "outlinewidth": 0,
             "ticks": ""
            },
            "colorscale": [
             [
              0,
              "#0d0887"
             ],
             [
              0.1111111111111111,
              "#46039f"
             ],
             [
              0.2222222222222222,
              "#7201a8"
             ],
             [
              0.3333333333333333,
              "#9c179e"
             ],
             [
              0.4444444444444444,
              "#bd3786"
             ],
             [
              0.5555555555555556,
              "#d8576b"
             ],
             [
              0.6666666666666666,
              "#ed7953"
             ],
             [
              0.7777777777777778,
              "#fb9f3a"
             ],
             [
              0.8888888888888888,
              "#fdca26"
             ],
             [
              1,
              "#f0f921"
             ]
            ],
            "type": "histogram2d"
           }
          ],
          "histogram2dcontour": [
           {
            "colorbar": {
             "outlinewidth": 0,
             "ticks": ""
            },
            "colorscale": [
             [
              0,
              "#0d0887"
             ],
             [
              0.1111111111111111,
              "#46039f"
             ],
             [
              0.2222222222222222,
              "#7201a8"
             ],
             [
              0.3333333333333333,
              "#9c179e"
             ],
             [
              0.4444444444444444,
              "#bd3786"
             ],
             [
              0.5555555555555556,
              "#d8576b"
             ],
             [
              0.6666666666666666,
              "#ed7953"
             ],
             [
              0.7777777777777778,
              "#fb9f3a"
             ],
             [
              0.8888888888888888,
              "#fdca26"
             ],
             [
              1,
              "#f0f921"
             ]
            ],
            "type": "histogram2dcontour"
           }
          ],
          "mesh3d": [
           {
            "colorbar": {
             "outlinewidth": 0,
             "ticks": ""
            },
            "type": "mesh3d"
           }
          ],
          "parcoords": [
           {
            "line": {
             "colorbar": {
              "outlinewidth": 0,
              "ticks": ""
             }
            },
            "type": "parcoords"
           }
          ],
          "pie": [
           {
            "automargin": true,
            "type": "pie"
           }
          ],
          "scatter": [
           {
            "fillpattern": {
             "fillmode": "overlay",
             "size": 10,
             "solidity": 0.2
            },
            "type": "scatter"
           }
          ],
          "scatter3d": [
           {
            "line": {
             "colorbar": {
              "outlinewidth": 0,
              "ticks": ""
             }
            },
            "marker": {
             "colorbar": {
              "outlinewidth": 0,
              "ticks": ""
             }
            },
            "type": "scatter3d"
           }
          ],
          "scattercarpet": [
           {
            "marker": {
             "colorbar": {
              "outlinewidth": 0,
              "ticks": ""
             }
            },
            "type": "scattercarpet"
           }
          ],
          "scattergeo": [
           {
            "marker": {
             "colorbar": {
              "outlinewidth": 0,
              "ticks": ""
             }
            },
            "type": "scattergeo"
           }
          ],
          "scattergl": [
           {
            "marker": {
             "colorbar": {
              "outlinewidth": 0,
              "ticks": ""
             }
            },
            "type": "scattergl"
           }
          ],
          "scattermapbox": [
           {
            "marker": {
             "colorbar": {
              "outlinewidth": 0,
              "ticks": ""
             }
            },
            "type": "scattermapbox"
           }
          ],
          "scatterpolar": [
           {
            "marker": {
             "colorbar": {
              "outlinewidth": 0,
              "ticks": ""
             }
            },
            "type": "scatterpolar"
           }
          ],
          "scatterpolargl": [
           {
            "marker": {
             "colorbar": {
              "outlinewidth": 0,
              "ticks": ""
             }
            },
            "type": "scatterpolargl"
           }
          ],
          "scatterternary": [
           {
            "marker": {
             "colorbar": {
              "outlinewidth": 0,
              "ticks": ""
             }
            },
            "type": "scatterternary"
           }
          ],
          "surface": [
           {
            "colorbar": {
             "outlinewidth": 0,
             "ticks": ""
            },
            "colorscale": [
             [
              0,
              "#0d0887"
             ],
             [
              0.1111111111111111,
              "#46039f"
             ],
             [
              0.2222222222222222,
              "#7201a8"
             ],
             [
              0.3333333333333333,
              "#9c179e"
             ],
             [
              0.4444444444444444,
              "#bd3786"
             ],
             [
              0.5555555555555556,
              "#d8576b"
             ],
             [
              0.6666666666666666,
              "#ed7953"
             ],
             [
              0.7777777777777778,
              "#fb9f3a"
             ],
             [
              0.8888888888888888,
              "#fdca26"
             ],
             [
              1,
              "#f0f921"
             ]
            ],
            "type": "surface"
           }
          ],
          "table": [
           {
            "cells": {
             "fill": {
              "color": "#EBF0F8"
             },
             "line": {
              "color": "white"
             }
            },
            "header": {
             "fill": {
              "color": "#C8D4E3"
             },
             "line": {
              "color": "white"
             }
            },
            "type": "table"
           }
          ]
         },
         "layout": {
          "annotationdefaults": {
           "arrowcolor": "#2a3f5f",
           "arrowhead": 0,
           "arrowwidth": 1
          },
          "autotypenumbers": "strict",
          "coloraxis": {
           "colorbar": {
            "outlinewidth": 0,
            "ticks": ""
           }
          },
          "colorscale": {
           "diverging": [
            [
             0,
             "#8e0152"
            ],
            [
             0.1,
             "#c51b7d"
            ],
            [
             0.2,
             "#de77ae"
            ],
            [
             0.3,
             "#f1b6da"
            ],
            [
             0.4,
             "#fde0ef"
            ],
            [
             0.5,
             "#f7f7f7"
            ],
            [
             0.6,
             "#e6f5d0"
            ],
            [
             0.7,
             "#b8e186"
            ],
            [
             0.8,
             "#7fbc41"
            ],
            [
             0.9,
             "#4d9221"
            ],
            [
             1,
             "#276419"
            ]
           ],
           "sequential": [
            [
             0,
             "#0d0887"
            ],
            [
             0.1111111111111111,
             "#46039f"
            ],
            [
             0.2222222222222222,
             "#7201a8"
            ],
            [
             0.3333333333333333,
             "#9c179e"
            ],
            [
             0.4444444444444444,
             "#bd3786"
            ],
            [
             0.5555555555555556,
             "#d8576b"
            ],
            [
             0.6666666666666666,
             "#ed7953"
            ],
            [
             0.7777777777777778,
             "#fb9f3a"
            ],
            [
             0.8888888888888888,
             "#fdca26"
            ],
            [
             1,
             "#f0f921"
            ]
           ],
           "sequentialminus": [
            [
             0,
             "#0d0887"
            ],
            [
             0.1111111111111111,
             "#46039f"
            ],
            [
             0.2222222222222222,
             "#7201a8"
            ],
            [
             0.3333333333333333,
             "#9c179e"
            ],
            [
             0.4444444444444444,
             "#bd3786"
            ],
            [
             0.5555555555555556,
             "#d8576b"
            ],
            [
             0.6666666666666666,
             "#ed7953"
            ],
            [
             0.7777777777777778,
             "#fb9f3a"
            ],
            [
             0.8888888888888888,
             "#fdca26"
            ],
            [
             1,
             "#f0f921"
            ]
           ]
          },
          "colorway": [
           "#636efa",
           "#EF553B",
           "#00cc96",
           "#ab63fa",
           "#FFA15A",
           "#19d3f3",
           "#FF6692",
           "#B6E880",
           "#FF97FF",
           "#FECB52"
          ],
          "font": {
           "color": "#2a3f5f"
          },
          "geo": {
           "bgcolor": "white",
           "lakecolor": "white",
           "landcolor": "#E5ECF6",
           "showlakes": true,
           "showland": true,
           "subunitcolor": "white"
          },
          "hoverlabel": {
           "align": "left"
          },
          "hovermode": "closest",
          "mapbox": {
           "style": "light"
          },
          "paper_bgcolor": "white",
          "plot_bgcolor": "#E5ECF6",
          "polar": {
           "angularaxis": {
            "gridcolor": "white",
            "linecolor": "white",
            "ticks": ""
           },
           "bgcolor": "#E5ECF6",
           "radialaxis": {
            "gridcolor": "white",
            "linecolor": "white",
            "ticks": ""
           }
          },
          "scene": {
           "xaxis": {
            "backgroundcolor": "#E5ECF6",
            "gridcolor": "white",
            "gridwidth": 2,
            "linecolor": "white",
            "showbackground": true,
            "ticks": "",
            "zerolinecolor": "white"
           },
           "yaxis": {
            "backgroundcolor": "#E5ECF6",
            "gridcolor": "white",
            "gridwidth": 2,
            "linecolor": "white",
            "showbackground": true,
            "ticks": "",
            "zerolinecolor": "white"
           },
           "zaxis": {
            "backgroundcolor": "#E5ECF6",
            "gridcolor": "white",
            "gridwidth": 2,
            "linecolor": "white",
            "showbackground": true,
            "ticks": "",
            "zerolinecolor": "white"
           }
          },
          "shapedefaults": {
           "line": {
            "color": "#2a3f5f"
           }
          },
          "ternary": {
           "aaxis": {
            "gridcolor": "white",
            "linecolor": "white",
            "ticks": ""
           },
           "baxis": {
            "gridcolor": "white",
            "linecolor": "white",
            "ticks": ""
           },
           "bgcolor": "#E5ECF6",
           "caxis": {
            "gridcolor": "white",
            "linecolor": "white",
            "ticks": ""
           }
          },
          "title": {
           "x": 0.05
          },
          "xaxis": {
           "automargin": true,
           "gridcolor": "white",
           "linecolor": "white",
           "ticks": "",
           "title": {
            "standoff": 15
           },
           "zerolinecolor": "white",
           "zerolinewidth": 2
          },
          "yaxis": {
           "automargin": true,
           "gridcolor": "white",
           "linecolor": "white",
           "ticks": "",
           "title": {
            "standoff": 15
           },
           "zerolinecolor": "white",
           "zerolinewidth": 2
          }
         }
        },
        "title": {
         "text": "Clustering of Collections based on Mean APR"
        },
        "width": 1300,
        "xaxis": {
         "anchor": "y",
         "categoryarray": [
          1,
          2,
          3,
          4,
          5,
          null
         ],
         "categoryorder": "array",
         "domain": [
          0,
          1
         ],
         "title": {
          "text": "Cluster Number"
         }
        },
        "yaxis": {
         "anchor": "x",
         "domain": [
          0,
          1
         ],
         "title": {
          "text": "Mean APR"
         }
        }
       }
      }
     },
     "metadata": {},
     "output_type": "display_data"
    },
    {
     "data": {
      "application/vnd.plotly.v1+json": {
       "config": {
        "plotlyServerURL": "https://plot.ly"
       },
       "data": [
        {
         "customdata": [
          [
           "0xbc4ca0eda7647a8ab7c2061c2e118a18a936f13d"
          ],
          [
           "0xed5af388653567af2f388e6224dc7c4b3241c544"
          ],
          [
           "0x942bc2d3e7a589fe5bd4a5c6ef9727dfd82f5c8a"
          ]
         ],
         "hovertemplate": "cluster=1<br>median=%{x}<br>collection_name=%{y}<br>borrow_volume=%{marker.size}<br>address=%{customdata[0]}<extra></extra>",
         "legendgroup": "1",
         "marker": {
          "color": "#636efa",
          "size": [
           5385201.636549897,
           2345021.0009652493,
           313112.29081151
          ],
          "sizemode": "area",
          "sizeref": 13463.004091374742,
          "symbol": "circle"
         },
         "mode": "markers",
         "name": "1",
         "orientation": "h",
         "showlegend": true,
         "type": "scatter",
         "x": [
          15.000000000000092,
          17.000000000000036,
          19.00000000000015
         ],
         "xaxis": "x",
         "y": [
          "Bored Ape Yacht Club",
          "Azuki",
          "Friendship Bracelets by Alexis André"
         ],
         "yaxis": "y"
        },
        {
         "customdata": [
          [
           "0x60e4d786628fea6478f785a6d7e704777c86a7c6"
          ],
          [
           "0x4e1f41613c9084fdb9e34e11fae9412427480e56"
          ],
          [
           "0x57f1887a8bf19b14fc0df6fd9b2acc9af147ea85"
          ],
          [
           "0x769272677fab02575e84945f03eca517acc544cc"
          ],
          [
           "0x79fcdef22feed20eddacbb2587640e45491b757f"
          ],
          [
           "0x5af0d9827e0c53e4799bb226655a1de152a425a5"
          ],
          [
           "0x1a92f7381b9f03921564a437210bb9396471050c"
          ],
          [
           "0xe012baf811cf9c05c408e879c399960d1f305903"
          ],
          [
           "0x99a9b7c1116f9ceeb1652de04d5969cce509b069"
          ],
          [
           "0x23581767a106ae21c074b2276d25e5c3e136a68b"
          ],
          [
           "0xa3aee8bce55beea1951ef834b99f3ac60d1abeeb"
          ],
          [
           "0x306b1ea3ecdf94ab739f1910bbda052ed4a9f949"
          ]
         ],
         "hovertemplate": "cluster=2<br>median=%{x}<br>collection_name=%{y}<br>borrow_volume=%{marker.size}<br>address=%{customdata[0]}<extra></extra>",
         "legendgroup": "2",
         "marker": {
          "color": "#EF553B",
          "size": [
           3017176.470605762,
           108922.5302056938,
           36764.6869911028,
           1084539.0659853702,
           44932.23672000192,
           78295.102460003,
           33709.1768110818,
           356943.0153000246,
           51523.62776,
           399615.26825,
           155660.171654045,
           239392.7590378993
          ],
          "sizemode": "area",
          "sizeref": 13463.004091374742,
          "symbol": "circle"
         },
         "mode": "markers",
         "name": "2",
         "orientation": "h",
         "showlegend": true,
         "type": "scatter",
         "x": [
          22.999999999999865,
          24.000000269841088,
          25.00000015555553,
          25.000081874377457,
          26.00000000000001,
          28.99999993015866,
          29.000000857142865,
          29.99995833333333,
          30.00000000000001,
          30.00000000000001,
          30.00004523809524,
          32.99999999999995
         ],
         "xaxis": "x",
         "y": [
          "MutantApeYachtClub",
          "Terraforms",
          "Ethereum Name Service (ENS)",
          "The Captainz",
          "mfer",
          "Milady",
          "Cool Cats",
          "Otherside Koda",
          "Art Blocks",
          "Moonbirds",
          "VeeFriends",
          "BEANZ Official"
         ],
         "yaxis": "y"
        },
        {
         "customdata": [
          [
           "0xd1258db6ac08eb0e625b75b371c023da478e94a9"
          ],
          [
           "0xccc441ac31f02cd96c153db6fd5fe0a2f4e6a68d"
          ],
          [
           "0xc143bbfcdbdbed6d454803804752a064a622c1f3"
          ],
          [
           "0xbd3531da5cf5857e7cfaa92426877b022e612cf8"
          ],
          [
           "0x7bd29408f11d2bfc23c34f18275bbf23bb716bc7"
          ],
          [
           "0x49cf6f5d44e70224e2e23fdcdd2c053f30ada28b"
          ],
          [
           "0xba30e5f9bb24caa003e9f2f0497ad287fdf95623"
          ],
          [
           "0x231d3559aa848bf10366fb9868590f01d34bf240"
          ],
          [
           "0x892848074ddea461a15f337250da3ce55580ca85"
          ],
          [
           "0xa7d8d9ef8d8ce8992df33d8b8cf4aebabd5bd270"
          ],
          [
           "0x8a90cab2b38dba80c64b7734e58ee1db38b8992e"
          ],
          [
           "0x42069abfe407c60cf4ae4112bedead391dba1cdb"
          ],
          [
           "0x2c88aa0956bc9813505d73575f653f69ada60923"
          ],
          [
           "0x57a204aa1042f6e66dd7730813f4024114d74f37"
          ],
          [
           "0x3bf2922f4520a8ba0c2efc3d2a1539678dad5e9d"
          ]
         ],
         "hovertemplate": "cluster=3<br>median=%{x}<br>collection_name=%{y}<br>borrow_volume=%{marker.size}<br>address=%{customdata[0]}<extra></extra>",
         "legendgroup": "3",
         "marker": {
          "color": "#00cc96",
          "size": [
           548829.695023021,
           171641.71267651042,
           453773.67860003066,
           1598249.8994342398,
           457812.9824962221,
           504433.3540590759,
           669697.9721838759,
           29141.02505890253,
           21358.901519029994,
           2500071.953559003,
           775334.0274588761,
           433197.1313600044,
           400295.6133000039,
           189616.8201410335,
           16735.855419773998
          ],
          "sizemode": "area",
          "sizeref": 13463.004091374742,
          "symbol": "circle"
         },
         "mode": "markers",
         "name": "3",
         "orientation": "h",
         "showlegend": true,
         "type": "scatter",
         "x": [
          33.00012558869683,
          34.99998518518518,
          35.000002083333285,
          35.00002380952381,
          38.00000000000056,
          38.000009615384656,
          38.49997878787868,
          38.99378881987578,
          38.998511904762005,
          38.99996031746032,
          39.00004722222222,
          39.00011481481487,
          39.98988666666681,
          39.99000833333317,
          39.99999960000007
         ],
         "xaxis": "x",
         "y": [
          "DigiDaigaku Genesis",
          "FLUF",
          "Async Blueprints",
          "PudgyPenguins",
          "Meebits",
          "CloneX",
          "Bored Ape Kennel Club",
          "Valhalla",
          "CyberBrokers",
          "Art Blocks Curated",
          "Doodles",
          "CryptoDickbutts S3",
          "Land",
          "CyberKongz",
          "0N1 Force"
         ],
         "yaxis": "y"
        },
        {
         "customdata": [
          [
           "0x46c9cfb32627b74f91e0b5ad575c247aec7e7847"
          ],
          [
           "0x39ee2c7b3cb80254225884ca001f57118c8f21b6"
          ],
          [
           "0x7ea3cca10668b8346aec0bf1844a49e995527c8b"
          ],
          [
           "0x5b1085136a811e55b2bb2ca1ea456ba82126a376"
          ],
          [
           "0x34eebee6942d8def3c125458d1a86e0a897fd6f9"
          ],
          [
           "0x34d85c9cdeb23fa97cb08333b511ac86e1c4e258"
          ],
          [
           "0x1cb1a5e65610aeff2551a50f76a87a7d3fb649c6"
          ],
          [
           "0x7f36182dee28c45de6072a34d29855bae76dbe2f"
          ],
          [
           "0x790b2cf29ed4f310bf7641f013c65d4560d28371"
          ],
          [
           "0x394e3d3044fc89fcdd966d3cb35ac0b32b0cda91"
          ],
          [
           "0xe785e82358879f061bc3dcac6f0444462d4b5330"
          ],
          [
           "0xd1169e5349d1cb9941f3dcba135c8a4b9eacfdde"
          ],
          [
           "0x64780ce53f6e966e18a22af13a2f97369580ec11"
          ],
          [
           "0x4b15a9c28034dc83db40cd810001427d3bd7163d"
          ],
          [
           "0x524cab2ec69124574082676e6f654a18df49a048"
          ],
          [
           "0x9a129032f01eb4ddd764c1777c81b771c34a2fbe"
          ],
          [
           "0x5946aeaab44e65eb370ffaa6a7ef2218cff9b47d"
          ],
          [
           "0x960b7a6bcd451c9968473f7bbfd9be826efd549a"
          ],
          [
           "0x7d8820fa92eb1584636f4f5b8515b5476b75171a"
          ],
          [
           "0x80336ad7a747236ef41f47ed2c7641828a480baa"
          ],
          [
           "0xbeb1d3357cd525947b16a9f7a2b3d50b50b977bd"
          ],
          [
           "0x062e691c2054de82f28008a8ccc6d7a1c8ce060d"
          ],
          [
           "0xfe8c6d19365453d26af321d0e8c910428c23873f"
          ],
          [
           "0xb852c6b5892256c264cc2c888ea462189154d8d7"
          ]
         ],
         "hovertemplate": "cluster=4<br>median=%{x}<br>collection_name=%{y}<br>borrow_volume=%{marker.size}<br>address=%{customdata[0]}<extra></extra>",
         "legendgroup": "4",
         "marker": {
          "color": "#ab63fa",
          "size": [
           444710.9330002992,
           357009.46105323895,
           31206.216500000803,
           14097.831140000004,
           199307.95292668996,
           1605696.5790024053,
           67486.94400000501,
           263458.81,
           122400.33738003705,
           173093.2698291712,
           191576.66254404729,
           36693.241550000246,
           69078.50366777122,
           286074.3770786344,
           60662.97816754763,
           1082608.2414850427,
           369366.0292282028,
           167232.15180000148,
           22934.29514737172,
           98901.61604000002,
           18008.637500006305,
           19114.9775,
           97520.45229357875,
           1166737.4728723925
          ],
          "sizemode": "area",
          "sizeref": 13463.004091374742,
          "symbol": "circle"
         },
         "mode": "markers",
         "name": "4",
         "orientation": "h",
         "showlegend": true,
         "type": "scatter",
         "x": [
          40.00008928571392,
          40.2000000000001,
          41.999998921568725,
          44.000750000000025,
          44.00277777777752,
          44.99999833333344,
          45.0000472508591,
          45.000589285713936,
          46.499999999999886,
          47.4999999999994,
          48.99994642857151,
          49.00003333333333,
          49.000049342105214,
          49.00023611111112,
          49.98712480252771,
          49.99978571428608,
          49.99999999999996,
          50.00013333333334,
          50.00013333333334,
          50.000437499999926,
          51.99999996666667,
          55.00202380952388,
          58.999642857143,
          59.99951111111109
         ],
         "xaxis": "x",
         "y": [
          "NFTfi Locked Bundle",
          "The Potatoz",
          "CyberKongz VX",
          "Otherside Vessels",
          "Checks - VV Edition",
          "Otherdeed for Otherside",
          "Cryptoadz",
          "Wolf Game",
          "Otherdeed Expanded",
          "RENGA",
          "World Of Women",
          "MAX PAIN AND FRENS BY XCOPY",
          "Art Blocks x Pace",
          "HV-MTL",
          "LilPudgys",
          "NFTfi Locked Bundle",
          "Creepz by OVERLORD",
          "OnChainMonkey",
          "Murakami.Flowers Official",
          "Chimpers",
          "HUXLEY Robots",
          "PudgyPresent",
          "Cold Blooded Creepz",
          "rektguy"
         ],
         "yaxis": "y"
        },
        {
         "customdata": [
          [
           "0x572e33ffa523865791ab1c26b42a86ac244df784"
          ],
          [
           "0x764aeebcf425d56800ef2c84f2578689415a2daa"
          ],
          [
           "0x670d4dd2e6badfbbd372d0d37e06cd2852754a04"
          ],
          [
           "0xc99c679c50033bbc5321eb88752e89a93e9e83c5"
          ],
          [
           "0x5cc5b05a8a13e3fbdb0bb9fccd98d38e50f90c38"
          ],
          [
           "0xf61f24c2d93bf2de187546b14425bf631f28d6dc"
          ],
          [
           "0x6339e5e072086621540d0362c4e3cea0d643e114"
          ],
          [
           "0xc9677cd8e9652f1b1aadd3429769b0ef8d7a0425"
          ],
          [
           "0x64a1c0937728d8d2fa8cd81ef61a9c860b7362db"
          ],
          [
           "0xb268db1c8d033d27d85f9d0efe20082ebcda391d"
          ],
          [
           "0xd774557b647330c91bf44cfeab205095f7e6c367"
          ],
          [
           "0x79986af15539de2db9a5086382daeda917a9cf0c"
          ],
          [
           "0x16de9d750f4ac24226154c40980ef83d4d3fd4ad"
          ]
         ],
         "hovertemplate": "cluster=5<br>median=%{x}<br>collection_name=%{y}<br>borrow_volume=%{marker.size}<br>address=%{customdata[0]}<extra></extra>",
         "legendgroup": "5",
         "marker": {
          "color": "#FFA15A",
          "size": [
           1558.462540012895,
           43288.87145618271,
           11562.698599926343,
           1184540.0880626685,
           120612.21724117755,
           7580.590819159823,
           14514.067376509243,
           17265.116820003284,
           129649.16751919112,
           267593.081811968,
           46011.26058152528,
           13032.577310760958,
           15490.407000000005
          ],
          "sizemode": "area",
          "sizeref": 13463.004091374742,
          "symbol": "circle"
         },
         "mode": "markers",
         "name": "5",
         "orientation": "h",
         "showlegend": true,
         "type": "scatter",
         "x": [
          64.99999952380945,
          65.00000039285717,
          69.00110294117647,
          69.99998768472906,
          70.98798342732337,
          74.00037037037043,
          74.99999887755116,
          75.00068131868136,
          75.00131263126318,
          77.99968888888887,
          78.99884259259261,
          79.99847826086958,
          89.99857142857138
         ],
         "xaxis": "x",
         "y": [
          "10KTF Gucci Grail",
          "Sewer Pass",
          "Nina's Super Cool World",
          "KILLABEARS",
          "Sandbox's LANDs",
          "World of Women Galaxy",
          "Opepen Edition",
          "Elemental by Fang Lijun",
          "KILLABITS",
          "Goblinverse Island",
          "Nakamigos",
          null,
          "Ethlizards"
         ],
         "yaxis": "y"
        }
       ],
       "layout": {
        "height": 600,
        "legend": {
         "itemsizing": "constant",
         "title": {
          "text": "cluster"
         },
         "tracegroupgap": 0
        },
        "margin": {
         "t": 60
        },
        "paper_bgcolor": "white",
        "template": {
         "data": {
          "bar": [
           {
            "error_x": {
             "color": "#2a3f5f"
            },
            "error_y": {
             "color": "#2a3f5f"
            },
            "marker": {
             "line": {
              "color": "#E5ECF6",
              "width": 0.5
             },
             "pattern": {
              "fillmode": "overlay",
              "size": 10,
              "solidity": 0.2
             }
            },
            "type": "bar"
           }
          ],
          "barpolar": [
           {
            "marker": {
             "line": {
              "color": "#E5ECF6",
              "width": 0.5
             },
             "pattern": {
              "fillmode": "overlay",
              "size": 10,
              "solidity": 0.2
             }
            },
            "type": "barpolar"
           }
          ],
          "carpet": [
           {
            "aaxis": {
             "endlinecolor": "#2a3f5f",
             "gridcolor": "white",
             "linecolor": "white",
             "minorgridcolor": "white",
             "startlinecolor": "#2a3f5f"
            },
            "baxis": {
             "endlinecolor": "#2a3f5f",
             "gridcolor": "white",
             "linecolor": "white",
             "minorgridcolor": "white",
             "startlinecolor": "#2a3f5f"
            },
            "type": "carpet"
           }
          ],
          "choropleth": [
           {
            "colorbar": {
             "outlinewidth": 0,
             "ticks": ""
            },
            "type": "choropleth"
           }
          ],
          "contour": [
           {
            "colorbar": {
             "outlinewidth": 0,
             "ticks": ""
            },
            "colorscale": [
             [
              0,
              "#0d0887"
             ],
             [
              0.1111111111111111,
              "#46039f"
             ],
             [
              0.2222222222222222,
              "#7201a8"
             ],
             [
              0.3333333333333333,
              "#9c179e"
             ],
             [
              0.4444444444444444,
              "#bd3786"
             ],
             [
              0.5555555555555556,
              "#d8576b"
             ],
             [
              0.6666666666666666,
              "#ed7953"
             ],
             [
              0.7777777777777778,
              "#fb9f3a"
             ],
             [
              0.8888888888888888,
              "#fdca26"
             ],
             [
              1,
              "#f0f921"
             ]
            ],
            "type": "contour"
           }
          ],
          "contourcarpet": [
           {
            "colorbar": {
             "outlinewidth": 0,
             "ticks": ""
            },
            "type": "contourcarpet"
           }
          ],
          "heatmap": [
           {
            "colorbar": {
             "outlinewidth": 0,
             "ticks": ""
            },
            "colorscale": [
             [
              0,
              "#0d0887"
             ],
             [
              0.1111111111111111,
              "#46039f"
             ],
             [
              0.2222222222222222,
              "#7201a8"
             ],
             [
              0.3333333333333333,
              "#9c179e"
             ],
             [
              0.4444444444444444,
              "#bd3786"
             ],
             [
              0.5555555555555556,
              "#d8576b"
             ],
             [
              0.6666666666666666,
              "#ed7953"
             ],
             [
              0.7777777777777778,
              "#fb9f3a"
             ],
             [
              0.8888888888888888,
              "#fdca26"
             ],
             [
              1,
              "#f0f921"
             ]
            ],
            "type": "heatmap"
           }
          ],
          "heatmapgl": [
           {
            "colorbar": {
             "outlinewidth": 0,
             "ticks": ""
            },
            "colorscale": [
             [
              0,
              "#0d0887"
             ],
             [
              0.1111111111111111,
              "#46039f"
             ],
             [
              0.2222222222222222,
              "#7201a8"
             ],
             [
              0.3333333333333333,
              "#9c179e"
             ],
             [
              0.4444444444444444,
              "#bd3786"
             ],
             [
              0.5555555555555556,
              "#d8576b"
             ],
             [
              0.6666666666666666,
              "#ed7953"
             ],
             [
              0.7777777777777778,
              "#fb9f3a"
             ],
             [
              0.8888888888888888,
              "#fdca26"
             ],
             [
              1,
              "#f0f921"
             ]
            ],
            "type": "heatmapgl"
           }
          ],
          "histogram": [
           {
            "marker": {
             "pattern": {
              "fillmode": "overlay",
              "size": 10,
              "solidity": 0.2
             }
            },
            "type": "histogram"
           }
          ],
          "histogram2d": [
           {
            "colorbar": {
             "outlinewidth": 0,
             "ticks": ""
            },
            "colorscale": [
             [
              0,
              "#0d0887"
             ],
             [
              0.1111111111111111,
              "#46039f"
             ],
             [
              0.2222222222222222,
              "#7201a8"
             ],
             [
              0.3333333333333333,
              "#9c179e"
             ],
             [
              0.4444444444444444,
              "#bd3786"
             ],
             [
              0.5555555555555556,
              "#d8576b"
             ],
             [
              0.6666666666666666,
              "#ed7953"
             ],
             [
              0.7777777777777778,
              "#fb9f3a"
             ],
             [
              0.8888888888888888,
              "#fdca26"
             ],
             [
              1,
              "#f0f921"
             ]
            ],
            "type": "histogram2d"
           }
          ],
          "histogram2dcontour": [
           {
            "colorbar": {
             "outlinewidth": 0,
             "ticks": ""
            },
            "colorscale": [
             [
              0,
              "#0d0887"
             ],
             [
              0.1111111111111111,
              "#46039f"
             ],
             [
              0.2222222222222222,
              "#7201a8"
             ],
             [
              0.3333333333333333,
              "#9c179e"
             ],
             [
              0.4444444444444444,
              "#bd3786"
             ],
             [
              0.5555555555555556,
              "#d8576b"
             ],
             [
              0.6666666666666666,
              "#ed7953"
             ],
             [
              0.7777777777777778,
              "#fb9f3a"
             ],
             [
              0.8888888888888888,
              "#fdca26"
             ],
             [
              1,
              "#f0f921"
             ]
            ],
            "type": "histogram2dcontour"
           }
          ],
          "mesh3d": [
           {
            "colorbar": {
             "outlinewidth": 0,
             "ticks": ""
            },
            "type": "mesh3d"
           }
          ],
          "parcoords": [
           {
            "line": {
             "colorbar": {
              "outlinewidth": 0,
              "ticks": ""
             }
            },
            "type": "parcoords"
           }
          ],
          "pie": [
           {
            "automargin": true,
            "type": "pie"
           }
          ],
          "scatter": [
           {
            "fillpattern": {
             "fillmode": "overlay",
             "size": 10,
             "solidity": 0.2
            },
            "type": "scatter"
           }
          ],
          "scatter3d": [
           {
            "line": {
             "colorbar": {
              "outlinewidth": 0,
              "ticks": ""
             }
            },
            "marker": {
             "colorbar": {
              "outlinewidth": 0,
              "ticks": ""
             }
            },
            "type": "scatter3d"
           }
          ],
          "scattercarpet": [
           {
            "marker": {
             "colorbar": {
              "outlinewidth": 0,
              "ticks": ""
             }
            },
            "type": "scattercarpet"
           }
          ],
          "scattergeo": [
           {
            "marker": {
             "colorbar": {
              "outlinewidth": 0,
              "ticks": ""
             }
            },
            "type": "scattergeo"
           }
          ],
          "scattergl": [
           {
            "marker": {
             "colorbar": {
              "outlinewidth": 0,
              "ticks": ""
             }
            },
            "type": "scattergl"
           }
          ],
          "scattermapbox": [
           {
            "marker": {
             "colorbar": {
              "outlinewidth": 0,
              "ticks": ""
             }
            },
            "type": "scattermapbox"
           }
          ],
          "scatterpolar": [
           {
            "marker": {
             "colorbar": {
              "outlinewidth": 0,
              "ticks": ""
             }
            },
            "type": "scatterpolar"
           }
          ],
          "scatterpolargl": [
           {
            "marker": {
             "colorbar": {
              "outlinewidth": 0,
              "ticks": ""
             }
            },
            "type": "scatterpolargl"
           }
          ],
          "scatterternary": [
           {
            "marker": {
             "colorbar": {
              "outlinewidth": 0,
              "ticks": ""
             }
            },
            "type": "scatterternary"
           }
          ],
          "surface": [
           {
            "colorbar": {
             "outlinewidth": 0,
             "ticks": ""
            },
            "colorscale": [
             [
              0,
              "#0d0887"
             ],
             [
              0.1111111111111111,
              "#46039f"
             ],
             [
              0.2222222222222222,
              "#7201a8"
             ],
             [
              0.3333333333333333,
              "#9c179e"
             ],
             [
              0.4444444444444444,
              "#bd3786"
             ],
             [
              0.5555555555555556,
              "#d8576b"
             ],
             [
              0.6666666666666666,
              "#ed7953"
             ],
             [
              0.7777777777777778,
              "#fb9f3a"
             ],
             [
              0.8888888888888888,
              "#fdca26"
             ],
             [
              1,
              "#f0f921"
             ]
            ],
            "type": "surface"
           }
          ],
          "table": [
           {
            "cells": {
             "fill": {
              "color": "#EBF0F8"
             },
             "line": {
              "color": "white"
             }
            },
            "header": {
             "fill": {
              "color": "#C8D4E3"
             },
             "line": {
              "color": "white"
             }
            },
            "type": "table"
           }
          ]
         },
         "layout": {
          "annotationdefaults": {
           "arrowcolor": "#2a3f5f",
           "arrowhead": 0,
           "arrowwidth": 1
          },
          "autotypenumbers": "strict",
          "coloraxis": {
           "colorbar": {
            "outlinewidth": 0,
            "ticks": ""
           }
          },
          "colorscale": {
           "diverging": [
            [
             0,
             "#8e0152"
            ],
            [
             0.1,
             "#c51b7d"
            ],
            [
             0.2,
             "#de77ae"
            ],
            [
             0.3,
             "#f1b6da"
            ],
            [
             0.4,
             "#fde0ef"
            ],
            [
             0.5,
             "#f7f7f7"
            ],
            [
             0.6,
             "#e6f5d0"
            ],
            [
             0.7,
             "#b8e186"
            ],
            [
             0.8,
             "#7fbc41"
            ],
            [
             0.9,
             "#4d9221"
            ],
            [
             1,
             "#276419"
            ]
           ],
           "sequential": [
            [
             0,
             "#0d0887"
            ],
            [
             0.1111111111111111,
             "#46039f"
            ],
            [
             0.2222222222222222,
             "#7201a8"
            ],
            [
             0.3333333333333333,
             "#9c179e"
            ],
            [
             0.4444444444444444,
             "#bd3786"
            ],
            [
             0.5555555555555556,
             "#d8576b"
            ],
            [
             0.6666666666666666,
             "#ed7953"
            ],
            [
             0.7777777777777778,
             "#fb9f3a"
            ],
            [
             0.8888888888888888,
             "#fdca26"
            ],
            [
             1,
             "#f0f921"
            ]
           ],
           "sequentialminus": [
            [
             0,
             "#0d0887"
            ],
            [
             0.1111111111111111,
             "#46039f"
            ],
            [
             0.2222222222222222,
             "#7201a8"
            ],
            [
             0.3333333333333333,
             "#9c179e"
            ],
            [
             0.4444444444444444,
             "#bd3786"
            ],
            [
             0.5555555555555556,
             "#d8576b"
            ],
            [
             0.6666666666666666,
             "#ed7953"
            ],
            [
             0.7777777777777778,
             "#fb9f3a"
            ],
            [
             0.8888888888888888,
             "#fdca26"
            ],
            [
             1,
             "#f0f921"
            ]
           ]
          },
          "colorway": [
           "#636efa",
           "#EF553B",
           "#00cc96",
           "#ab63fa",
           "#FFA15A",
           "#19d3f3",
           "#FF6692",
           "#B6E880",
           "#FF97FF",
           "#FECB52"
          ],
          "font": {
           "color": "#2a3f5f"
          },
          "geo": {
           "bgcolor": "white",
           "lakecolor": "white",
           "landcolor": "#E5ECF6",
           "showlakes": true,
           "showland": true,
           "subunitcolor": "white"
          },
          "hoverlabel": {
           "align": "left"
          },
          "hovermode": "closest",
          "mapbox": {
           "style": "light"
          },
          "paper_bgcolor": "white",
          "plot_bgcolor": "#E5ECF6",
          "polar": {
           "angularaxis": {
            "gridcolor": "white",
            "linecolor": "white",
            "ticks": ""
           },
           "bgcolor": "#E5ECF6",
           "radialaxis": {
            "gridcolor": "white",
            "linecolor": "white",
            "ticks": ""
           }
          },
          "scene": {
           "xaxis": {
            "backgroundcolor": "#E5ECF6",
            "gridcolor": "white",
            "gridwidth": 2,
            "linecolor": "white",
            "showbackground": true,
            "ticks": "",
            "zerolinecolor": "white"
           },
           "yaxis": {
            "backgroundcolor": "#E5ECF6",
            "gridcolor": "white",
            "gridwidth": 2,
            "linecolor": "white",
            "showbackground": true,
            "ticks": "",
            "zerolinecolor": "white"
           },
           "zaxis": {
            "backgroundcolor": "#E5ECF6",
            "gridcolor": "white",
            "gridwidth": 2,
            "linecolor": "white",
            "showbackground": true,
            "ticks": "",
            "zerolinecolor": "white"
           }
          },
          "shapedefaults": {
           "line": {
            "color": "#2a3f5f"
           }
          },
          "ternary": {
           "aaxis": {
            "gridcolor": "white",
            "linecolor": "white",
            "ticks": ""
           },
           "baxis": {
            "gridcolor": "white",
            "linecolor": "white",
            "ticks": ""
           },
           "bgcolor": "#E5ECF6",
           "caxis": {
            "gridcolor": "white",
            "linecolor": "white",
            "ticks": ""
           }
          },
          "title": {
           "x": 0.05
          },
          "xaxis": {
           "automargin": true,
           "gridcolor": "white",
           "linecolor": "white",
           "ticks": "",
           "title": {
            "standoff": 15
           },
           "zerolinecolor": "white",
           "zerolinewidth": 2
          },
          "yaxis": {
           "automargin": true,
           "gridcolor": "white",
           "linecolor": "white",
           "ticks": "",
           "title": {
            "standoff": 15
           },
           "zerolinecolor": "white",
           "zerolinewidth": 2
          }
         }
        },
        "title": {
         "text": "Clustering of Collections based on Mean APR"
        },
        "width": 1200,
        "xaxis": {
         "anchor": "y",
         "domain": [
          0,
          1
         ],
         "title": {
          "text": "median"
         }
        },
        "yaxis": {
         "anchor": "x",
         "domain": [
          0,
          1
         ],
         "title": {
          "text": "collection_name"
         }
        }
       }
      }
     },
     "metadata": {},
     "output_type": "display_data"
    }
   ],
   "source": [
    "grouping_key='median'\n",
    "\"\"\"\n",
    "grouping_key:\n",
    "Determine the feature used to group collections based on APR. Valid values are: \"mean\"; \"median\"; \"std\" (standard deviation)\n",
    "\"\"\"\n",
    "\n",
    "table = run_manual_clustering(grouping_key=grouping_key,\n",
    "                              bucket_apr_ranges=bucket_apr_ranges,\n",
    "                              autosize=autosize,\n",
    "                              save_table_as_csv=save_table_as_csv\n",
    ")"
   ]
  },
  {
   "cell_type": "code",
   "execution_count": 5,
   "metadata": {},
   "outputs": [
    {
     "data": {
      "text/html": [
       "<div>\n",
       "<style scoped>\n",
       "    .dataframe tbody tr th:only-of-type {\n",
       "        vertical-align: middle;\n",
       "    }\n",
       "\n",
       "    .dataframe tbody tr th {\n",
       "        vertical-align: top;\n",
       "    }\n",
       "\n",
       "    .dataframe thead th {\n",
       "        text-align: right;\n",
       "    }\n",
       "</style>\n",
       "<table border=\"1\" class=\"dataframe\">\n",
       "  <thead>\n",
       "    <tr style=\"text-align: right;\">\n",
       "      <th></th>\n",
       "      <th>collection_name</th>\n",
       "      <th>address</th>\n",
       "      <th>count</th>\n",
       "      <th>borrow_volume</th>\n",
       "      <th>mean</th>\n",
       "      <th>median</th>\n",
       "      <th>std</th>\n",
       "      <th>borrow_volume_per_cluster</th>\n",
       "      <th>loan_count_per_cluster</th>\n",
       "      <th>nb_collection_per_cluster</th>\n",
       "    </tr>\n",
       "    <tr>\n",
       "      <th>cluster</th>\n",
       "      <th></th>\n",
       "      <th></th>\n",
       "      <th></th>\n",
       "      <th></th>\n",
       "      <th></th>\n",
       "      <th></th>\n",
       "      <th></th>\n",
       "      <th></th>\n",
       "      <th></th>\n",
       "      <th></th>\n",
       "    </tr>\n",
       "  </thead>\n",
       "  <tbody>\n",
       "    <tr>\n",
       "      <th>1</th>\n",
       "      <td>Bored Ape Yacht Club</td>\n",
       "      <td>0xbc4ca0eda7647a8ab7c2061c2e118a18a936f13d</td>\n",
       "      <td>80</td>\n",
       "      <td>5,385,201.64</td>\n",
       "      <td>30.33</td>\n",
       "      <td>15.00</td>\n",
       "      <td>49.39</td>\n",
       "      <td>8,043,334.93</td>\n",
       "      <td>983</td>\n",
       "      <td>3</td>\n",
       "    </tr>\n",
       "    <tr>\n",
       "      <th>1</th>\n",
       "      <td>Azuki</td>\n",
       "      <td>0xed5af388653567af2f388e6224dc7c4b3241c544</td>\n",
       "      <td>125</td>\n",
       "      <td>2,345,021.00</td>\n",
       "      <td>17.93</td>\n",
       "      <td>17.00</td>\n",
       "      <td>10.61</td>\n",
       "      <td>8,043,334.93</td>\n",
       "      <td>983</td>\n",
       "      <td>3</td>\n",
       "    </tr>\n",
       "    <tr>\n",
       "      <th>1</th>\n",
       "      <td>Friendship Bracelets by Alexis André</td>\n",
       "      <td>0x942bc2d3e7a589fe5bd4a5c6ef9727dfd82f5c8a</td>\n",
       "      <td>778</td>\n",
       "      <td>313,112.29</td>\n",
       "      <td>38.49</td>\n",
       "      <td>19.00</td>\n",
       "      <td>27.18</td>\n",
       "      <td>8,043,334.93</td>\n",
       "      <td>983</td>\n",
       "      <td>3</td>\n",
       "    </tr>\n",
       "    <tr>\n",
       "      <th>2</th>\n",
       "      <td>MutantApeYachtClub</td>\n",
       "      <td>0x60e4d786628fea6478f785a6d7e704777c86a7c6</td>\n",
       "      <td>186</td>\n",
       "      <td>3,017,176.47</td>\n",
       "      <td>33.94</td>\n",
       "      <td>23.00</td>\n",
       "      <td>38.00</td>\n",
       "      <td>5,607,474.11</td>\n",
       "      <td>820</td>\n",
       "      <td>12</td>\n",
       "    </tr>\n",
       "    <tr>\n",
       "      <th>2</th>\n",
       "      <td>Terraforms</td>\n",
       "      <td>0x4e1f41613c9084fdb9e34e11fae9412427480e56</td>\n",
       "      <td>59</td>\n",
       "      <td>108,922.53</td>\n",
       "      <td>26.42</td>\n",
       "      <td>24.00</td>\n",
       "      <td>10.68</td>\n",
       "      <td>5,607,474.11</td>\n",
       "      <td>820</td>\n",
       "      <td>12</td>\n",
       "    </tr>\n",
       "    <tr>\n",
       "      <th>2</th>\n",
       "      <td>Ethereum Name Service (ENS)</td>\n",
       "      <td>0x57f1887a8bf19b14fc0df6fd9b2acc9af147ea85</td>\n",
       "      <td>57</td>\n",
       "      <td>36,764.69</td>\n",
       "      <td>32.84</td>\n",
       "      <td>25.00</td>\n",
       "      <td>29.27</td>\n",
       "      <td>5,607,474.11</td>\n",
       "      <td>820</td>\n",
       "      <td>12</td>\n",
       "    </tr>\n",
       "    <tr>\n",
       "      <th>2</th>\n",
       "      <td>The Captainz</td>\n",
       "      <td>0x769272677fab02575e84945f03eca517acc544cc</td>\n",
       "      <td>142</td>\n",
       "      <td>1,084,539.07</td>\n",
       "      <td>32.12</td>\n",
       "      <td>25.00</td>\n",
       "      <td>31.00</td>\n",
       "      <td>5,607,474.11</td>\n",
       "      <td>820</td>\n",
       "      <td>12</td>\n",
       "    </tr>\n",
       "    <tr>\n",
       "      <th>2</th>\n",
       "      <td>mfer</td>\n",
       "      <td>0x79fcdef22feed20eddacbb2587640e45491b757f</td>\n",
       "      <td>36</td>\n",
       "      <td>44,932.24</td>\n",
       "      <td>27.85</td>\n",
       "      <td>26.00</td>\n",
       "      <td>16.74</td>\n",
       "      <td>5,607,474.11</td>\n",
       "      <td>820</td>\n",
       "      <td>12</td>\n",
       "    </tr>\n",
       "    <tr>\n",
       "      <th>2</th>\n",
       "      <td>Milady</td>\n",
       "      <td>0x5af0d9827e0c53e4799bb226655a1de152a425a5</td>\n",
       "      <td>29</td>\n",
       "      <td>78,295.10</td>\n",
       "      <td>42.71</td>\n",
       "      <td>29.00</td>\n",
       "      <td>24.05</td>\n",
       "      <td>5,607,474.11</td>\n",
       "      <td>820</td>\n",
       "      <td>12</td>\n",
       "    </tr>\n",
       "    <tr>\n",
       "      <th>2</th>\n",
       "      <td>Cool Cats</td>\n",
       "      <td>0x1a92f7381b9f03921564a437210bb9396471050c</td>\n",
       "      <td>24</td>\n",
       "      <td>33,709.18</td>\n",
       "      <td>32.97</td>\n",
       "      <td>29.00</td>\n",
       "      <td>24.15</td>\n",
       "      <td>5,607,474.11</td>\n",
       "      <td>820</td>\n",
       "      <td>12</td>\n",
       "    </tr>\n",
       "    <tr>\n",
       "      <th>2</th>\n",
       "      <td>Otherside Koda</td>\n",
       "      <td>0xe012baf811cf9c05c408e879c399960d1f305903</td>\n",
       "      <td>34</td>\n",
       "      <td>356,943.02</td>\n",
       "      <td>32.29</td>\n",
       "      <td>30.00</td>\n",
       "      <td>16.05</td>\n",
       "      <td>5,607,474.11</td>\n",
       "      <td>820</td>\n",
       "      <td>12</td>\n",
       "    </tr>\n",
       "    <tr>\n",
       "      <th>2</th>\n",
       "      <td>Art Blocks</td>\n",
       "      <td>0x99a9b7c1116f9ceeb1652de04d5969cce509b069</td>\n",
       "      <td>32</td>\n",
       "      <td>51,523.63</td>\n",
       "      <td>35.48</td>\n",
       "      <td>30.00</td>\n",
       "      <td>20.20</td>\n",
       "      <td>5,607,474.11</td>\n",
       "      <td>820</td>\n",
       "      <td>12</td>\n",
       "    </tr>\n",
       "    <tr>\n",
       "      <th>2</th>\n",
       "      <td>Moonbirds</td>\n",
       "      <td>0x23581767a106ae21c074b2276d25e5c3e136a68b</td>\n",
       "      <td>74</td>\n",
       "      <td>399,615.27</td>\n",
       "      <td>33.98</td>\n",
       "      <td>30.00</td>\n",
       "      <td>13.36</td>\n",
       "      <td>5,607,474.11</td>\n",
       "      <td>820</td>\n",
       "      <td>12</td>\n",
       "    </tr>\n",
       "    <tr>\n",
       "      <th>2</th>\n",
       "      <td>VeeFriends</td>\n",
       "      <td>0xa3aee8bce55beea1951ef834b99f3ac60d1abeeb</td>\n",
       "      <td>40</td>\n",
       "      <td>155,660.17</td>\n",
       "      <td>32.78</td>\n",
       "      <td>30.00</td>\n",
       "      <td>16.49</td>\n",
       "      <td>5,607,474.11</td>\n",
       "      <td>820</td>\n",
       "      <td>12</td>\n",
       "    </tr>\n",
       "    <tr>\n",
       "      <th>2</th>\n",
       "      <td>BEANZ Official</td>\n",
       "      <td>0x306b1ea3ecdf94ab739f1910bbda052ed4a9f949</td>\n",
       "      <td>107</td>\n",
       "      <td>239,392.76</td>\n",
       "      <td>32.86</td>\n",
       "      <td>33.00</td>\n",
       "      <td>21.63</td>\n",
       "      <td>5,607,474.11</td>\n",
       "      <td>820</td>\n",
       "      <td>12</td>\n",
       "    </tr>\n",
       "    <tr>\n",
       "      <th>3</th>\n",
       "      <td>DigiDaigaku Genesis</td>\n",
       "      <td>0xd1258db6ac08eb0e625b75b371c023da478e94a9</td>\n",
       "      <td>87</td>\n",
       "      <td>548,829.70</td>\n",
       "      <td>33.81</td>\n",
       "      <td>33.00</td>\n",
       "      <td>14.64</td>\n",
       "      <td>8,770,190.62</td>\n",
       "      <td>1814</td>\n",
       "      <td>15</td>\n",
       "    </tr>\n",
       "    <tr>\n",
       "      <th>3</th>\n",
       "      <td>FLUF</td>\n",
       "      <td>0xccc441ac31f02cd96c153db6fd5fe0a2f4e6a68d</td>\n",
       "      <td>87</td>\n",
       "      <td>171,641.71</td>\n",
       "      <td>37.13</td>\n",
       "      <td>35.00</td>\n",
       "      <td>20.09</td>\n",
       "      <td>8,770,190.62</td>\n",
       "      <td>1814</td>\n",
       "      <td>15</td>\n",
       "    </tr>\n",
       "    <tr>\n",
       "      <th>3</th>\n",
       "      <td>Async Blueprints</td>\n",
       "      <td>0xc143bbfcdbdbed6d454803804752a064a622c1f3</td>\n",
       "      <td>41</td>\n",
       "      <td>453,773.68</td>\n",
       "      <td>42.15</td>\n",
       "      <td>35.00</td>\n",
       "      <td>18.16</td>\n",
       "      <td>8,770,190.62</td>\n",
       "      <td>1814</td>\n",
       "      <td>15</td>\n",
       "    </tr>\n",
       "    <tr>\n",
       "      <th>3</th>\n",
       "      <td>PudgyPenguins</td>\n",
       "      <td>0xbd3531da5cf5857e7cfaa92426877b022e612cf8</td>\n",
       "      <td>248</td>\n",
       "      <td>1,598,249.90</td>\n",
       "      <td>40.12</td>\n",
       "      <td>35.00</td>\n",
       "      <td>19.37</td>\n",
       "      <td>8,770,190.62</td>\n",
       "      <td>1814</td>\n",
       "      <td>15</td>\n",
       "    </tr>\n",
       "    <tr>\n",
       "      <th>3</th>\n",
       "      <td>Meebits</td>\n",
       "      <td>0x7bd29408f11d2bfc23c34f18275bbf23bb716bc7</td>\n",
       "      <td>129</td>\n",
       "      <td>457,812.98</td>\n",
       "      <td>35.16</td>\n",
       "      <td>38.00</td>\n",
       "      <td>12.96</td>\n",
       "      <td>8,770,190.62</td>\n",
       "      <td>1814</td>\n",
       "      <td>15</td>\n",
       "    </tr>\n",
       "    <tr>\n",
       "      <th>3</th>\n",
       "      <td>CloneX</td>\n",
       "      <td>0x49cf6f5d44e70224e2e23fdcdd2c053f30ada28b</td>\n",
       "      <td>104</td>\n",
       "      <td>504,433.35</td>\n",
       "      <td>42.50</td>\n",
       "      <td>38.00</td>\n",
       "      <td>22.41</td>\n",
       "      <td>8,770,190.62</td>\n",
       "      <td>1814</td>\n",
       "      <td>15</td>\n",
       "    </tr>\n",
       "    <tr>\n",
       "      <th>3</th>\n",
       "      <td>Bored Ape Kennel Club</td>\n",
       "      <td>0xba30e5f9bb24caa003e9f2f0497ad287fdf95623</td>\n",
       "      <td>81</td>\n",
       "      <td>669,697.97</td>\n",
       "      <td>49.76</td>\n",
       "      <td>38.50</td>\n",
       "      <td>31.90</td>\n",
       "      <td>8,770,190.62</td>\n",
       "      <td>1814</td>\n",
       "      <td>15</td>\n",
       "    </tr>\n",
       "    <tr>\n",
       "      <th>3</th>\n",
       "      <td>Valhalla</td>\n",
       "      <td>0x231d3559aa848bf10366fb9868590f01d34bf240</td>\n",
       "      <td>33</td>\n",
       "      <td>29,141.03</td>\n",
       "      <td>40.31</td>\n",
       "      <td>38.99</td>\n",
       "      <td>29.34</td>\n",
       "      <td>8,770,190.62</td>\n",
       "      <td>1814</td>\n",
       "      <td>15</td>\n",
       "    </tr>\n",
       "    <tr>\n",
       "      <th>3</th>\n",
       "      <td>CyberBrokers</td>\n",
       "      <td>0x892848074ddea461a15f337250da3ce55580ca85</td>\n",
       "      <td>40</td>\n",
       "      <td>21,358.90</td>\n",
       "      <td>47.01</td>\n",
       "      <td>39.00</td>\n",
       "      <td>23.74</td>\n",
       "      <td>8,770,190.62</td>\n",
       "      <td>1814</td>\n",
       "      <td>15</td>\n",
       "    </tr>\n",
       "    <tr>\n",
       "      <th>3</th>\n",
       "      <td>Art Blocks Curated</td>\n",
       "      <td>0xa7d8d9ef8d8ce8992df33d8b8cf4aebabd5bd270</td>\n",
       "      <td>521</td>\n",
       "      <td>2,500,071.95</td>\n",
       "      <td>42.71</td>\n",
       "      <td>39.00</td>\n",
       "      <td>23.25</td>\n",
       "      <td>8,770,190.62</td>\n",
       "      <td>1814</td>\n",
       "      <td>15</td>\n",
       "    </tr>\n",
       "    <tr>\n",
       "      <th>3</th>\n",
       "      <td>Doodles</td>\n",
       "      <td>0x8a90cab2b38dba80c64b7734e58ee1db38b8992e</td>\n",
       "      <td>143</td>\n",
       "      <td>775,334.03</td>\n",
       "      <td>47.46</td>\n",
       "      <td>39.00</td>\n",
       "      <td>33.60</td>\n",
       "      <td>8,770,190.62</td>\n",
       "      <td>1814</td>\n",
       "      <td>15</td>\n",
       "    </tr>\n",
       "    <tr>\n",
       "      <th>3</th>\n",
       "      <td>CryptoDickbutts S3</td>\n",
       "      <td>0x42069abfe407c60cf4ae4112bedead391dba1cdb</td>\n",
       "      <td>199</td>\n",
       "      <td>433,197.13</td>\n",
       "      <td>40.35</td>\n",
       "      <td>39.00</td>\n",
       "      <td>11.48</td>\n",
       "      <td>8,770,190.62</td>\n",
       "      <td>1814</td>\n",
       "      <td>15</td>\n",
       "    </tr>\n",
       "    <tr>\n",
       "      <th>3</th>\n",
       "      <td>Land</td>\n",
       "      <td>0x2c88aa0956bc9813505d73575f653f69ada60923</td>\n",
       "      <td>55</td>\n",
       "      <td>400,295.61</td>\n",
       "      <td>41.52</td>\n",
       "      <td>39.99</td>\n",
       "      <td>14.46</td>\n",
       "      <td>8,770,190.62</td>\n",
       "      <td>1814</td>\n",
       "      <td>15</td>\n",
       "    </tr>\n",
       "    <tr>\n",
       "      <th>3</th>\n",
       "      <td>CyberKongz</td>\n",
       "      <td>0x57a204aa1042f6e66dd7730813f4024114d74f37</td>\n",
       "      <td>24</td>\n",
       "      <td>189,616.82</td>\n",
       "      <td>46.53</td>\n",
       "      <td>39.99</td>\n",
       "      <td>19.01</td>\n",
       "      <td>8,770,190.62</td>\n",
       "      <td>1814</td>\n",
       "      <td>15</td>\n",
       "    </tr>\n",
       "    <tr>\n",
       "      <th>3</th>\n",
       "      <td>0N1 Force</td>\n",
       "      <td>0x3bf2922f4520a8ba0c2efc3d2a1539678dad5e9d</td>\n",
       "      <td>22</td>\n",
       "      <td>16,735.86</td>\n",
       "      <td>45.03</td>\n",
       "      <td>40.00</td>\n",
       "      <td>37.46</td>\n",
       "      <td>8,770,190.62</td>\n",
       "      <td>1814</td>\n",
       "      <td>15</td>\n",
       "    </tr>\n",
       "    <tr>\n",
       "      <th>4</th>\n",
       "      <td>NFTfi Locked Bundle</td>\n",
       "      <td>0x46c9cfb32627b74f91e0b5ad575c247aec7e7847</td>\n",
       "      <td>58</td>\n",
       "      <td>444,710.93</td>\n",
       "      <td>42.41</td>\n",
       "      <td>40.00</td>\n",
       "      <td>16.26</td>\n",
       "      <td>6,964,977.97</td>\n",
       "      <td>2910</td>\n",
       "      <td>24</td>\n",
       "    </tr>\n",
       "    <tr>\n",
       "      <th>4</th>\n",
       "      <td>The Potatoz</td>\n",
       "      <td>0x39ee2c7b3cb80254225884ca001f57118c8f21b6</td>\n",
       "      <td>101</td>\n",
       "      <td>357,009.46</td>\n",
       "      <td>41.37</td>\n",
       "      <td>40.20</td>\n",
       "      <td>14.13</td>\n",
       "      <td>6,964,977.97</td>\n",
       "      <td>2910</td>\n",
       "      <td>24</td>\n",
       "    </tr>\n",
       "    <tr>\n",
       "      <th>4</th>\n",
       "      <td>CyberKongz VX</td>\n",
       "      <td>0x7ea3cca10668b8346aec0bf1844a49e995527c8b</td>\n",
       "      <td>82</td>\n",
       "      <td>31,206.22</td>\n",
       "      <td>54.43</td>\n",
       "      <td>42.00</td>\n",
       "      <td>20.52</td>\n",
       "      <td>6,964,977.97</td>\n",
       "      <td>2910</td>\n",
       "      <td>24</td>\n",
       "    </tr>\n",
       "    <tr>\n",
       "      <th>4</th>\n",
       "      <td>Otherside Vessels</td>\n",
       "      <td>0x5b1085136a811e55b2bb2ca1ea456ba82126a376</td>\n",
       "      <td>28</td>\n",
       "      <td>14,097.83</td>\n",
       "      <td>39.83</td>\n",
       "      <td>44.00</td>\n",
       "      <td>22.22</td>\n",
       "      <td>6,964,977.97</td>\n",
       "      <td>2910</td>\n",
       "      <td>24</td>\n",
       "    </tr>\n",
       "    <tr>\n",
       "      <th>4</th>\n",
       "      <td>Checks - VV Edition</td>\n",
       "      <td>0x34eebee6942d8def3c125458d1a86e0a897fd6f9</td>\n",
       "      <td>156</td>\n",
       "      <td>199,307.95</td>\n",
       "      <td>55.49</td>\n",
       "      <td>44.00</td>\n",
       "      <td>27.77</td>\n",
       "      <td>6,964,977.97</td>\n",
       "      <td>2910</td>\n",
       "      <td>24</td>\n",
       "    </tr>\n",
       "    <tr>\n",
       "      <th>4</th>\n",
       "      <td>Otherdeed for Otherside</td>\n",
       "      <td>0x34d85c9cdeb23fa97cb08333b511ac86e1c4e258</td>\n",
       "      <td>306</td>\n",
       "      <td>1,605,696.58</td>\n",
       "      <td>53.05</td>\n",
       "      <td>45.00</td>\n",
       "      <td>29.07</td>\n",
       "      <td>6,964,977.97</td>\n",
       "      <td>2910</td>\n",
       "      <td>24</td>\n",
       "    </tr>\n",
       "    <tr>\n",
       "      <th>4</th>\n",
       "      <td>Cryptoadz</td>\n",
       "      <td>0x1cb1a5e65610aeff2551a50f76a87a7d3fb649c6</td>\n",
       "      <td>48</td>\n",
       "      <td>67,486.94</td>\n",
       "      <td>45.51</td>\n",
       "      <td>45.00</td>\n",
       "      <td>21.28</td>\n",
       "      <td>6,964,977.97</td>\n",
       "      <td>2910</td>\n",
       "      <td>24</td>\n",
       "    </tr>\n",
       "    <tr>\n",
       "      <th>4</th>\n",
       "      <td>Wolf Game</td>\n",
       "      <td>0x7f36182dee28c45de6072a34d29855bae76dbe2f</td>\n",
       "      <td>55</td>\n",
       "      <td>263,458.81</td>\n",
       "      <td>48.82</td>\n",
       "      <td>45.00</td>\n",
       "      <td>19.11</td>\n",
       "      <td>6,964,977.97</td>\n",
       "      <td>2910</td>\n",
       "      <td>24</td>\n",
       "    </tr>\n",
       "    <tr>\n",
       "      <th>4</th>\n",
       "      <td>Otherdeed Expanded</td>\n",
       "      <td>0x790b2cf29ed4f310bf7641f013c65d4560d28371</td>\n",
       "      <td>66</td>\n",
       "      <td>122,400.34</td>\n",
       "      <td>41.64</td>\n",
       "      <td>46.50</td>\n",
       "      <td>15.15</td>\n",
       "      <td>6,964,977.97</td>\n",
       "      <td>2910</td>\n",
       "      <td>24</td>\n",
       "    </tr>\n",
       "    <tr>\n",
       "      <th>4</th>\n",
       "      <td>RENGA</td>\n",
       "      <td>0x394e3d3044fc89fcdd966d3cb35ac0b32b0cda91</td>\n",
       "      <td>125</td>\n",
       "      <td>173,093.27</td>\n",
       "      <td>49.19</td>\n",
       "      <td>47.50</td>\n",
       "      <td>25.07</td>\n",
       "      <td>6,964,977.97</td>\n",
       "      <td>2910</td>\n",
       "      <td>24</td>\n",
       "    </tr>\n",
       "    <tr>\n",
       "      <th>4</th>\n",
       "      <td>World Of Women</td>\n",
       "      <td>0xe785e82358879f061bc3dcac6f0444462d4b5330</td>\n",
       "      <td>104</td>\n",
       "      <td>191,576.66</td>\n",
       "      <td>48.65</td>\n",
       "      <td>49.00</td>\n",
       "      <td>26.94</td>\n",
       "      <td>6,964,977.97</td>\n",
       "      <td>2910</td>\n",
       "      <td>24</td>\n",
       "    </tr>\n",
       "    <tr>\n",
       "      <th>4</th>\n",
       "      <td>MAX PAIN AND FRENS BY XCOPY</td>\n",
       "      <td>0xd1169e5349d1cb9941f3dcba135c8a4b9eacfdde</td>\n",
       "      <td>59</td>\n",
       "      <td>36,693.24</td>\n",
       "      <td>44.04</td>\n",
       "      <td>49.00</td>\n",
       "      <td>28.76</td>\n",
       "      <td>6,964,977.97</td>\n",
       "      <td>2910</td>\n",
       "      <td>24</td>\n",
       "    </tr>\n",
       "    <tr>\n",
       "      <th>4</th>\n",
       "      <td>Art Blocks x Pace</td>\n",
       "      <td>0x64780ce53f6e966e18a22af13a2f97369580ec11</td>\n",
       "      <td>33</td>\n",
       "      <td>69,078.50</td>\n",
       "      <td>51.85</td>\n",
       "      <td>49.00</td>\n",
       "      <td>21.27</td>\n",
       "      <td>6,964,977.97</td>\n",
       "      <td>2910</td>\n",
       "      <td>24</td>\n",
       "    </tr>\n",
       "    <tr>\n",
       "      <th>4</th>\n",
       "      <td>HV-MTL</td>\n",
       "      <td>0x4b15a9c28034dc83db40cd810001427d3bd7163d</td>\n",
       "      <td>89</td>\n",
       "      <td>286,074.38</td>\n",
       "      <td>47.79</td>\n",
       "      <td>49.00</td>\n",
       "      <td>19.31</td>\n",
       "      <td>6,964,977.97</td>\n",
       "      <td>2910</td>\n",
       "      <td>24</td>\n",
       "    </tr>\n",
       "    <tr>\n",
       "      <th>4</th>\n",
       "      <td>LilPudgys</td>\n",
       "      <td>0x524cab2ec69124574082676e6f654a18df49a048</td>\n",
       "      <td>145</td>\n",
       "      <td>60,662.98</td>\n",
       "      <td>48.46</td>\n",
       "      <td>49.99</td>\n",
       "      <td>26.95</td>\n",
       "      <td>6,964,977.97</td>\n",
       "      <td>2910</td>\n",
       "      <td>24</td>\n",
       "    </tr>\n",
       "    <tr>\n",
       "      <th>4</th>\n",
       "      <td>NFTfi Locked Bundle</td>\n",
       "      <td>0x9a129032f01eb4ddd764c1777c81b771c34a2fbe</td>\n",
       "      <td>60</td>\n",
       "      <td>1,082,608.24</td>\n",
       "      <td>51.51</td>\n",
       "      <td>50.00</td>\n",
       "      <td>25.23</td>\n",
       "      <td>6,964,977.97</td>\n",
       "      <td>2910</td>\n",
       "      <td>24</td>\n",
       "    </tr>\n",
       "    <tr>\n",
       "      <th>4</th>\n",
       "      <td>Creepz by OVERLORD</td>\n",
       "      <td>0x5946aeaab44e65eb370ffaa6a7ef2218cff9b47d</td>\n",
       "      <td>219</td>\n",
       "      <td>369,366.03</td>\n",
       "      <td>54.22</td>\n",
       "      <td>50.00</td>\n",
       "      <td>16.96</td>\n",
       "      <td>6,964,977.97</td>\n",
       "      <td>2910</td>\n",
       "      <td>24</td>\n",
       "    </tr>\n",
       "    <tr>\n",
       "      <th>4</th>\n",
       "      <td>OnChainMonkey</td>\n",
       "      <td>0x960b7a6bcd451c9968473f7bbfd9be826efd549a</td>\n",
       "      <td>77</td>\n",
       "      <td>167,232.15</td>\n",
       "      <td>49.80</td>\n",
       "      <td>50.00</td>\n",
       "      <td>19.47</td>\n",
       "      <td>6,964,977.97</td>\n",
       "      <td>2910</td>\n",
       "      <td>24</td>\n",
       "    </tr>\n",
       "    <tr>\n",
       "      <th>4</th>\n",
       "      <td>Murakami.Flowers Official</td>\n",
       "      <td>0x7d8820fa92eb1584636f4f5b8515b5476b75171a</td>\n",
       "      <td>26</td>\n",
       "      <td>22,934.30</td>\n",
       "      <td>58.55</td>\n",
       "      <td>50.00</td>\n",
       "      <td>35.32</td>\n",
       "      <td>6,964,977.97</td>\n",
       "      <td>2910</td>\n",
       "      <td>24</td>\n",
       "    </tr>\n",
       "    <tr>\n",
       "      <th>4</th>\n",
       "      <td>Chimpers</td>\n",
       "      <td>0x80336ad7a747236ef41f47ed2c7641828a480baa</td>\n",
       "      <td>90</td>\n",
       "      <td>98,901.62</td>\n",
       "      <td>51.86</td>\n",
       "      <td>50.00</td>\n",
       "      <td>12.34</td>\n",
       "      <td>6,964,977.97</td>\n",
       "      <td>2910</td>\n",
       "      <td>24</td>\n",
       "    </tr>\n",
       "    <tr>\n",
       "      <th>4</th>\n",
       "      <td>HUXLEY Robots</td>\n",
       "      <td>0xbeb1d3357cd525947b16a9f7a2b3d50b50b977bd</td>\n",
       "      <td>34</td>\n",
       "      <td>18,008.64</td>\n",
       "      <td>51.21</td>\n",
       "      <td>52.00</td>\n",
       "      <td>29.05</td>\n",
       "      <td>6,964,977.97</td>\n",
       "      <td>2910</td>\n",
       "      <td>24</td>\n",
       "    </tr>\n",
       "    <tr>\n",
       "      <th>4</th>\n",
       "      <td>PudgyPresent</td>\n",
       "      <td>0x062e691c2054de82f28008a8ccc6d7a1c8ce060d</td>\n",
       "      <td>21</td>\n",
       "      <td>19,114.98</td>\n",
       "      <td>56.07</td>\n",
       "      <td>55.00</td>\n",
       "      <td>20.89</td>\n",
       "      <td>6,964,977.97</td>\n",
       "      <td>2910</td>\n",
       "      <td>24</td>\n",
       "    </tr>\n",
       "    <tr>\n",
       "      <th>4</th>\n",
       "      <td>Cold Blooded Creepz</td>\n",
       "      <td>0xfe8c6d19365453d26af321d0e8c910428c23873f</td>\n",
       "      <td>52</td>\n",
       "      <td>97,520.45</td>\n",
       "      <td>65.80</td>\n",
       "      <td>59.00</td>\n",
       "      <td>31.14</td>\n",
       "      <td>6,964,977.97</td>\n",
       "      <td>2910</td>\n",
       "      <td>24</td>\n",
       "    </tr>\n",
       "    <tr>\n",
       "      <th>4</th>\n",
       "      <td>rektguy</td>\n",
       "      <td>0xb852c6b5892256c264cc2c888ea462189154d8d7</td>\n",
       "      <td>876</td>\n",
       "      <td>1,166,737.47</td>\n",
       "      <td>61.13</td>\n",
       "      <td>60.00</td>\n",
       "      <td>22.40</td>\n",
       "      <td>6,964,977.97</td>\n",
       "      <td>2910</td>\n",
       "      <td>24</td>\n",
       "    </tr>\n",
       "    <tr>\n",
       "      <th>5</th>\n",
       "      <td>10KTF Gucci Grail</td>\n",
       "      <td>0x572e33ffa523865791ab1c26b42a86ac244df784</td>\n",
       "      <td>20</td>\n",
       "      <td>1,558.46</td>\n",
       "      <td>55.80</td>\n",
       "      <td>65.00</td>\n",
       "      <td>22.40</td>\n",
       "      <td>1,872,698.61</td>\n",
       "      <td>1169</td>\n",
       "      <td>12</td>\n",
       "    </tr>\n",
       "    <tr>\n",
       "      <th>5</th>\n",
       "      <td>Sewer Pass</td>\n",
       "      <td>0x764aeebcf425d56800ef2c84f2578689415a2daa</td>\n",
       "      <td>20</td>\n",
       "      <td>43,288.87</td>\n",
       "      <td>72.72</td>\n",
       "      <td>65.00</td>\n",
       "      <td>41.21</td>\n",
       "      <td>1,872,698.61</td>\n",
       "      <td>1169</td>\n",
       "      <td>12</td>\n",
       "    </tr>\n",
       "    <tr>\n",
       "      <th>5</th>\n",
       "      <td>Nina's Super Cool World</td>\n",
       "      <td>0x670d4dd2e6badfbbd372d0d37e06cd2852754a04</td>\n",
       "      <td>47</td>\n",
       "      <td>11,562.70</td>\n",
       "      <td>61.38</td>\n",
       "      <td>69.00</td>\n",
       "      <td>20.56</td>\n",
       "      <td>1,872,698.61</td>\n",
       "      <td>1169</td>\n",
       "      <td>12</td>\n",
       "    </tr>\n",
       "    <tr>\n",
       "      <th>5</th>\n",
       "      <td>KILLABEARS</td>\n",
       "      <td>0xc99c679c50033bbc5321eb88752e89a93e9e83c5</td>\n",
       "      <td>267</td>\n",
       "      <td>1,184,540.09</td>\n",
       "      <td>59.23</td>\n",
       "      <td>70.00</td>\n",
       "      <td>24.55</td>\n",
       "      <td>1,872,698.61</td>\n",
       "      <td>1169</td>\n",
       "      <td>12</td>\n",
       "    </tr>\n",
       "    <tr>\n",
       "      <th>5</th>\n",
       "      <td>Sandbox's LANDs</td>\n",
       "      <td>0x5cc5b05a8a13e3fbdb0bb9fccd98d38e50f90c38</td>\n",
       "      <td>141</td>\n",
       "      <td>120,612.22</td>\n",
       "      <td>66.03</td>\n",
       "      <td>70.99</td>\n",
       "      <td>26.24</td>\n",
       "      <td>1,872,698.61</td>\n",
       "      <td>1169</td>\n",
       "      <td>12</td>\n",
       "    </tr>\n",
       "    <tr>\n",
       "      <th>5</th>\n",
       "      <td>World of Women Galaxy</td>\n",
       "      <td>0xf61f24c2d93bf2de187546b14425bf631f28d6dc</td>\n",
       "      <td>30</td>\n",
       "      <td>7,580.59</td>\n",
       "      <td>69.71</td>\n",
       "      <td>74.00</td>\n",
       "      <td>24.60</td>\n",
       "      <td>1,872,698.61</td>\n",
       "      <td>1169</td>\n",
       "      <td>12</td>\n",
       "    </tr>\n",
       "    <tr>\n",
       "      <th>5</th>\n",
       "      <td>Opepen Edition</td>\n",
       "      <td>0x6339e5e072086621540d0362c4e3cea0d643e114</td>\n",
       "      <td>48</td>\n",
       "      <td>14,514.07</td>\n",
       "      <td>71.16</td>\n",
       "      <td>75.00</td>\n",
       "      <td>48.40</td>\n",
       "      <td>1,872,698.61</td>\n",
       "      <td>1169</td>\n",
       "      <td>12</td>\n",
       "    </tr>\n",
       "    <tr>\n",
       "      <th>5</th>\n",
       "      <td>Elemental by Fang Lijun</td>\n",
       "      <td>0xc9677cd8e9652f1b1aadd3429769b0ef8d7a0425</td>\n",
       "      <td>26</td>\n",
       "      <td>17,265.12</td>\n",
       "      <td>64.38</td>\n",
       "      <td>75.00</td>\n",
       "      <td>26.77</td>\n",
       "      <td>1,872,698.61</td>\n",
       "      <td>1169</td>\n",
       "      <td>12</td>\n",
       "    </tr>\n",
       "    <tr>\n",
       "      <th>5</th>\n",
       "      <td>KILLABITS</td>\n",
       "      <td>0x64a1c0937728d8d2fa8cd81ef61a9c860b7362db</td>\n",
       "      <td>108</td>\n",
       "      <td>129,649.17</td>\n",
       "      <td>66.93</td>\n",
       "      <td>75.00</td>\n",
       "      <td>22.49</td>\n",
       "      <td>1,872,698.61</td>\n",
       "      <td>1169</td>\n",
       "      <td>12</td>\n",
       "    </tr>\n",
       "    <tr>\n",
       "      <th>5</th>\n",
       "      <td>Goblinverse Island</td>\n",
       "      <td>0xb268db1c8d033d27d85f9d0efe20082ebcda391d</td>\n",
       "      <td>310</td>\n",
       "      <td>267,593.08</td>\n",
       "      <td>76.95</td>\n",
       "      <td>78.00</td>\n",
       "      <td>20.26</td>\n",
       "      <td>1,872,698.61</td>\n",
       "      <td>1169</td>\n",
       "      <td>12</td>\n",
       "    </tr>\n",
       "    <tr>\n",
       "      <th>5</th>\n",
       "      <td>Nakamigos</td>\n",
       "      <td>0xd774557b647330c91bf44cfeab205095f7e6c367</td>\n",
       "      <td>98</td>\n",
       "      <td>46,011.26</td>\n",
       "      <td>65.15</td>\n",
       "      <td>79.00</td>\n",
       "      <td>48.46</td>\n",
       "      <td>1,872,698.61</td>\n",
       "      <td>1169</td>\n",
       "      <td>12</td>\n",
       "    </tr>\n",
       "    <tr>\n",
       "      <th>5</th>\n",
       "      <td>NaN</td>\n",
       "      <td>0x79986af15539de2db9a5086382daeda917a9cf0c</td>\n",
       "      <td>33</td>\n",
       "      <td>13,032.58</td>\n",
       "      <td>79.15</td>\n",
       "      <td>80.00</td>\n",
       "      <td>10.98</td>\n",
       "      <td>1,872,698.61</td>\n",
       "      <td>1169</td>\n",
       "      <td>12</td>\n",
       "    </tr>\n",
       "    <tr>\n",
       "      <th>5</th>\n",
       "      <td>Ethlizards</td>\n",
       "      <td>0x16de9d750f4ac24226154c40980ef83d4d3fd4ad</td>\n",
       "      <td>21</td>\n",
       "      <td>15,490.41</td>\n",
       "      <td>83.38</td>\n",
       "      <td>90.00</td>\n",
       "      <td>17.49</td>\n",
       "      <td>1,872,698.61</td>\n",
       "      <td>1169</td>\n",
       "      <td>12</td>\n",
       "    </tr>\n",
       "  </tbody>\n",
       "</table>\n",
       "</div>"
      ],
      "text/plain": [
       "                              collection_name  \\\n",
       "cluster                                         \n",
       "1                        Bored Ape Yacht Club   \n",
       "1                                       Azuki   \n",
       "1        Friendship Bracelets by Alexis André   \n",
       "2                          MutantApeYachtClub   \n",
       "2                                  Terraforms   \n",
       "2                 Ethereum Name Service (ENS)   \n",
       "2                                The Captainz   \n",
       "2                                        mfer   \n",
       "2                                      Milady   \n",
       "2                                   Cool Cats   \n",
       "2                              Otherside Koda   \n",
       "2                                  Art Blocks   \n",
       "2                                   Moonbirds   \n",
       "2                                  VeeFriends   \n",
       "2                              BEANZ Official   \n",
       "3                         DigiDaigaku Genesis   \n",
       "3                                        FLUF   \n",
       "3                            Async Blueprints   \n",
       "3                               PudgyPenguins   \n",
       "3                                     Meebits   \n",
       "3                                      CloneX   \n",
       "3                       Bored Ape Kennel Club   \n",
       "3                                    Valhalla   \n",
       "3                                CyberBrokers   \n",
       "3                          Art Blocks Curated   \n",
       "3                                     Doodles   \n",
       "3                          CryptoDickbutts S3   \n",
       "3                                        Land   \n",
       "3                                  CyberKongz   \n",
       "3                                   0N1 Force   \n",
       "4                         NFTfi Locked Bundle   \n",
       "4                                 The Potatoz   \n",
       "4                               CyberKongz VX   \n",
       "4                           Otherside Vessels   \n",
       "4                         Checks - VV Edition   \n",
       "4                     Otherdeed for Otherside   \n",
       "4                                   Cryptoadz   \n",
       "4                                   Wolf Game   \n",
       "4                          Otherdeed Expanded   \n",
       "4                                       RENGA   \n",
       "4                              World Of Women   \n",
       "4                 MAX PAIN AND FRENS BY XCOPY   \n",
       "4                           Art Blocks x Pace   \n",
       "4                                      HV-MTL   \n",
       "4                                   LilPudgys   \n",
       "4                         NFTfi Locked Bundle   \n",
       "4                          Creepz by OVERLORD   \n",
       "4                               OnChainMonkey   \n",
       "4                   Murakami.Flowers Official   \n",
       "4                                    Chimpers   \n",
       "4                               HUXLEY Robots   \n",
       "4                                PudgyPresent   \n",
       "4                         Cold Blooded Creepz   \n",
       "4                                     rektguy   \n",
       "5                           10KTF Gucci Grail   \n",
       "5                                  Sewer Pass   \n",
       "5                     Nina's Super Cool World   \n",
       "5                                  KILLABEARS   \n",
       "5                             Sandbox's LANDs   \n",
       "5                       World of Women Galaxy   \n",
       "5                              Opepen Edition   \n",
       "5                     Elemental by Fang Lijun   \n",
       "5                                   KILLABITS   \n",
       "5                          Goblinverse Island   \n",
       "5                                   Nakamigos   \n",
       "5                                         NaN   \n",
       "5                                  Ethlizards   \n",
       "\n",
       "                                            address  count  borrow_volume  \\\n",
       "cluster                                                                     \n",
       "1        0xbc4ca0eda7647a8ab7c2061c2e118a18a936f13d     80   5,385,201.64   \n",
       "1        0xed5af388653567af2f388e6224dc7c4b3241c544    125   2,345,021.00   \n",
       "1        0x942bc2d3e7a589fe5bd4a5c6ef9727dfd82f5c8a    778     313,112.29   \n",
       "2        0x60e4d786628fea6478f785a6d7e704777c86a7c6    186   3,017,176.47   \n",
       "2        0x4e1f41613c9084fdb9e34e11fae9412427480e56     59     108,922.53   \n",
       "2        0x57f1887a8bf19b14fc0df6fd9b2acc9af147ea85     57      36,764.69   \n",
       "2        0x769272677fab02575e84945f03eca517acc544cc    142   1,084,539.07   \n",
       "2        0x79fcdef22feed20eddacbb2587640e45491b757f     36      44,932.24   \n",
       "2        0x5af0d9827e0c53e4799bb226655a1de152a425a5     29      78,295.10   \n",
       "2        0x1a92f7381b9f03921564a437210bb9396471050c     24      33,709.18   \n",
       "2        0xe012baf811cf9c05c408e879c399960d1f305903     34     356,943.02   \n",
       "2        0x99a9b7c1116f9ceeb1652de04d5969cce509b069     32      51,523.63   \n",
       "2        0x23581767a106ae21c074b2276d25e5c3e136a68b     74     399,615.27   \n",
       "2        0xa3aee8bce55beea1951ef834b99f3ac60d1abeeb     40     155,660.17   \n",
       "2        0x306b1ea3ecdf94ab739f1910bbda052ed4a9f949    107     239,392.76   \n",
       "3        0xd1258db6ac08eb0e625b75b371c023da478e94a9     87     548,829.70   \n",
       "3        0xccc441ac31f02cd96c153db6fd5fe0a2f4e6a68d     87     171,641.71   \n",
       "3        0xc143bbfcdbdbed6d454803804752a064a622c1f3     41     453,773.68   \n",
       "3        0xbd3531da5cf5857e7cfaa92426877b022e612cf8    248   1,598,249.90   \n",
       "3        0x7bd29408f11d2bfc23c34f18275bbf23bb716bc7    129     457,812.98   \n",
       "3        0x49cf6f5d44e70224e2e23fdcdd2c053f30ada28b    104     504,433.35   \n",
       "3        0xba30e5f9bb24caa003e9f2f0497ad287fdf95623     81     669,697.97   \n",
       "3        0x231d3559aa848bf10366fb9868590f01d34bf240     33      29,141.03   \n",
       "3        0x892848074ddea461a15f337250da3ce55580ca85     40      21,358.90   \n",
       "3        0xa7d8d9ef8d8ce8992df33d8b8cf4aebabd5bd270    521   2,500,071.95   \n",
       "3        0x8a90cab2b38dba80c64b7734e58ee1db38b8992e    143     775,334.03   \n",
       "3        0x42069abfe407c60cf4ae4112bedead391dba1cdb    199     433,197.13   \n",
       "3        0x2c88aa0956bc9813505d73575f653f69ada60923     55     400,295.61   \n",
       "3        0x57a204aa1042f6e66dd7730813f4024114d74f37     24     189,616.82   \n",
       "3        0x3bf2922f4520a8ba0c2efc3d2a1539678dad5e9d     22      16,735.86   \n",
       "4        0x46c9cfb32627b74f91e0b5ad575c247aec7e7847     58     444,710.93   \n",
       "4        0x39ee2c7b3cb80254225884ca001f57118c8f21b6    101     357,009.46   \n",
       "4        0x7ea3cca10668b8346aec0bf1844a49e995527c8b     82      31,206.22   \n",
       "4        0x5b1085136a811e55b2bb2ca1ea456ba82126a376     28      14,097.83   \n",
       "4        0x34eebee6942d8def3c125458d1a86e0a897fd6f9    156     199,307.95   \n",
       "4        0x34d85c9cdeb23fa97cb08333b511ac86e1c4e258    306   1,605,696.58   \n",
       "4        0x1cb1a5e65610aeff2551a50f76a87a7d3fb649c6     48      67,486.94   \n",
       "4        0x7f36182dee28c45de6072a34d29855bae76dbe2f     55     263,458.81   \n",
       "4        0x790b2cf29ed4f310bf7641f013c65d4560d28371     66     122,400.34   \n",
       "4        0x394e3d3044fc89fcdd966d3cb35ac0b32b0cda91    125     173,093.27   \n",
       "4        0xe785e82358879f061bc3dcac6f0444462d4b5330    104     191,576.66   \n",
       "4        0xd1169e5349d1cb9941f3dcba135c8a4b9eacfdde     59      36,693.24   \n",
       "4        0x64780ce53f6e966e18a22af13a2f97369580ec11     33      69,078.50   \n",
       "4        0x4b15a9c28034dc83db40cd810001427d3bd7163d     89     286,074.38   \n",
       "4        0x524cab2ec69124574082676e6f654a18df49a048    145      60,662.98   \n",
       "4        0x9a129032f01eb4ddd764c1777c81b771c34a2fbe     60   1,082,608.24   \n",
       "4        0x5946aeaab44e65eb370ffaa6a7ef2218cff9b47d    219     369,366.03   \n",
       "4        0x960b7a6bcd451c9968473f7bbfd9be826efd549a     77     167,232.15   \n",
       "4        0x7d8820fa92eb1584636f4f5b8515b5476b75171a     26      22,934.30   \n",
       "4        0x80336ad7a747236ef41f47ed2c7641828a480baa     90      98,901.62   \n",
       "4        0xbeb1d3357cd525947b16a9f7a2b3d50b50b977bd     34      18,008.64   \n",
       "4        0x062e691c2054de82f28008a8ccc6d7a1c8ce060d     21      19,114.98   \n",
       "4        0xfe8c6d19365453d26af321d0e8c910428c23873f     52      97,520.45   \n",
       "4        0xb852c6b5892256c264cc2c888ea462189154d8d7    876   1,166,737.47   \n",
       "5        0x572e33ffa523865791ab1c26b42a86ac244df784     20       1,558.46   \n",
       "5        0x764aeebcf425d56800ef2c84f2578689415a2daa     20      43,288.87   \n",
       "5        0x670d4dd2e6badfbbd372d0d37e06cd2852754a04     47      11,562.70   \n",
       "5        0xc99c679c50033bbc5321eb88752e89a93e9e83c5    267   1,184,540.09   \n",
       "5        0x5cc5b05a8a13e3fbdb0bb9fccd98d38e50f90c38    141     120,612.22   \n",
       "5        0xf61f24c2d93bf2de187546b14425bf631f28d6dc     30       7,580.59   \n",
       "5        0x6339e5e072086621540d0362c4e3cea0d643e114     48      14,514.07   \n",
       "5        0xc9677cd8e9652f1b1aadd3429769b0ef8d7a0425     26      17,265.12   \n",
       "5        0x64a1c0937728d8d2fa8cd81ef61a9c860b7362db    108     129,649.17   \n",
       "5        0xb268db1c8d033d27d85f9d0efe20082ebcda391d    310     267,593.08   \n",
       "5        0xd774557b647330c91bf44cfeab205095f7e6c367     98      46,011.26   \n",
       "5        0x79986af15539de2db9a5086382daeda917a9cf0c     33      13,032.58   \n",
       "5        0x16de9d750f4ac24226154c40980ef83d4d3fd4ad     21      15,490.41   \n",
       "\n",
       "         mean  median   std  borrow_volume_per_cluster  \\\n",
       "cluster                                                  \n",
       "1       30.33   15.00 49.39               8,043,334.93   \n",
       "1       17.93   17.00 10.61               8,043,334.93   \n",
       "1       38.49   19.00 27.18               8,043,334.93   \n",
       "2       33.94   23.00 38.00               5,607,474.11   \n",
       "2       26.42   24.00 10.68               5,607,474.11   \n",
       "2       32.84   25.00 29.27               5,607,474.11   \n",
       "2       32.12   25.00 31.00               5,607,474.11   \n",
       "2       27.85   26.00 16.74               5,607,474.11   \n",
       "2       42.71   29.00 24.05               5,607,474.11   \n",
       "2       32.97   29.00 24.15               5,607,474.11   \n",
       "2       32.29   30.00 16.05               5,607,474.11   \n",
       "2       35.48   30.00 20.20               5,607,474.11   \n",
       "2       33.98   30.00 13.36               5,607,474.11   \n",
       "2       32.78   30.00 16.49               5,607,474.11   \n",
       "2       32.86   33.00 21.63               5,607,474.11   \n",
       "3       33.81   33.00 14.64               8,770,190.62   \n",
       "3       37.13   35.00 20.09               8,770,190.62   \n",
       "3       42.15   35.00 18.16               8,770,190.62   \n",
       "3       40.12   35.00 19.37               8,770,190.62   \n",
       "3       35.16   38.00 12.96               8,770,190.62   \n",
       "3       42.50   38.00 22.41               8,770,190.62   \n",
       "3       49.76   38.50 31.90               8,770,190.62   \n",
       "3       40.31   38.99 29.34               8,770,190.62   \n",
       "3       47.01   39.00 23.74               8,770,190.62   \n",
       "3       42.71   39.00 23.25               8,770,190.62   \n",
       "3       47.46   39.00 33.60               8,770,190.62   \n",
       "3       40.35   39.00 11.48               8,770,190.62   \n",
       "3       41.52   39.99 14.46               8,770,190.62   \n",
       "3       46.53   39.99 19.01               8,770,190.62   \n",
       "3       45.03   40.00 37.46               8,770,190.62   \n",
       "4       42.41   40.00 16.26               6,964,977.97   \n",
       "4       41.37   40.20 14.13               6,964,977.97   \n",
       "4       54.43   42.00 20.52               6,964,977.97   \n",
       "4       39.83   44.00 22.22               6,964,977.97   \n",
       "4       55.49   44.00 27.77               6,964,977.97   \n",
       "4       53.05   45.00 29.07               6,964,977.97   \n",
       "4       45.51   45.00 21.28               6,964,977.97   \n",
       "4       48.82   45.00 19.11               6,964,977.97   \n",
       "4       41.64   46.50 15.15               6,964,977.97   \n",
       "4       49.19   47.50 25.07               6,964,977.97   \n",
       "4       48.65   49.00 26.94               6,964,977.97   \n",
       "4       44.04   49.00 28.76               6,964,977.97   \n",
       "4       51.85   49.00 21.27               6,964,977.97   \n",
       "4       47.79   49.00 19.31               6,964,977.97   \n",
       "4       48.46   49.99 26.95               6,964,977.97   \n",
       "4       51.51   50.00 25.23               6,964,977.97   \n",
       "4       54.22   50.00 16.96               6,964,977.97   \n",
       "4       49.80   50.00 19.47               6,964,977.97   \n",
       "4       58.55   50.00 35.32               6,964,977.97   \n",
       "4       51.86   50.00 12.34               6,964,977.97   \n",
       "4       51.21   52.00 29.05               6,964,977.97   \n",
       "4       56.07   55.00 20.89               6,964,977.97   \n",
       "4       65.80   59.00 31.14               6,964,977.97   \n",
       "4       61.13   60.00 22.40               6,964,977.97   \n",
       "5       55.80   65.00 22.40               1,872,698.61   \n",
       "5       72.72   65.00 41.21               1,872,698.61   \n",
       "5       61.38   69.00 20.56               1,872,698.61   \n",
       "5       59.23   70.00 24.55               1,872,698.61   \n",
       "5       66.03   70.99 26.24               1,872,698.61   \n",
       "5       69.71   74.00 24.60               1,872,698.61   \n",
       "5       71.16   75.00 48.40               1,872,698.61   \n",
       "5       64.38   75.00 26.77               1,872,698.61   \n",
       "5       66.93   75.00 22.49               1,872,698.61   \n",
       "5       76.95   78.00 20.26               1,872,698.61   \n",
       "5       65.15   79.00 48.46               1,872,698.61   \n",
       "5       79.15   80.00 10.98               1,872,698.61   \n",
       "5       83.38   90.00 17.49               1,872,698.61   \n",
       "\n",
       "         loan_count_per_cluster  nb_collection_per_cluster  \n",
       "cluster                                                     \n",
       "1                           983                          3  \n",
       "1                           983                          3  \n",
       "1                           983                          3  \n",
       "2                           820                         12  \n",
       "2                           820                         12  \n",
       "2                           820                         12  \n",
       "2                           820                         12  \n",
       "2                           820                         12  \n",
       "2                           820                         12  \n",
       "2                           820                         12  \n",
       "2                           820                         12  \n",
       "2                           820                         12  \n",
       "2                           820                         12  \n",
       "2                           820                         12  \n",
       "2                           820                         12  \n",
       "3                          1814                         15  \n",
       "3                          1814                         15  \n",
       "3                          1814                         15  \n",
       "3                          1814                         15  \n",
       "3                          1814                         15  \n",
       "3                          1814                         15  \n",
       "3                          1814                         15  \n",
       "3                          1814                         15  \n",
       "3                          1814                         15  \n",
       "3                          1814                         15  \n",
       "3                          1814                         15  \n",
       "3                          1814                         15  \n",
       "3                          1814                         15  \n",
       "3                          1814                         15  \n",
       "3                          1814                         15  \n",
       "4                          2910                         24  \n",
       "4                          2910                         24  \n",
       "4                          2910                         24  \n",
       "4                          2910                         24  \n",
       "4                          2910                         24  \n",
       "4                          2910                         24  \n",
       "4                          2910                         24  \n",
       "4                          2910                         24  \n",
       "4                          2910                         24  \n",
       "4                          2910                         24  \n",
       "4                          2910                         24  \n",
       "4                          2910                         24  \n",
       "4                          2910                         24  \n",
       "4                          2910                         24  \n",
       "4                          2910                         24  \n",
       "4                          2910                         24  \n",
       "4                          2910                         24  \n",
       "4                          2910                         24  \n",
       "4                          2910                         24  \n",
       "4                          2910                         24  \n",
       "4                          2910                         24  \n",
       "4                          2910                         24  \n",
       "4                          2910                         24  \n",
       "4                          2910                         24  \n",
       "5                          1169                         12  \n",
       "5                          1169                         12  \n",
       "5                          1169                         12  \n",
       "5                          1169                         12  \n",
       "5                          1169                         12  \n",
       "5                          1169                         12  \n",
       "5                          1169                         12  \n",
       "5                          1169                         12  \n",
       "5                          1169                         12  \n",
       "5                          1169                         12  \n",
       "5                          1169                         12  \n",
       "5                          1169                         12  \n",
       "5                          1169                         12  "
      ]
     },
     "execution_count": 5,
     "metadata": {},
     "output_type": "execute_result"
    }
   ],
   "source": [
    "# to view the table ordered by cluster, set the table index to the cluster:\n",
    "table.set_index('cluster')"
   ]
  },
  {
   "cell_type": "code",
   "execution_count": null,
   "metadata": {},
   "outputs": [],
   "source": []
  }
 ],
 "metadata": {
  "kernelspec": {
   "display_name": "venv",
   "language": "python",
   "name": "python3"
  },
  "language_info": {
   "codemirror_mode": {
    "name": "ipython",
    "version": 3
   },
   "file_extension": ".py",
   "mimetype": "text/x-python",
   "name": "python",
   "nbconvert_exporter": "python",
   "pygments_lexer": "ipython3",
   "version": "3.10.6"
  },
  "orig_nbformat": 4
 },
 "nbformat": 4,
 "nbformat_minor": 2
}
