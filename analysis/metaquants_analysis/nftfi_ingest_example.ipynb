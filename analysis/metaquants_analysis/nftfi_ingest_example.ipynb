{
 "cells": [
  {
   "cell_type": "code",
   "execution_count": 1,
   "metadata": {},
   "outputs": [],
   "source": [
    "import requests \n",
    "import pandas as pd"
   ]
  },
  {
   "cell_type": "code",
   "execution_count": 2,
   "metadata": {},
   "outputs": [],
   "source": [
    "API_KEY = ...\n",
    "\n",
    "response = requests.get(\"https://api.metaquants.xyz/v1/finance/peer-to-peer?type=borrow&protocol=nftfi&limit=500&order=ASC\", headers={\"x-api-key\": API_KEY}).json()\n",
    "df = pd.DataFrame(response[\"data\"])\n",
    "while True:\n",
    "    if isinstance(response[\"continuation\"], type(None)):\n",
    "        break\n",
    "\n",
    "    response = requests.get(\"https://api.metaquants.xyz/v1/finance/peer-to-peer?type=borrow&protocol=nftfi&limit=500&order=ASC&continuation={}\".format(response[\"continuation\"]), headers={\"x-api-key\": API_KEY}).json()\n",
    "    df = pd.concat([df, pd.DataFrame(response[\"data\"])]).reset_index(drop=True)"
   ]
  }
 ],
 "metadata": {
  "kernelspec": {
   "display_name": "Python 3.10.6 ('models')",
   "language": "python",
   "name": "python3"
  },
  "language_info": {
   "codemirror_mode": {
    "name": "ipython",
    "version": 3
   },
   "file_extension": ".py",
   "mimetype": "text/x-python",
   "name": "python",
   "nbconvert_exporter": "python",
   "pygments_lexer": "ipython3",
   "version": "3.10.6"
  },
  "orig_nbformat": 4,
  "vscode": {
   "interpreter": {
    "hash": "5029db999fa2e271a25bb456c824fb1cdacae1cdb2b1ab2f99f82fb11555b281"
   }
  }
 },
 "nbformat": 4,
 "nbformat_minor": 2
}
